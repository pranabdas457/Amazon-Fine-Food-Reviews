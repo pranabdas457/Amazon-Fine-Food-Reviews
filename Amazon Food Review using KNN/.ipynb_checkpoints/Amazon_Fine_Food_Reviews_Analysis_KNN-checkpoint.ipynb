{
 "cells": [
  {
   "cell_type": "markdown",
   "metadata": {
    "colab_type": "text",
    "id": "exce5-n8vUUb"
   },
   "source": [
    "# Amazon Fine Food Reviews Analysis\n",
    "\n",
    "\n",
    "Data Source: https://www.kaggle.com/snap/amazon-fine-food-reviews <br>\n",
    "\n",
    "EDA: https://nycdatascience.com/blog/student-works/amazon-fine-foods-visualization/\n",
    "\n",
    "\n",
    "The Amazon Fine Food Reviews dataset consists of reviews of fine foods from Amazon.<br>\n",
    "\n",
    "Number of reviews: 568,454<br>\n",
    "Number of users: 256,059<br>\n",
    "Number of products: 74,258<br>\n",
    "Timespan: Oct 1999 - Oct 2012<br>\n",
    "Number of Attributes/Columns in data: 10 \n",
    "\n",
    "Attribute Information:\n",
    "\n",
    "1. Id\n",
    "2. ProductId - unique identifier for the product\n",
    "3. UserId - unqiue identifier for the user\n",
    "4. ProfileName\n",
    "5. HelpfulnessNumerator - number of users who found the review helpful\n",
    "6. HelpfulnessDenominator - number of users who indicated whether they found the review helpful or not\n",
    "7. Score - rating between 1 and 5\n",
    "8. Time - timestamp for the review\n",
    "9. Summary - brief summary of the review\n",
    "10. Text - text of the review\n",
    "\n",
    "\n",
    "#### Objective:\n",
    "Given a review, determine whether the review is positive (rating of 4 or 5) or negative (rating of 1 or 2).\n",
    "\n",
    "<br>\n",
    "[Q] How to determine if a review is positive or negative?<br>\n",
    "<br> \n",
    "[Ans] We could use Score/Rating. A rating of 4 or 5 can be cosnidered as a positive review. A rating of 1 or 2 can be considered as negative one. A review of rating 3 is considered nuetral and such reviews are ignored from our analysis. This is an approximate and proxy way of determining the polarity (positivity/negativity) of a review.\n",
    "\n",
    "\n"
   ]
  },
  {
   "cell_type": "markdown",
   "metadata": {
    "colab_type": "text",
    "id": "YDzS8ih7vUUg"
   },
   "source": [
    "# [1]. Reading Data"
   ]
  },
  {
   "cell_type": "markdown",
   "metadata": {
    "colab_type": "text",
    "id": "Gs3DFHogvUUi"
   },
   "source": [
    "## [1.1] Loading the data\n",
    "\n",
    "The dataset is available in two forms\n",
    "1. .csv file\n",
    "2. SQLite Database\n",
    "\n",
    "In order to load the data, We have used the SQLITE dataset as it is easier to query the data and visualise the data efficiently.\n",
    "<br> \n",
    "\n",
    "Here as we only want to get the global sentiment of the recommendations (positive or negative), we will purposefully ignore all Scores equal to 3. If the score is above 3, then the recommendation wil be set to \"positive\". Otherwise, it will be set to \"negative\"."
   ]
  },
  {
   "cell_type": "code",
   "execution_count": 1,
   "metadata": {
    "colab": {
     "base_uri": "https://localhost:8080/",
     "height": 442
    },
    "colab_type": "code",
    "id": "2i9a0cnlvUUl",
    "outputId": "71a53ade-6192-4c77-b945-f8fef7ab829f"
   },
   "outputs": [
    {
     "name": "stdout",
     "output_type": "stream",
     "text": [
      "Collecting pandasql\n",
      "  Downloading https://files.pythonhosted.org/packages/6b/c4/ee4096ffa2eeeca0c749b26f0371bd26aa5c8b611c43de99a4f86d3de0a7/pandasql-0.7.3.tar.gz\n",
      "Requirement already satisfied: numpy in /usr/local/lib/python3.6/dist-packages (from pandasql) (1.14.6)\n",
      "Requirement already satisfied: pandas in /usr/local/lib/python3.6/dist-packages (from pandasql) (0.22.0)\n",
      "Requirement already satisfied: sqlalchemy in /usr/local/lib/python3.6/dist-packages (from pandasql) (1.3.1)\n",
      "Requirement already satisfied: python-dateutil>=2 in /usr/local/lib/python3.6/dist-packages (from pandas->pandasql) (2.5.3)\n",
      "Requirement already satisfied: pytz>=2011k in /usr/local/lib/python3.6/dist-packages (from pandas->pandasql) (2018.9)\n",
      "Requirement already satisfied: six>=1.5 in /usr/local/lib/python3.6/dist-packages (from python-dateutil>=2->pandas->pandasql) (1.11.0)\n",
      "Building wheels for collected packages: pandasql\n",
      "  Building wheel for pandasql (setup.py) ... \u001b[?25ldone\n",
      "\u001b[?25h  Stored in directory: /root/.cache/pip/wheels/53/6c/18/b87a2e5fa8a82e9c026311de56210b8d1c01846e18a9607fc9\n",
      "Successfully built pandasql\n",
      "Installing collected packages: pandasql\n",
      "Successfully installed pandasql-0.7.3\n",
      "Requirement already satisfied: kaggle in /usr/local/lib/python3.6/dist-packages (1.5.3)\n",
      "Requirement already satisfied: urllib3<1.25,>=1.21.1 in /usr/local/lib/python3.6/dist-packages (from kaggle) (1.22)\n",
      "Requirement already satisfied: six>=1.10 in /usr/local/lib/python3.6/dist-packages (from kaggle) (1.11.0)\n",
      "Requirement already satisfied: certifi in /usr/local/lib/python3.6/dist-packages (from kaggle) (2019.3.9)\n",
      "Requirement already satisfied: python-dateutil in /usr/local/lib/python3.6/dist-packages (from kaggle) (2.5.3)\n",
      "Requirement already satisfied: requests in /usr/local/lib/python3.6/dist-packages (from kaggle) (2.18.4)\n",
      "Requirement already satisfied: tqdm in /usr/local/lib/python3.6/dist-packages (from kaggle) (4.28.1)\n",
      "Requirement already satisfied: python-slugify in /usr/local/lib/python3.6/dist-packages (from kaggle) (3.0.0)\n",
      "Requirement already satisfied: chardet<3.1.0,>=3.0.2 in /usr/local/lib/python3.6/dist-packages (from requests->kaggle) (3.0.4)\n",
      "Requirement already satisfied: idna<2.7,>=2.5 in /usr/local/lib/python3.6/dist-packages (from requests->kaggle) (2.6)\n",
      "Requirement already satisfied: text-unidecode==1.2 in /usr/local/lib/python3.6/dist-packages (from python-slugify->kaggle) (1.2)\n"
     ]
    }
   ],
   "source": [
    "%matplotlib inline\n",
    "import warnings\n",
    "warnings.filterwarnings(\"ignore\")\n",
    "\n",
    "\n",
    "import sqlite3\n",
    "import pandas as pd\n",
    "import numpy as np\n",
    "import nltk\n",
    "import string\n",
    "import matplotlib.pyplot as plt\n",
    "import seaborn as sns\n",
    "from sklearn.feature_extraction.text import TfidfTransformer\n",
    "from sklearn.feature_extraction.text import TfidfVectorizer\n",
    "\n",
    "from sklearn.feature_extraction.text import CountVectorizer\n",
    "from sklearn.metrics import confusion_matrix\n",
    "from sklearn import metrics\n",
    "from sklearn.metrics import roc_curve, auc\n",
    "from nltk.stem.porter import PorterStemmer\n",
    "from google.colab import drive\n",
    "\n",
    "\n",
    "import re\n",
    "# Tutorial about Python regular expressions: https://pymotw.com/2/re/\n",
    "import string\n",
    "from nltk.corpus import stopwords\n",
    "from nltk.stem import PorterStemmer\n",
    "from nltk.stem.wordnet import WordNetLemmatizer\n",
    "\n",
    "from gensim.models import Word2Vec\n",
    "from gensim.models import KeyedVectors\n",
    "import pickle\n",
    "\n",
    "from tqdm import tqdm\n",
    "import os\n",
    "!pip install pandasql\n",
    "import pandasql as ps\n",
    "!pip install kaggle\n"
   ]
  },
  {
   "cell_type": "code",
   "execution_count": 3,
   "metadata": {
    "colab": {
     "base_uri": "https://localhost:8080/",
     "height": 91,
     "resources": {
      "http://localhost:8080/nbextensions/google.colab/files.js": {
       "data": "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",
       "headers": [
        [
         "content-type",
         "application/javascript"
        ]
       ],
       "ok": true,
       "status": 200,
       "status_text": ""
      }
     }
    },
    "colab_type": "code",
    "id": "QH31nQdb3TGp",
    "outputId": "8e888a2c-9823-4466-f8c5-35da07611dc0"
   },
   "outputs": [
    {
     "data": {
      "text/html": [
       "\n",
       "     <input type=\"file\" id=\"files-128dbb10-7f6f-412a-a40f-0f109a4c260e\" name=\"files[]\" multiple disabled />\n",
       "     <output id=\"result-128dbb10-7f6f-412a-a40f-0f109a4c260e\">\n",
       "      Upload widget is only available when the cell has been executed in the\n",
       "      current browser session. Please rerun this cell to enable.\n",
       "      </output>\n",
       "      <script src=\"/nbextensions/google.colab/files.js\"></script> "
      ],
      "text/plain": [
       "<IPython.core.display.HTML object>"
      ]
     },
     "metadata": {
      "tags": []
     },
     "output_type": "display_data"
    },
    {
     "name": "stdout",
     "output_type": "stream",
     "text": [
      "Saving kaggle.json to kaggle.json\n"
     ]
    },
    {
     "data": {
      "text/plain": [
       "{'kaggle.json': b'{\"username\":\"pranabdas457\",\"key\":\"8d3a5d1700d8cdee57bf3120ba69c59e\"}'}"
      ]
     },
     "execution_count": 3,
     "metadata": {
      "tags": []
     },
     "output_type": "execute_result"
    }
   ],
   "source": [
    "#upload the credentials of the kaggle account\n",
    "from google.colab import files\n",
    "files.upload()"
   ]
  },
  {
   "cell_type": "code",
   "execution_count": 0,
   "metadata": {
    "colab": {},
    "colab_type": "code",
    "id": "fW3HIpCW4q-H"
   },
   "outputs": [],
   "source": [
    "#before importing the dataset we want to use this code\n",
    "# The Kaggle API client expects this file to be in ~/.kaggle,\n",
    "!mkdir -p ~/.kaggle\n",
    "!cp kaggle.json ~/.kaggle/\n",
    "\n",
    "# This permissions change avoids a warning on Kaggle tool startup.\n",
    "!chmod 600 ~/.kaggle/kaggle.json"
   ]
  },
  {
   "cell_type": "code",
   "execution_count": 5,
   "metadata": {
    "colab": {
     "base_uri": "https://localhost:8080/",
     "height": 34
    },
    "colab_type": "code",
    "id": "O6LP58BgdKkd",
    "outputId": "1a98ff33-6cd7-47ae-8716-160f0a5c8f1c"
   },
   "outputs": [
    {
     "name": "stdout",
     "output_type": "stream",
     "text": [
      "kaggle.json  sample_data\n"
     ]
    }
   ],
   "source": [
    "!ls\n"
   ]
  },
  {
   "cell_type": "code",
   "execution_count": 6,
   "metadata": {
    "colab": {
     "base_uri": "https://localhost:8080/",
     "height": 68
    },
    "colab_type": "code",
    "id": "57c6PUbb4x4W",
    "outputId": "041aaecc-5c3b-4db7-ce64-c295d781d973"
   },
   "outputs": [
    {
     "name": "stdout",
     "output_type": "stream",
     "text": [
      "Downloading amazon-fine-food-reviews.zip to /content\n",
      " 98% 246M/251M [00:02<00:00, 135MB/s]\n",
      "100% 251M/251M [00:02<00:00, 110MB/s]\n"
     ]
    }
   ],
   "source": [
    "#import the dataset we want to use for our project\n",
    "!kaggle datasets download -d snap/amazon-fine-food-reviews --force"
   ]
  },
  {
   "cell_type": "code",
   "execution_count": 7,
   "metadata": {
    "colab": {
     "base_uri": "https://localhost:8080/",
     "height": 34
    },
    "colab_type": "code",
    "id": "mSnEYieI9Grs",
    "outputId": "64527f83-fe86-42b1-a527-a2a18b909739"
   },
   "outputs": [
    {
     "name": "stdout",
     "output_type": "stream",
     "text": [
      "amazon-fine-food-reviews.zip  kaggle.json  sample_data\n"
     ]
    }
   ],
   "source": [
    "!ls"
   ]
  },
  {
   "cell_type": "code",
   "execution_count": 8,
   "metadata": {
    "colab": {
     "base_uri": "https://localhost:8080/",
     "height": 85
    },
    "colab_type": "code",
    "id": "84D83hqo9Ppz",
    "outputId": "dd410a6c-4398-47aa-d809-bb9a2c3fc8ed"
   },
   "outputs": [
    {
     "name": "stdout",
     "output_type": "stream",
     "text": [
      "Archive:  amazon-fine-food-reviews.zip\n",
      "  inflating: Reviews.csv             \n",
      "  inflating: database.sqlite         \n",
      "  inflating: hashes.txt              \n"
     ]
    }
   ],
   "source": [
    "!unzip amazon-fine-food-reviews.zip"
   ]
  },
  {
   "cell_type": "code",
   "execution_count": 9,
   "metadata": {
    "colab": {
     "base_uri": "https://localhost:8080/",
     "height": 51
    },
    "colab_type": "code",
    "id": "wX3FDkVz9Wrp",
    "outputId": "a0b356ed-3814-4d38-c000-7b5f5fc2efb7"
   },
   "outputs": [
    {
     "name": "stdout",
     "output_type": "stream",
     "text": [
      "amazon-fine-food-reviews.zip  hashes.txt   Reviews.csv\n",
      "database.sqlite\t\t      kaggle.json  sample_data\n"
     ]
    }
   ],
   "source": [
    "!ls"
   ]
  },
  {
   "cell_type": "code",
   "execution_count": 10,
   "metadata": {
    "colab": {
     "base_uri": "https://localhost:8080/",
     "height": 340
    },
    "colab_type": "code",
    "id": "rsaqspsZvUUu",
    "outputId": "8dcb64d6-71f7-44f9-bd4f-ea56f3c7c364"
   },
   "outputs": [
    {
     "name": "stdout",
     "output_type": "stream",
     "text": [
      "Number of data points in our data (70000, 10)\n"
     ]
    },
    {
     "data": {
      "text/html": [
       "<div>\n",
       "<style scoped>\n",
       "    .dataframe tbody tr th:only-of-type {\n",
       "        vertical-align: middle;\n",
       "    }\n",
       "\n",
       "    .dataframe tbody tr th {\n",
       "        vertical-align: top;\n",
       "    }\n",
       "\n",
       "    .dataframe thead th {\n",
       "        text-align: right;\n",
       "    }\n",
       "</style>\n",
       "<table border=\"1\" class=\"dataframe\">\n",
       "  <thead>\n",
       "    <tr style=\"text-align: right;\">\n",
       "      <th></th>\n",
       "      <th>Id</th>\n",
       "      <th>ProductId</th>\n",
       "      <th>UserId</th>\n",
       "      <th>ProfileName</th>\n",
       "      <th>HelpfulnessNumerator</th>\n",
       "      <th>HelpfulnessDenominator</th>\n",
       "      <th>Score</th>\n",
       "      <th>Time</th>\n",
       "      <th>Summary</th>\n",
       "      <th>Text</th>\n",
       "    </tr>\n",
       "  </thead>\n",
       "  <tbody>\n",
       "    <tr>\n",
       "      <th>0</th>\n",
       "      <td>1</td>\n",
       "      <td>B001E4KFG0</td>\n",
       "      <td>A3SGXH7AUHU8GW</td>\n",
       "      <td>delmartian</td>\n",
       "      <td>1</td>\n",
       "      <td>1</td>\n",
       "      <td>1</td>\n",
       "      <td>1303862400</td>\n",
       "      <td>Good Quality Dog Food</td>\n",
       "      <td>I have bought several of the Vitality canned d...</td>\n",
       "    </tr>\n",
       "    <tr>\n",
       "      <th>1</th>\n",
       "      <td>2</td>\n",
       "      <td>B00813GRG4</td>\n",
       "      <td>A1D87F6ZCVE5NK</td>\n",
       "      <td>dll pa</td>\n",
       "      <td>0</td>\n",
       "      <td>0</td>\n",
       "      <td>0</td>\n",
       "      <td>1346976000</td>\n",
       "      <td>Not as Advertised</td>\n",
       "      <td>Product arrived labeled as Jumbo Salted Peanut...</td>\n",
       "    </tr>\n",
       "    <tr>\n",
       "      <th>2</th>\n",
       "      <td>3</td>\n",
       "      <td>B000LQOCH0</td>\n",
       "      <td>ABXLMWJIXXAIN</td>\n",
       "      <td>Natalia Corres \"Natalia Corres\"</td>\n",
       "      <td>1</td>\n",
       "      <td>1</td>\n",
       "      <td>1</td>\n",
       "      <td>1219017600</td>\n",
       "      <td>\"Delight\" says it all</td>\n",
       "      <td>This is a confection that has been around a fe...</td>\n",
       "    </tr>\n",
       "    <tr>\n",
       "      <th>3</th>\n",
       "      <td>4</td>\n",
       "      <td>B000UA0QIQ</td>\n",
       "      <td>A395BORC6FGVXV</td>\n",
       "      <td>Karl</td>\n",
       "      <td>3</td>\n",
       "      <td>3</td>\n",
       "      <td>0</td>\n",
       "      <td>1307923200</td>\n",
       "      <td>Cough Medicine</td>\n",
       "      <td>If you are looking for the secret ingredient i...</td>\n",
       "    </tr>\n",
       "    <tr>\n",
       "      <th>4</th>\n",
       "      <td>5</td>\n",
       "      <td>B006K2ZZ7K</td>\n",
       "      <td>A1UQRSCLF8GW1T</td>\n",
       "      <td>Michael D. Bigham \"M. Wassir\"</td>\n",
       "      <td>0</td>\n",
       "      <td>0</td>\n",
       "      <td>1</td>\n",
       "      <td>1350777600</td>\n",
       "      <td>Great taffy</td>\n",
       "      <td>Great taffy at a great price.  There was a wid...</td>\n",
       "    </tr>\n",
       "  </tbody>\n",
       "</table>\n",
       "</div>"
      ],
      "text/plain": [
       "   Id   ProductId          UserId                      ProfileName  \\\n",
       "0   1  B001E4KFG0  A3SGXH7AUHU8GW                       delmartian   \n",
       "1   2  B00813GRG4  A1D87F6ZCVE5NK                           dll pa   \n",
       "2   3  B000LQOCH0   ABXLMWJIXXAIN  Natalia Corres \"Natalia Corres\"   \n",
       "3   4  B000UA0QIQ  A395BORC6FGVXV                             Karl   \n",
       "4   5  B006K2ZZ7K  A1UQRSCLF8GW1T    Michael D. Bigham \"M. Wassir\"   \n",
       "\n",
       "   HelpfulnessNumerator  HelpfulnessDenominator  Score        Time  \\\n",
       "0                     1                       1      1  1303862400   \n",
       "1                     0                       0      0  1346976000   \n",
       "2                     1                       1      1  1219017600   \n",
       "3                     3                       3      0  1307923200   \n",
       "4                     0                       0      1  1350777600   \n",
       "\n",
       "                 Summary                                               Text  \n",
       "0  Good Quality Dog Food  I have bought several of the Vitality canned d...  \n",
       "1      Not as Advertised  Product arrived labeled as Jumbo Salted Peanut...  \n",
       "2  \"Delight\" says it all  This is a confection that has been around a fe...  \n",
       "3         Cough Medicine  If you are looking for the secret ingredient i...  \n",
       "4            Great taffy  Great taffy at a great price.  There was a wid...  "
      ]
     },
     "execution_count": 10,
     "metadata": {
      "tags": []
     },
     "output_type": "execute_result"
    }
   ],
   "source": [
    "# using SQLite Table to read data.\n",
    "con = sqlite3.connect('database.sqlite') \n",
    "\n",
    "# filtering only positive and negative reviews i.e. \n",
    "# not taking into consideration those reviews with Score=3\n",
    "# SELECT * FROM Reviews WHERE Score != 3 LIMIT 500000, will give top 500000 data points\n",
    "# you can change the number to any other number based on your computing power\n",
    "\n",
    "filtered_data = pd.read_sql_query(\"\"\" SELECT * FROM Reviews WHERE Score != 3 LIMIT 70000\"\"\", con) \n",
    "# for tsne assignment you can take 5k data points\n",
    "\n",
    "#filtered_data = pd.read_sql_query(\"\"\" SELECT * FROM Reviews WHERE Score != 3 LIMIT 5000\"\"\", con) \n",
    "\n",
    "# Give reviews with Score>3 a positive rating(1), and reviews with a score<3 a negative rating(0).\n",
    "def partition(x):\n",
    "    if x < 3:\n",
    "        return 0\n",
    "    return 1\n",
    "\n",
    "#changing reviews with score less than 3 to be positive and vice-versa\n",
    "actualScore = filtered_data['Score']\n",
    "positiveNegative = actualScore.map(partition) \n",
    "filtered_data['Score'] = positiveNegative\n",
    "print(\"Number of data points in our data\", filtered_data.shape)\n",
    "filtered_data.head(5)"
   ]
  },
  {
   "cell_type": "code",
   "execution_count": 0,
   "metadata": {
    "colab": {},
    "colab_type": "code",
    "id": "dIowIyZ8vUU7"
   },
   "outputs": [],
   "source": [
    "display = pd.read_sql_query(\"\"\"\n",
    "SELECT UserId, ProductId, ProfileName, Time, Score, Text, COUNT(*)\n",
    "FROM Reviews\n",
    "GROUP BY UserId\n",
    "HAVING COUNT(*)>1\n",
    "\"\"\", con)"
   ]
  },
  {
   "cell_type": "code",
   "execution_count": 12,
   "metadata": {
    "colab": {
     "base_uri": "https://localhost:8080/",
     "height": 221
    },
    "colab_type": "code",
    "id": "3JI91nflvUU-",
    "outputId": "3be114a8-3b01-4e24-d090-bb493c999609",
    "scrolled": true
   },
   "outputs": [
    {
     "name": "stdout",
     "output_type": "stream",
     "text": [
      "(80668, 7)\n"
     ]
    },
    {
     "data": {
      "text/html": [
       "<div>\n",
       "<style scoped>\n",
       "    .dataframe tbody tr th:only-of-type {\n",
       "        vertical-align: middle;\n",
       "    }\n",
       "\n",
       "    .dataframe tbody tr th {\n",
       "        vertical-align: top;\n",
       "    }\n",
       "\n",
       "    .dataframe thead th {\n",
       "        text-align: right;\n",
       "    }\n",
       "</style>\n",
       "<table border=\"1\" class=\"dataframe\">\n",
       "  <thead>\n",
       "    <tr style=\"text-align: right;\">\n",
       "      <th></th>\n",
       "      <th>UserId</th>\n",
       "      <th>ProductId</th>\n",
       "      <th>ProfileName</th>\n",
       "      <th>Time</th>\n",
       "      <th>Score</th>\n",
       "      <th>Text</th>\n",
       "      <th>COUNT(*)</th>\n",
       "    </tr>\n",
       "  </thead>\n",
       "  <tbody>\n",
       "    <tr>\n",
       "      <th>0</th>\n",
       "      <td>#oc-R115TNMSPFT9I7</td>\n",
       "      <td>B007Y59HVM</td>\n",
       "      <td>Breyton</td>\n",
       "      <td>1331510400</td>\n",
       "      <td>2</td>\n",
       "      <td>Overall its just OK when considering the price...</td>\n",
       "      <td>2</td>\n",
       "    </tr>\n",
       "    <tr>\n",
       "      <th>1</th>\n",
       "      <td>#oc-R11D9D7SHXIJB9</td>\n",
       "      <td>B005HG9ET0</td>\n",
       "      <td>Louis E. Emory \"hoppy\"</td>\n",
       "      <td>1342396800</td>\n",
       "      <td>5</td>\n",
       "      <td>My wife has recurring extreme muscle spasms, u...</td>\n",
       "      <td>3</td>\n",
       "    </tr>\n",
       "    <tr>\n",
       "      <th>2</th>\n",
       "      <td>#oc-R11DNU2NBKQ23Z</td>\n",
       "      <td>B007Y59HVM</td>\n",
       "      <td>Kim Cieszykowski</td>\n",
       "      <td>1348531200</td>\n",
       "      <td>1</td>\n",
       "      <td>This coffee is horrible and unfortunately not ...</td>\n",
       "      <td>2</td>\n",
       "    </tr>\n",
       "    <tr>\n",
       "      <th>3</th>\n",
       "      <td>#oc-R11O5J5ZVQE25C</td>\n",
       "      <td>B005HG9ET0</td>\n",
       "      <td>Penguin Chick</td>\n",
       "      <td>1346889600</td>\n",
       "      <td>5</td>\n",
       "      <td>This will be the bottle that you grab from the...</td>\n",
       "      <td>3</td>\n",
       "    </tr>\n",
       "    <tr>\n",
       "      <th>4</th>\n",
       "      <td>#oc-R12KPBODL2B5ZD</td>\n",
       "      <td>B007OSBE1U</td>\n",
       "      <td>Christopher P. Presta</td>\n",
       "      <td>1348617600</td>\n",
       "      <td>1</td>\n",
       "      <td>I didnt like this coffee. Instead of telling y...</td>\n",
       "      <td>2</td>\n",
       "    </tr>\n",
       "  </tbody>\n",
       "</table>\n",
       "</div>"
      ],
      "text/plain": [
       "               UserId   ProductId             ProfileName        Time  Score  \\\n",
       "0  #oc-R115TNMSPFT9I7  B007Y59HVM                 Breyton  1331510400      2   \n",
       "1  #oc-R11D9D7SHXIJB9  B005HG9ET0  Louis E. Emory \"hoppy\"  1342396800      5   \n",
       "2  #oc-R11DNU2NBKQ23Z  B007Y59HVM        Kim Cieszykowski  1348531200      1   \n",
       "3  #oc-R11O5J5ZVQE25C  B005HG9ET0           Penguin Chick  1346889600      5   \n",
       "4  #oc-R12KPBODL2B5ZD  B007OSBE1U   Christopher P. Presta  1348617600      1   \n",
       "\n",
       "                                                Text  COUNT(*)  \n",
       "0  Overall its just OK when considering the price...         2  \n",
       "1  My wife has recurring extreme muscle spasms, u...         3  \n",
       "2  This coffee is horrible and unfortunately not ...         2  \n",
       "3  This will be the bottle that you grab from the...         3  \n",
       "4  I didnt like this coffee. Instead of telling y...         2  "
      ]
     },
     "execution_count": 12,
     "metadata": {
      "tags": []
     },
     "output_type": "execute_result"
    }
   ],
   "source": [
    "print(display.shape)\n",
    "display.head()"
   ]
  },
  {
   "cell_type": "code",
   "execution_count": 13,
   "metadata": {
    "colab": {
     "base_uri": "https://localhost:8080/",
     "height": 80
    },
    "colab_type": "code",
    "id": "r0Q6zgbcvUVF",
    "outputId": "66cb975a-194f-42b8-cf3f-58ee20167f59"
   },
   "outputs": [
    {
     "data": {
      "text/html": [
       "<div>\n",
       "<style scoped>\n",
       "    .dataframe tbody tr th:only-of-type {\n",
       "        vertical-align: middle;\n",
       "    }\n",
       "\n",
       "    .dataframe tbody tr th {\n",
       "        vertical-align: top;\n",
       "    }\n",
       "\n",
       "    .dataframe thead th {\n",
       "        text-align: right;\n",
       "    }\n",
       "</style>\n",
       "<table border=\"1\" class=\"dataframe\">\n",
       "  <thead>\n",
       "    <tr style=\"text-align: right;\">\n",
       "      <th></th>\n",
       "      <th>UserId</th>\n",
       "      <th>ProductId</th>\n",
       "      <th>ProfileName</th>\n",
       "      <th>Time</th>\n",
       "      <th>Score</th>\n",
       "      <th>Text</th>\n",
       "      <th>COUNT(*)</th>\n",
       "    </tr>\n",
       "  </thead>\n",
       "  <tbody>\n",
       "    <tr>\n",
       "      <th>1</th>\n",
       "      <td>#oc-R11D9D7SHXIJB9</td>\n",
       "      <td>B005HG9ET0</td>\n",
       "      <td>Louis E. Emory \"hoppy\"</td>\n",
       "      <td>1342396800</td>\n",
       "      <td>5</td>\n",
       "      <td>My wife has recurring extreme muscle spasms, u...</td>\n",
       "      <td>3</td>\n",
       "    </tr>\n",
       "  </tbody>\n",
       "</table>\n",
       "</div>"
      ],
      "text/plain": [
       "               UserId   ProductId             ProfileName        Time  Score  \\\n",
       "1  #oc-R11D9D7SHXIJB9  B005HG9ET0  Louis E. Emory \"hoppy\"  1342396800      5   \n",
       "\n",
       "                                                Text  COUNT(*)  \n",
       "1  My wife has recurring extreme muscle spasms, u...         3  "
      ]
     },
     "execution_count": 13,
     "metadata": {
      "tags": []
     },
     "output_type": "execute_result"
    }
   ],
   "source": [
    "display[display['UserId']=='#oc-R11D9D7SHXIJB9']"
   ]
  },
  {
   "cell_type": "code",
   "execution_count": 14,
   "metadata": {
    "colab": {
     "base_uri": "https://localhost:8080/",
     "height": 34
    },
    "colab_type": "code",
    "id": "EqK5FWbDvUVJ",
    "outputId": "0f7b1dbe-02dd-4781-a7cb-e4defee69721"
   },
   "outputs": [
    {
     "data": {
      "text/plain": [
       "393063"
      ]
     },
     "execution_count": 14,
     "metadata": {
      "tags": []
     },
     "output_type": "execute_result"
    }
   ],
   "source": [
    "display['COUNT(*)'].sum()"
   ]
  },
  {
   "cell_type": "markdown",
   "metadata": {
    "colab_type": "text",
    "id": "Zy1mEw3JvUVQ"
   },
   "source": [
    "#  [2] Exploratory Data Analysis"
   ]
  },
  {
   "cell_type": "markdown",
   "metadata": {
    "colab_type": "text",
    "id": "5YpyyvEtvUVS"
   },
   "source": [
    "## [2.1] Data Cleaning: Deduplication\n",
    "\n",
    "It is observed (as shown in the table below) that the reviews data had many duplicate entries. Hence it was necessary to remove duplicates in order to get unbiased results for the analysis of the data.  Following is an example:"
   ]
  },
  {
   "cell_type": "code",
   "execution_count": 15,
   "metadata": {
    "colab": {
     "base_uri": "https://localhost:8080/",
     "height": 459
    },
    "colab_type": "code",
    "id": "xsZPCWNyvUVU",
    "outputId": "64a36c8b-809d-41e3-c553-c57ee49a66d4",
    "scrolled": false
   },
   "outputs": [
    {
     "data": {
      "text/html": [
       "<div>\n",
       "<style scoped>\n",
       "    .dataframe tbody tr th:only-of-type {\n",
       "        vertical-align: middle;\n",
       "    }\n",
       "\n",
       "    .dataframe tbody tr th {\n",
       "        vertical-align: top;\n",
       "    }\n",
       "\n",
       "    .dataframe thead th {\n",
       "        text-align: right;\n",
       "    }\n",
       "</style>\n",
       "<table border=\"1\" class=\"dataframe\">\n",
       "  <thead>\n",
       "    <tr style=\"text-align: right;\">\n",
       "      <th></th>\n",
       "      <th>Id</th>\n",
       "      <th>ProductId</th>\n",
       "      <th>UserId</th>\n",
       "      <th>ProfileName</th>\n",
       "      <th>HelpfulnessNumerator</th>\n",
       "      <th>HelpfulnessDenominator</th>\n",
       "      <th>Score</th>\n",
       "      <th>Time</th>\n",
       "      <th>Summary</th>\n",
       "      <th>Text</th>\n",
       "    </tr>\n",
       "  </thead>\n",
       "  <tbody>\n",
       "    <tr>\n",
       "      <th>0</th>\n",
       "      <td>78445</td>\n",
       "      <td>B000HDL1RQ</td>\n",
       "      <td>AR5J8UI46CURR</td>\n",
       "      <td>Geetha Krishnan</td>\n",
       "      <td>2</td>\n",
       "      <td>2</td>\n",
       "      <td>5</td>\n",
       "      <td>1199577600</td>\n",
       "      <td>LOACKER QUADRATINI VANILLA WAFERS</td>\n",
       "      <td>DELICIOUS WAFERS. I FIND THAT EUROPEAN WAFERS ...</td>\n",
       "    </tr>\n",
       "    <tr>\n",
       "      <th>1</th>\n",
       "      <td>138317</td>\n",
       "      <td>B000HDOPYC</td>\n",
       "      <td>AR5J8UI46CURR</td>\n",
       "      <td>Geetha Krishnan</td>\n",
       "      <td>2</td>\n",
       "      <td>2</td>\n",
       "      <td>5</td>\n",
       "      <td>1199577600</td>\n",
       "      <td>LOACKER QUADRATINI VANILLA WAFERS</td>\n",
       "      <td>DELICIOUS WAFERS. I FIND THAT EUROPEAN WAFERS ...</td>\n",
       "    </tr>\n",
       "    <tr>\n",
       "      <th>2</th>\n",
       "      <td>138277</td>\n",
       "      <td>B000HDOPYM</td>\n",
       "      <td>AR5J8UI46CURR</td>\n",
       "      <td>Geetha Krishnan</td>\n",
       "      <td>2</td>\n",
       "      <td>2</td>\n",
       "      <td>5</td>\n",
       "      <td>1199577600</td>\n",
       "      <td>LOACKER QUADRATINI VANILLA WAFERS</td>\n",
       "      <td>DELICIOUS WAFERS. I FIND THAT EUROPEAN WAFERS ...</td>\n",
       "    </tr>\n",
       "    <tr>\n",
       "      <th>3</th>\n",
       "      <td>73791</td>\n",
       "      <td>B000HDOPZG</td>\n",
       "      <td>AR5J8UI46CURR</td>\n",
       "      <td>Geetha Krishnan</td>\n",
       "      <td>2</td>\n",
       "      <td>2</td>\n",
       "      <td>5</td>\n",
       "      <td>1199577600</td>\n",
       "      <td>LOACKER QUADRATINI VANILLA WAFERS</td>\n",
       "      <td>DELICIOUS WAFERS. I FIND THAT EUROPEAN WAFERS ...</td>\n",
       "    </tr>\n",
       "    <tr>\n",
       "      <th>4</th>\n",
       "      <td>155049</td>\n",
       "      <td>B000PAQ75C</td>\n",
       "      <td>AR5J8UI46CURR</td>\n",
       "      <td>Geetha Krishnan</td>\n",
       "      <td>2</td>\n",
       "      <td>2</td>\n",
       "      <td>5</td>\n",
       "      <td>1199577600</td>\n",
       "      <td>LOACKER QUADRATINI VANILLA WAFERS</td>\n",
       "      <td>DELICIOUS WAFERS. I FIND THAT EUROPEAN WAFERS ...</td>\n",
       "    </tr>\n",
       "  </tbody>\n",
       "</table>\n",
       "</div>"
      ],
      "text/plain": [
       "       Id   ProductId         UserId      ProfileName  HelpfulnessNumerator  \\\n",
       "0   78445  B000HDL1RQ  AR5J8UI46CURR  Geetha Krishnan                     2   \n",
       "1  138317  B000HDOPYC  AR5J8UI46CURR  Geetha Krishnan                     2   \n",
       "2  138277  B000HDOPYM  AR5J8UI46CURR  Geetha Krishnan                     2   \n",
       "3   73791  B000HDOPZG  AR5J8UI46CURR  Geetha Krishnan                     2   \n",
       "4  155049  B000PAQ75C  AR5J8UI46CURR  Geetha Krishnan                     2   \n",
       "\n",
       "   HelpfulnessDenominator  Score        Time  \\\n",
       "0                       2      5  1199577600   \n",
       "1                       2      5  1199577600   \n",
       "2                       2      5  1199577600   \n",
       "3                       2      5  1199577600   \n",
       "4                       2      5  1199577600   \n",
       "\n",
       "                             Summary  \\\n",
       "0  LOACKER QUADRATINI VANILLA WAFERS   \n",
       "1  LOACKER QUADRATINI VANILLA WAFERS   \n",
       "2  LOACKER QUADRATINI VANILLA WAFERS   \n",
       "3  LOACKER QUADRATINI VANILLA WAFERS   \n",
       "4  LOACKER QUADRATINI VANILLA WAFERS   \n",
       "\n",
       "                                                Text  \n",
       "0  DELICIOUS WAFERS. I FIND THAT EUROPEAN WAFERS ...  \n",
       "1  DELICIOUS WAFERS. I FIND THAT EUROPEAN WAFERS ...  \n",
       "2  DELICIOUS WAFERS. I FIND THAT EUROPEAN WAFERS ...  \n",
       "3  DELICIOUS WAFERS. I FIND THAT EUROPEAN WAFERS ...  \n",
       "4  DELICIOUS WAFERS. I FIND THAT EUROPEAN WAFERS ...  "
      ]
     },
     "execution_count": 15,
     "metadata": {
      "tags": []
     },
     "output_type": "execute_result"
    }
   ],
   "source": [
    "display= pd.read_sql_query(\"\"\"\n",
    "SELECT *\n",
    "FROM Reviews\n",
    "WHERE Score != 3 AND UserId=\"AR5J8UI46CURR\"\n",
    "ORDER BY ProductID\n",
    "\"\"\", con)\n",
    "display.head()"
   ]
  },
  {
   "cell_type": "markdown",
   "metadata": {
    "colab_type": "text",
    "id": "bHBUU1IPvUVa"
   },
   "source": [
    "As it can be seen above that same user has multiple reviews with same values for HelpfulnessNumerator, HelpfulnessDenominator, Score, Time, Summary and Text and on doing analysis it was found that <br>\n",
    "<br> \n",
    "ProductId=B000HDOPZG was Loacker Quadratini Vanilla Wafer Cookies, 8.82-Ounce Packages (Pack of 8)<br>\n",
    "<br> \n",
    "ProductId=B000HDL1RQ was Loacker Quadratini Lemon Wafer Cookies, 8.82-Ounce Packages (Pack of 8) and so on<br>\n",
    "\n",
    "It was inferred after analysis that reviews with same parameters other than ProductId belonged to the same product just having different flavour or quantity. Hence in order to reduce redundancy it was decided to eliminate the rows having same parameters.<br>\n",
    "\n",
    "The method used for the same was that we first sort the data according to ProductId and then just keep the first similar product review and delelte the others. for eg. in the above just the review for ProductId=B000HDL1RQ remains. This method ensures that there is only one representative for each product and deduplication without sorting would lead to possibility of different representatives still existing for the same product."
   ]
  },
  {
   "cell_type": "code",
   "execution_count": 0,
   "metadata": {
    "colab": {},
    "colab_type": "code",
    "id": "2-ZEcvpsvUVb"
   },
   "outputs": [],
   "source": [
    "#Sorting data according to ProductId in ascending order\n",
    "sorted_data=filtered_data.sort_values('ProductId', axis=0, ascending=True, inplace=False, kind='quicksort', na_position='last')"
   ]
  },
  {
   "cell_type": "code",
   "execution_count": 17,
   "metadata": {
    "colab": {
     "base_uri": "https://localhost:8080/",
     "height": 34
    },
    "colab_type": "code",
    "id": "PFg4-G0DvUVe",
    "outputId": "e226390a-b9cf-4828-bae3-5078838dc8e2"
   },
   "outputs": [
    {
     "data": {
      "text/plain": [
       "(62864, 10)"
      ]
     },
     "execution_count": 17,
     "metadata": {
      "tags": []
     },
     "output_type": "execute_result"
    }
   ],
   "source": [
    "#Deduplication of entries\n",
    "final=sorted_data.drop_duplicates(subset={\"UserId\",\"ProfileName\",\"Time\",\"Text\"}, keep='first', inplace=False)\n",
    "final.shape"
   ]
  },
  {
   "cell_type": "code",
   "execution_count": 18,
   "metadata": {
    "colab": {
     "base_uri": "https://localhost:8080/",
     "height": 34
    },
    "colab_type": "code",
    "id": "7d0TbIRtvUVi",
    "outputId": "59a6e55b-bf9e-4528-ec3f-da9713dc4807"
   },
   "outputs": [
    {
     "data": {
      "text/plain": [
       "89.80571428571429"
      ]
     },
     "execution_count": 18,
     "metadata": {
      "tags": []
     },
     "output_type": "execute_result"
    }
   ],
   "source": [
    "#Checking to see how much % of data still remains\n",
    "(final['Id'].size*1.0)/(filtered_data['Id'].size*1.0)*100"
   ]
  },
  {
   "cell_type": "markdown",
   "metadata": {
    "colab_type": "text",
    "id": "lGKVDP59vUVs"
   },
   "source": [
    "<b>Observation:-</b> It was also seen that in two rows given below the value of HelpfulnessNumerator is greater than HelpfulnessDenominator which is not practically possible hence these two rows too are removed from calcualtions"
   ]
  },
  {
   "cell_type": "code",
   "execution_count": 19,
   "metadata": {
    "colab": {
     "base_uri": "https://localhost:8080/",
     "height": 179
    },
    "colab_type": "code",
    "id": "hnkhKs3FvUVu",
    "outputId": "387d2ac7-cacf-4b4a-a1a5-0e59e7fd3f6f"
   },
   "outputs": [
    {
     "data": {
      "text/html": [
       "<div>\n",
       "<style scoped>\n",
       "    .dataframe tbody tr th:only-of-type {\n",
       "        vertical-align: middle;\n",
       "    }\n",
       "\n",
       "    .dataframe tbody tr th {\n",
       "        vertical-align: top;\n",
       "    }\n",
       "\n",
       "    .dataframe thead th {\n",
       "        text-align: right;\n",
       "    }\n",
       "</style>\n",
       "<table border=\"1\" class=\"dataframe\">\n",
       "  <thead>\n",
       "    <tr style=\"text-align: right;\">\n",
       "      <th></th>\n",
       "      <th>Id</th>\n",
       "      <th>ProductId</th>\n",
       "      <th>UserId</th>\n",
       "      <th>ProfileName</th>\n",
       "      <th>HelpfulnessNumerator</th>\n",
       "      <th>HelpfulnessDenominator</th>\n",
       "      <th>Score</th>\n",
       "      <th>Time</th>\n",
       "      <th>Summary</th>\n",
       "      <th>Text</th>\n",
       "    </tr>\n",
       "  </thead>\n",
       "  <tbody>\n",
       "    <tr>\n",
       "      <th>0</th>\n",
       "      <td>64422</td>\n",
       "      <td>B000MIDROQ</td>\n",
       "      <td>A161DK06JJMCYF</td>\n",
       "      <td>J. E. Stephens \"Jeanne\"</td>\n",
       "      <td>3</td>\n",
       "      <td>1</td>\n",
       "      <td>5</td>\n",
       "      <td>1224892800</td>\n",
       "      <td>Bought This for My Son at College</td>\n",
       "      <td>My son loves spaghetti so I didn't hesitate or...</td>\n",
       "    </tr>\n",
       "    <tr>\n",
       "      <th>1</th>\n",
       "      <td>44737</td>\n",
       "      <td>B001EQ55RW</td>\n",
       "      <td>A2V0I904FH7ABY</td>\n",
       "      <td>Ram</td>\n",
       "      <td>3</td>\n",
       "      <td>2</td>\n",
       "      <td>4</td>\n",
       "      <td>1212883200</td>\n",
       "      <td>Pure cocoa taste with crunchy almonds inside</td>\n",
       "      <td>It was almost a 'love at first bite' - the per...</td>\n",
       "    </tr>\n",
       "  </tbody>\n",
       "</table>\n",
       "</div>"
      ],
      "text/plain": [
       "      Id   ProductId          UserId              ProfileName  \\\n",
       "0  64422  B000MIDROQ  A161DK06JJMCYF  J. E. Stephens \"Jeanne\"   \n",
       "1  44737  B001EQ55RW  A2V0I904FH7ABY                      Ram   \n",
       "\n",
       "   HelpfulnessNumerator  HelpfulnessDenominator  Score        Time  \\\n",
       "0                     3                       1      5  1224892800   \n",
       "1                     3                       2      4  1212883200   \n",
       "\n",
       "                                        Summary  \\\n",
       "0             Bought This for My Son at College   \n",
       "1  Pure cocoa taste with crunchy almonds inside   \n",
       "\n",
       "                                                Text  \n",
       "0  My son loves spaghetti so I didn't hesitate or...  \n",
       "1  It was almost a 'love at first bite' - the per...  "
      ]
     },
     "execution_count": 19,
     "metadata": {
      "tags": []
     },
     "output_type": "execute_result"
    }
   ],
   "source": [
    "display= pd.read_sql_query(\"\"\"\n",
    "SELECT *\n",
    "FROM Reviews\n",
    "WHERE Score != 3 AND Id=44737 OR Id=64422\n",
    "ORDER BY ProductID\n",
    "\"\"\", con)\n",
    "\n",
    "display.head()"
   ]
  },
  {
   "cell_type": "code",
   "execution_count": 0,
   "metadata": {
    "colab": {},
    "colab_type": "code",
    "id": "wlA8fTcCvUV3"
   },
   "outputs": [],
   "source": [
    "final=final[final.HelpfulnessNumerator<=final.HelpfulnessDenominator]"
   ]
  },
  {
   "cell_type": "code",
   "execution_count": 22,
   "metadata": {
    "colab": {
     "base_uri": "https://localhost:8080/",
     "height": 85
    },
    "colab_type": "code",
    "id": "jv3pHuBgvUWD",
    "outputId": "b919bfc3-2b16-46b4-8fec-8f64eef9f256"
   },
   "outputs": [
    {
     "name": "stdout",
     "output_type": "stream",
     "text": [
      "(62862, 10)\n"
     ]
    },
    {
     "data": {
      "text/plain": [
       "1    52600\n",
       "0    10262\n",
       "Name: Score, dtype: int64"
      ]
     },
     "execution_count": 22,
     "metadata": {
      "tags": []
     },
     "output_type": "execute_result"
    }
   ],
   "source": [
    "#Before starting the next phase of preprocessing lets see the number of entries left\n",
    "print(final.shape)\n",
    "\n",
    "#How many positive and negative reviews are present in our dataset?\n",
    "final['Score'].value_counts()"
   ]
  },
  {
   "cell_type": "markdown",
   "metadata": {
    "colab_type": "text",
    "id": "j8h3YFRhvUWO"
   },
   "source": [
    "#  [3] Preprocessing"
   ]
  },
  {
   "cell_type": "markdown",
   "metadata": {
    "colab_type": "text",
    "id": "mICx2Al3vUWS"
   },
   "source": [
    "## [3.1].  Preprocessing Review Text\n",
    "\n",
    "Now that we have finished deduplication our data requires some preprocessing before we go on further with analysis and making the prediction model.\n",
    "\n",
    "Hence in the Preprocessing phase we do the following in the order below:-\n",
    "\n",
    "1. Begin by removing the html tags\n",
    "2. Remove any punctuations or limited set of special characters like , or . or # etc.\n",
    "3. Check if the word is made up of english letters and is not alpha-numeric\n",
    "4. Check to see if the length of the word is greater than 2 (as it was researched that there is no adjective in 2-letters)\n",
    "5. Convert the word to lowercase\n",
    "6. Remove Stopwords\n",
    "7. Finally Snowball Stemming the word (it was obsereved to be better than Porter Stemming)<br>\n",
    "\n",
    "After which we collect the words used to describe positive and negative reviews"
   ]
  },
  {
   "cell_type": "code",
   "execution_count": 23,
   "metadata": {
    "colab": {
     "base_uri": "https://localhost:8080/",
     "height": 54
    },
    "colab_type": "code",
    "id": "G_ySH29PvUWT",
    "outputId": "561ccf1d-d65a-4aaf-816e-8e34266cb841"
   },
   "outputs": [
    {
     "name": "stdout",
     "output_type": "stream",
     "text": [
      "{3: ['http://www.amazon.com'], 158: ['http://www.consumeraffairs.com'], 179: ['http://www.amazon.com', 'http://www.amazon.com', 'http://www.amazon.com'], 219: ['http://www.amazon.com'], 251: ['http://www.amazon.com'], 270: ['http://www.amazon.com'], 341: ['http://www.amazon.com'], 543: ['http://www.amazon.com'], 610: ['http://www.amazon.com'], 612: ['http://www.amazon.com'], 638: ['http://www.amazon.com', 'http://www.amazon.com', 'http://www.amazon.com'], 667: ['http://www.amazon.com'], 724: ['http://www.amazon.com'], 818: ['http://www.amazon.com'], 826: ['http://www.amazon.com'], 842: ['http://www.amazon.com'], 999: ['http://www.amazon.com'], 1026: ['http://www.amazon.com'], 1135: ['http://www.tijuanaflats.com'], 1249: ['http://www.amazon.com', 'http://www.amazon.com'], 1264: ['http://www.amazon.com'], 1281: ['http://www.amazon.com', 'http://www.amazon.com', 'http://www.amazon.com', 'http://www.amazon.com', 'http://www.amazon.com', 'http://www.amazon.com', 'http://www.amazon.com', 'http://www.amazon.com'], 1435: ['http://www.amazon.com'], 1458: ['http://www.amazon.com'], 1482: ['http://www.amazon.com']}\n"
     ]
    }
   ],
   "source": [
    "#Finding the reviews which contains URLs in it.\n",
    "def Find_Url_In_Review(reviews = [], *args):\n",
    "    count = 0;\n",
    "    store5Text = {}\n",
    "    for idx, val in enumerate(reviews):\n",
    "        text = re.findall('https?://(?:[-\\w.]|(?:%[\\da-fA-F]{2}))+', val)\n",
    "        if(text):\n",
    "            store5Text[idx] = text\n",
    "            count+=1\n",
    "            if(count == 25):\n",
    "                break\n",
    "        \n",
    "    return store5Text\n",
    "\n",
    "lst = final['Text'].values.tolist()\n",
    "print(Find_Url_In_Review(lst))"
   ]
  },
  {
   "cell_type": "code",
   "execution_count": 24,
   "metadata": {
    "colab": {
     "base_uri": "https://localhost:8080/",
     "height": 173
    },
    "colab_type": "code",
    "id": "Oui5-wUSvUWh",
    "outputId": "5c42a73a-b101-41fd-c607-bbfd52e9f5c9"
   },
   "outputs": [
    {
     "name": "stdout",
     "output_type": "stream",
     "text": [
      "These wholesome treats are only 1 or 2 calories per biscotti \"crouton.\" My 50 pound dog has a weight problem, and these are the only treats I can use to reward him for obedience multiple times a day.<br /><br />The biscotti don't crumble in my  pocket on a walk, and my dog even sniffs my pockets at home to ask for another one. Even though the treats are tiny, he doesn't swallow them whole. He chews them--maybe to savor them. I also put these in his <a href=\"http://www.amazon.com/gp/product/B0038WP1YC\">Ethical Pet Seek-A-Treat Shuffle Bone Dog Puzzle</a> as a reward, and he solves his puzzle with enthusiasm. Even though my dog weighs 50 pounds, one 8 oz bag lasts about a month.<br /><br />My dog has no diagnosed allergies, but his gasto-esophgial system was sensitive and irregular starting from the time we rescued him. For his weight-loss, I switched his food to <a href=\"http://www.amazon.com/gp/product/B003P9XFV4\">Blue Buffalo Longevity Dry Food for Adult Dogs, 24-Pound Bag</a>, which has no soy, wheat, corn, by-products, or preservatives. His gastro-esophogeal system happened to improve a lot and became regular. The hypo-allergenic treats did not cost much more than the regular ones at the time I first bought them, so I figured I would be safe and buy them. My dog hasn't had any problems on these treats, but the change in food might also explain it.  I'm sticking with the hypo-allergenic even though it's not eligible for free shipping.<br /><br />Having said that my dog likes these treats a lot, these are not his very favorite.  I give him a medium-sized biscuit <a href=\"http://www.amazon.com/gp/product/B00027D3QO\">Nutri-Vet Breath & Tartar Spearmint & Parsley Flavored Biscuits, 19.5 Ounce Bag</a>every few days, and he goes absolutely crazy for it. Alas, the biscuits have too many calories for me to treat him more often. I'd say my dog would rate his biscuits 10 barks for taste, whereas he would give his biscotti a solid 7 barks.<br /><br />Because the biscotti treats are tasty, made with wholesome ingredients, and very low in calories, I rate them 5 stars.  I consider liver biscotti a good investment in my dog's health. Every dog should have liver biscotti as his or her go-to treats.\n",
      "==================================================\n",
      "I used to be a fan of Canidae, but after $2k in recent vet bills and a very sick dog, I found out there is a HUGE amount of Consumer Affairs complaints about this company.<br /><br />After blood work, ultrasound and many other tests trying to figure out why my dog wasn't eating, was throwing up on the rare occasion he did, had pockets of gas the size of base balls (he is a small dog) and had all the symptoms of kidney and liver failure, my vet determined it might be the food. I found that hard to believe, but we couldn't find anything else wrong. If you read the complaints you will see many people have lost their dogs. They started using one of the very companies for production whose imported food killed so many animals a year or so ago.<br /><br />As soon as I quit feeding him this poison, he started getting better. I was one of the lucky ones since my pet did not die, but as I write this, he still has not gained all his weight back.<br /><br />The company is acting as if nothing is wrong. Probably on the advice of their attorneys.<br /><br />You don't need to take my word for it, please read up... http://www.consumeraffairs.com/pets/canidae.html\n",
      "==================================================\n",
      "Green chili sauces tend to be milder than their red companions, and this \"Castillo Salsa Habanera - Green\" is no exception.  It has a nice, tiny little kick to it, but it is mild enough that I could just pour it straight into my mouth.<br /><br />So, unless you don't have much tolerance for heat, you are buying this for the flavor, not the spice. And this does have a nice flavor.  It is a good blend of habanera, garlic, and some other spices, without being too vinegary or overpowering.  We had some fajitas for breakfast this morning, and this Castillo Salsa was poured quite liberally over them.  Delicious.<br /><br />It isn't quite as good as my favorite green salsa,<a href=\"http://www.amazon.com/gp/product/B0000DIWWE\">Blair's Jalapeno Death Sauce with Tequila</a> , but a bottle of this Castillo sauce can usually be found in my kitchen.\n",
      "==================================================\n",
      "QUALITY<br />In my opinion, having used a dozen or so brands of olive oil, Colavita is simply the best reasonably priced olive oil which is widely available.  I've been using Colavita for several years now, and have never been dissappointed.  Colavita is excellent quality, dependable, and reasonably priced---the perfect combination for a daily general purpose olive oil.<br /><br />FLAVOR<br />Although not an \"olive oil gourmand\", I'd describe Colavita as \"rich and smooth\".  Connoisseurs probably have other silly terms for the flavor, such as \"nutty\" or \"fruity\" (but a \"civilian\" would never describe the flavor as nutty or fruity). It is not  spicy like Whole Foods 360, and NOT strongly \"olive-oily\" (i.e., \"herby\").  Colavita is an evoo (\"extra virgin olive oil\"---to us non-olive oil snobs), which means \"first pressing\".  Most olive-oil nuts consider the words \"extra virgin\" to be sacred.  Practically speaking though, the mere label \"extra virgin\" is not a guarantee of quality---most grocery store brands (evoo or not) are harsh and bitter, but some are good cooking oils.<br /><br />PREMIUM OILS<br />Botique premium oils are are as variable year to year as wines, comparably expensive, and have to be bought the way you buy fine wine (that is, ideally at tastings, where you confirm the quality and flavor before purchase).  Some are genuinely (as in NOT-gourmet-speak) buttery and nutty---great for dipping.  Some taste like the fragrance of flowers---great for salads.  Never cook premium olive oil---use it for dipping or drizzling, or on delicate salads.  Colavita is a very good general purpose oil, perhaps the best common grocery store olive oil, but is not quite a premium oil.<br /><br />Although heresy (comparable to suggesting fruit wines to a wine connoisseur) there are inexpensive alternatives to premium botique olive oils, including pumpkinseed, almond, sesame, and walnut oil.  I particularly love pumpkinseed oil as a dipping oil (by itself, no vinegar, and with a little salt). The following are examples---I can't vouch for the specific brands as they are different from what I use.  <a href=\"http://www.amazon.com/gp/product/B000B5OCFS\">Styrian Pumpkinseed Oil 8.45 oz</a>, <a href=\"http://www.amazon.com/gp/product/B000JV3C82\">Pure Almond Oil 300ml</a>, <a href=\"http://www.amazon.com/gp/product/B0002YB21A\">Kadoya - Pure Sesame Oil 5.5 Oz.</a>, <a href=\"http://www.amazon.com/gp/product/B0017O8F0A\">100% Natural Walnut Oil, Cold Pressed 16 fl oz (474 ml) Liquid</a><br /><br />COOKING OIL<br />Non-extra virgin olive oils (second or later pressings) are usually darker and stronger flavored---which adds depth and complexity to soups, sauses, stews, chili, casseroles, bean dishes etc. I add 1/4 to 1/2 cup of olive oil to such dishes.  Unless you particularly want the dish to taste \"olive-oily\" (I never do), cook the oil WITH the dish.  However, olive oil can \"go bad\"---so unless you use alot, it doesn't sense to use a different cooking oil than you use on salads, for dipping etc.  Colavita is a very good general purpose oil, and therefore a good cooking oil.<br /><br />\"Cooking\" does NOT mean \"frying\" with ANY olive oil.  Because of the low smoke point (i.e., olive oil burns at a low temperature) olive oil is NOT suitable for frying.  That said, you can carefully fry an egg in olive oil at a low temperature (and honestly, good fried eggs swimming in good olive oil are wonderful).  But you can NOT fry meat nor deep-fry anything.  The best frying oil is peanut oil.  Canola is a good frying oil and is particularly healthy.  Like olive oil there is variation in the brands.  Peanut oil should be slightly nutty, but not peanutty.  Canola oil should be flavorless.<br /><br />DIPPING OIL<br />Traditionally (and in the best restaurants), Italian bread, oil and balsamic vinegar is served as an appetizer.  The diner usually mixes his own oil and vinegar at the table.  Albeit probably heresy, you can subsitute other premium types of vinegar (such as wine vinegar, rasberry vinegar, or even apple vinegar) or fresh lemon juice.  I usually add a few drops soy sause or Braggs for saltiness and richness to the mixture. <a href=\"http://www.amazon.com/gp/product/B001EQ4Y4W\">Bragg Liquid Aminos, Natural Soy Sauce Alternative, 32-Ounce Bottle , (Pack of 3)</a> Colavita is a very good \"everyday\" dipping oil.<br /><br />SALAD OIL<br />The requirements for an \"everyday\" salad oil are a little less stringent than that for a dipping oil, because the heavy flavor of the vinegar, and often pamessan, bacon bits, etc. usually dominate.  However, I rarely use oil and vinegar the traditional way.  For everyday salads (or as a dip for raw vegies) I prefer olive-oil based mayo with a little freshly ground pepper, and some citrus zest.  For special salads, I use a seed or nut oil or a fruity premium olive oil (and just a hint of lemon and/or orange juice and zest).  Colavita is a very good \"everyday\" salad oil.  If you are not familiar with fresh citrus zest (wonderful stuff), the tool to use is <a href=\"http://www.amazon.com/gp/product/B00004S7V8\">Microplane 40020 Classic Zester/Grater</a><br /><br />DRIZZING OIL<br />A drizzling oil is an oil you pour over a dish immediately before serving, or which you serve in a carafe on the table.  If you REALLY like the flavor of \"ordinary good\" olive oil (I don't)---then you will find Colavita to be a good drizzling oil.  My hispanic wife frequently drizzles Colavita on the dishes I've cooked (with Colavita), because she likes the olive-oil flavor.  By the way, the same principle applies to the use of butter, pepper, garlic, cheese, even soy sause---if you want the flavor to dominate, add it just before serving; if you want the flavor to be subtle, cook the seasoning with the dish.  For most dishes I prefer a rich blend of subtle flavors.<br /><br />HEALTHY COOKING<br />I go to a great deal of effort to minimize animal fat in my diet, by very strict trimming, thorough cooking, and by chilling broth to remove the solidified fat.  However, the body needs fat and craves fat.  The ideal solution is to replace animal fat with healthy vegetable oils.  Olive oil is ideal for the purpose.  Canola is better, but is essentially flavorless.<br /><br />My Southern grandmother could not cook any vegetables without a thick slice of fatback (fatty bacon)---and indeed her vegetables were very tasty.  Speaking of which, what is the point of healthy vegetables if no-one will eat them?  The solution is to add several tablespoon fulls of olive oil, and just a teaspoon of chipped ham <a href=\"http://www.amazon.com/gp/product/B000NERTSE\">Hormel Premium Real Crumbled Bacon</a> to the vegies.  For the best flavor, cook the vegies with the olive oil (do NOT add oil to the cooked vegetables---unless you really like the flavor of the oil).  Season as necessary with pepper and fresh lemon juice.  Truly delicious vegetables are possible---I eat them daily.<br /><br />ECONOMY<br />It has been about a year since I've purchased Colavita because I can buy a better but obscure brand (Bella Famiglia) locally for $12 per 17oz bottle.  The 34 ounce tins of Colavita <a href=\"http://www.amazon.com/gp/product/B001ELLB16\">Colavita Extra Virgin Olive Oil, 34-Ounce Tins (Pack of 2)</a> are about half the price of the bottle per oz at this time, but is still expensive for the quality, particularly with the shipping charge.  The tins are small enough to use directly. But I prefer bottles, because controlling the flow of the oil is easier (since you can see the oil approaching the spout), and it is easier to gauge the amount of oil I'm using by eye (how far the level drops in the glass bottle). So, I refill bottles from the tins.  I've been told that olive oil stays fresher in tins (measured in months and years) That becomes relevant when you don't know how many months (or even years) a bottle may have sat on a grocery shelf.<br /><br />GENERAL RECCOMENDATION<br />The price of many items, including Colavita vary wildly on Amazon, sometimes from day-to-day.  Sometimes it is available directly from Amazon with free shipping, sometimes not---which makes a big difference in the total coat.  After major grocery shopping expeditions, sit down at your computer with your reciept, and check if you can buy any of the non-perishables through Amazon. When you find items (even if more expensive than you just paid), put the item on your Amazon wish list, and add a note to the wish list of the price you just paid. Check your wish list frequently, and when you see an item you need at a bargain price, buy it.\n",
      "==================================================\n"
     ]
    }
   ],
   "source": [
    "# printing some random reviews\n",
    "sent_179 = final['Text'].values[179]\n",
    "print(sent_179)\n",
    "print(\"=\"*50)\n",
    "\n",
    "sent_158 = final['Text'].values[158]\n",
    "print(sent_158)\n",
    "print(\"=\"*50)\n",
    "\n",
    "sent_1264 = final['Text'].values[1264]\n",
    "print(sent_1264)\n",
    "print(\"=\"*50)\n",
    "\n",
    "sent_1281 = final['Text'].values[1281]\n",
    "print(sent_1281)\n",
    "print(\"=\"*50)"
   ]
  },
  {
   "cell_type": "code",
   "execution_count": 25,
   "metadata": {
    "colab": {
     "base_uri": "https://localhost:8080/",
     "height": 173
    },
    "colab_type": "code",
    "id": "qrWfsN58vUWo",
    "outputId": "be40f08f-f7d3-4bc0-d76b-9622aeea4736"
   },
   "outputs": [
    {
     "name": "stdout",
     "output_type": "stream",
     "text": [
      "These wholesome treats are only 1 or 2 calories per biscotti \"crouton.\" My 50 pound dog has a weight problem, and these are the only treats I can use to reward him for obedience multiple times a day.<br /><br />The biscotti don't crumble in my  pocket on a walk, and my dog even sniffs my pockets at home to ask for another one. Even though the treats are tiny, he doesn't swallow them whole. He chews them--maybe to savor them. I also put these in his <a href=\" Pet Seek-A-Treat Shuffle Bone Dog Puzzle</a> as a reward, and he solves his puzzle with enthusiasm. Even though my dog weighs 50 pounds, one 8 oz bag lasts about a month.<br /><br />My dog has no diagnosed allergies, but his gasto-esophgial system was sensitive and irregular starting from the time we rescued him. For his weight-loss, I switched his food to <a href=\" Buffalo Longevity Dry Food for Adult Dogs, 24-Pound Bag</a>, which has no soy, wheat, corn, by-products, or preservatives. His gastro-esophogeal system happened to improve a lot and became regular. The hypo-allergenic treats did not cost much more than the regular ones at the time I first bought them, so I figured I would be safe and buy them. My dog hasn't had any problems on these treats, but the change in food might also explain it.  I'm sticking with the hypo-allergenic even though it's not eligible for free shipping.<br /><br />Having said that my dog likes these treats a lot, these are not his very favorite.  I give him a medium-sized biscuit <a href=\" Breath & Tartar Spearmint & Parsley Flavored Biscuits, 19.5 Ounce Bag</a>every few days, and he goes absolutely crazy for it. Alas, the biscuits have too many calories for me to treat him more often. I'd say my dog would rate his biscuits 10 barks for taste, whereas he would give his biscotti a solid 7 barks.<br /><br />Because the biscotti treats are tasty, made with wholesome ingredients, and very low in calories, I rate them 5 stars.  I consider liver biscotti a good investment in my dog's health. Every dog should have liver biscotti as his or her go-to treats.\n",
      "==================================================\n",
      "I used to be a fan of Canidae, but after $2k in recent vet bills and a very sick dog, I found out there is a HUGE amount of Consumer Affairs complaints about this company.<br /><br />After blood work, ultrasound and many other tests trying to figure out why my dog wasn't eating, was throwing up on the rare occasion he did, had pockets of gas the size of base balls (he is a small dog) and had all the symptoms of kidney and liver failure, my vet determined it might be the food. I found that hard to believe, but we couldn't find anything else wrong. If you read the complaints you will see many people have lost their dogs. They started using one of the very companies for production whose imported food killed so many animals a year or so ago.<br /><br />As soon as I quit feeding him this poison, he started getting better. I was one of the lucky ones since my pet did not die, but as I write this, he still has not gained all his weight back.<br /><br />The company is acting as if nothing is wrong. Probably on the advice of their attorneys.<br /><br />You don't need to take my word for it, please read up... \n",
      "==================================================\n",
      "Green chili sauces tend to be milder than their red companions, and this \"Castillo Salsa Habanera - Green\" is no exception.  It has a nice, tiny little kick to it, but it is mild enough that I could just pour it straight into my mouth.<br /><br />So, unless you don't have much tolerance for heat, you are buying this for the flavor, not the spice. And this does have a nice flavor.  It is a good blend of habanera, garlic, and some other spices, without being too vinegary or overpowering.  We had some fajitas for breakfast this morning, and this Castillo Salsa was poured quite liberally over them.  Delicious.<br /><br />It isn't quite as good as my favorite green salsa,<a href=\" Jalapeno Death Sauce with Tequila</a> , but a bottle of this Castillo sauce can usually be found in my kitchen.\n",
      "==================================================\n",
      "QUALITY<br />In my opinion, having used a dozen or so brands of olive oil, Colavita is simply the best reasonably priced olive oil which is widely available.  I've been using Colavita for several years now, and have never been dissappointed.  Colavita is excellent quality, dependable, and reasonably priced---the perfect combination for a daily general purpose olive oil.<br /><br />FLAVOR<br />Although not an \"olive oil gourmand\", I'd describe Colavita as \"rich and smooth\".  Connoisseurs probably have other silly terms for the flavor, such as \"nutty\" or \"fruity\" (but a \"civilian\" would never describe the flavor as nutty or fruity). It is not  spicy like Whole Foods 360, and NOT strongly \"olive-oily\" (i.e., \"herby\").  Colavita is an evoo (\"extra virgin olive oil\"---to us non-olive oil snobs), which means \"first pressing\".  Most olive-oil nuts consider the words \"extra virgin\" to be sacred.  Practically speaking though, the mere label \"extra virgin\" is not a guarantee of quality---most grocery store brands (evoo or not) are harsh and bitter, but some are good cooking oils.<br /><br />PREMIUM OILS<br />Botique premium oils are are as variable year to year as wines, comparably expensive, and have to be bought the way you buy fine wine (that is, ideally at tastings, where you confirm the quality and flavor before purchase).  Some are genuinely (as in NOT-gourmet-speak) buttery and nutty---great for dipping.  Some taste like the fragrance of flowers---great for salads.  Never cook premium olive oil---use it for dipping or drizzling, or on delicate salads.  Colavita is a very good general purpose oil, perhaps the best common grocery store olive oil, but is not quite a premium oil.<br /><br />Although heresy (comparable to suggesting fruit wines to a wine connoisseur) there are inexpensive alternatives to premium botique olive oils, including pumpkinseed, almond, sesame, and walnut oil.  I particularly love pumpkinseed oil as a dipping oil (by itself, no vinegar, and with a little salt). The following are examples---I can't vouch for the specific brands as they are different from what I use.  <a href=\" Pumpkinseed Oil 8.45 oz</a>, <a href=\" Almond Oil 300ml</a>, <a href=\" - Pure Sesame Oil 5.5 Oz.</a>, <a href=\" Natural Walnut Oil, Cold Pressed 16 fl oz (474 ml) Liquid</a><br /><br />COOKING OIL<br />Non-extra virgin olive oils (second or later pressings) are usually darker and stronger flavored---which adds depth and complexity to soups, sauses, stews, chili, casseroles, bean dishes etc. I add 1/4 to 1/2 cup of olive oil to such dishes.  Unless you particularly want the dish to taste \"olive-oily\" (I never do), cook the oil WITH the dish.  However, olive oil can \"go bad\"---so unless you use alot, it doesn't sense to use a different cooking oil than you use on salads, for dipping etc.  Colavita is a very good general purpose oil, and therefore a good cooking oil.<br /><br />\"Cooking\" does NOT mean \"frying\" with ANY olive oil.  Because of the low smoke point (i.e., olive oil burns at a low temperature) olive oil is NOT suitable for frying.  That said, you can carefully fry an egg in olive oil at a low temperature (and honestly, good fried eggs swimming in good olive oil are wonderful).  But you can NOT fry meat nor deep-fry anything.  The best frying oil is peanut oil.  Canola is a good frying oil and is particularly healthy.  Like olive oil there is variation in the brands.  Peanut oil should be slightly nutty, but not peanutty.  Canola oil should be flavorless.<br /><br />DIPPING OIL<br />Traditionally (and in the best restaurants), Italian bread, oil and balsamic vinegar is served as an appetizer.  The diner usually mixes his own oil and vinegar at the table.  Albeit probably heresy, you can subsitute other premium types of vinegar (such as wine vinegar, rasberry vinegar, or even apple vinegar) or fresh lemon juice.  I usually add a few drops soy sause or Braggs for saltiness and richness to the mixture. <a href=\" Liquid Aminos, Natural Soy Sauce Alternative, 32-Ounce Bottle , (Pack of 3)</a> Colavita is a very good \"everyday\" dipping oil.<br /><br />SALAD OIL<br />The requirements for an \"everyday\" salad oil are a little less stringent than that for a dipping oil, because the heavy flavor of the vinegar, and often pamessan, bacon bits, etc. usually dominate.  However, I rarely use oil and vinegar the traditional way.  For everyday salads (or as a dip for raw vegies) I prefer olive-oil based mayo with a little freshly ground pepper, and some citrus zest.  For special salads, I use a seed or nut oil or a fruity premium olive oil (and just a hint of lemon and/or orange juice and zest).  Colavita is a very good \"everyday\" salad oil.  If you are not familiar with fresh citrus zest (wonderful stuff), the tool to use is <a href=\" 40020 Classic Zester/Grater</a><br /><br />DRIZZING OIL<br />A drizzling oil is an oil you pour over a dish immediately before serving, or which you serve in a carafe on the table.  If you REALLY like the flavor of \"ordinary good\" olive oil (I don't)---then you will find Colavita to be a good drizzling oil.  My hispanic wife frequently drizzles Colavita on the dishes I've cooked (with Colavita), because she likes the olive-oil flavor.  By the way, the same principle applies to the use of butter, pepper, garlic, cheese, even soy sause---if you want the flavor to dominate, add it just before serving; if you want the flavor to be subtle, cook the seasoning with the dish.  For most dishes I prefer a rich blend of subtle flavors.<br /><br />HEALTHY COOKING<br />I go to a great deal of effort to minimize animal fat in my diet, by very strict trimming, thorough cooking, and by chilling broth to remove the solidified fat.  However, the body needs fat and craves fat.  The ideal solution is to replace animal fat with healthy vegetable oils.  Olive oil is ideal for the purpose.  Canola is better, but is essentially flavorless.<br /><br />My Southern grandmother could not cook any vegetables without a thick slice of fatback (fatty bacon)---and indeed her vegetables were very tasty.  Speaking of which, what is the point of healthy vegetables if no-one will eat them?  The solution is to add several tablespoon fulls of olive oil, and just a teaspoon of chipped ham <a href=\" Premium Real Crumbled Bacon</a> to the vegies.  For the best flavor, cook the vegies with the olive oil (do NOT add oil to the cooked vegetables---unless you really like the flavor of the oil).  Season as necessary with pepper and fresh lemon juice.  Truly delicious vegetables are possible---I eat them daily.<br /><br />ECONOMY<br />It has been about a year since I've purchased Colavita because I can buy a better but obscure brand (Bella Famiglia) locally for $12 per 17oz bottle.  The 34 ounce tins of Colavita <a href=\" Extra Virgin Olive Oil, 34-Ounce Tins (Pack of 2)</a> are about half the price of the bottle per oz at this time, but is still expensive for the quality, particularly with the shipping charge.  The tins are small enough to use directly. But I prefer bottles, because controlling the flow of the oil is easier (since you can see the oil approaching the spout), and it is easier to gauge the amount of oil I'm using by eye (how far the level drops in the glass bottle). So, I refill bottles from the tins.  I've been told that olive oil stays fresher in tins (measured in months and years) That becomes relevant when you don't know how many months (or even years) a bottle may have sat on a grocery shelf.<br /><br />GENERAL RECCOMENDATION<br />The price of many items, including Colavita vary wildly on Amazon, sometimes from day-to-day.  Sometimes it is available directly from Amazon with free shipping, sometimes not---which makes a big difference in the total coat.  After major grocery shopping expeditions, sit down at your computer with your reciept, and check if you can buy any of the non-perishables through Amazon. When you find items (even if more expensive than you just paid), put the item on your Amazon wish list, and add a note to the wish list of the price you just paid. Check your wish list frequently, and when you see an item you need at a bargain price, buy it.\n",
      "==================================================\n"
     ]
    }
   ],
   "source": [
    "# remove urls from text python: https://stackoverflow.com/a/40823105/4084039\n",
    "sent_179 = re.sub(r\"http\\S+\", \"\", sent_179)\n",
    "sent_158 = re.sub(r\"http\\S+\", \"\", sent_158)\n",
    "sent_1264 = re.sub(r\"http\\S+\", \"\", sent_1264)\n",
    "sent_1281 = re.sub(r\"http\\S+\", \"\", sent_1281)\n",
    "\n",
    "print(sent_179)\n",
    "print(\"=\"*50)\n",
    "print(sent_158)\n",
    "print(\"=\"*50)\n",
    "print(sent_1264)\n",
    "print(\"=\"*50)\n",
    "print(sent_1281)\n",
    "print(\"=\"*50)"
   ]
  },
  {
   "cell_type": "code",
   "execution_count": 26,
   "metadata": {
    "colab": {
     "base_uri": "https://localhost:8080/",
     "height": 156
    },
    "colab_type": "code",
    "id": "seyFwEWwvUWt",
    "outputId": "68f4609f-4a82-4bf4-cca7-2eb25ff9c49c"
   },
   "outputs": [
    {
     "name": "stdout",
     "output_type": "stream",
     "text": [
      "These wholesome treats are only 1 or 2 calories per biscotti \"crouton.\" My 50 pound dog has a weight problem, and these are the only treats I can use to reward him for obedience multiple times a day.The biscotti don't crumble in my  pocket on a walk, and my dog even sniffs my pockets at home to ask for another one. Even though the treats are tiny, he doesn't swallow them whole. He chews them--maybe to savor them. I also put these in his , which has no soy, wheat, corn, by-products, or preservatives. His gastro-esophogeal system happened to improve a lot and became regular. The hypo-allergenic treats did not cost much more than the regular ones at the time I first bought them, so I figured I would be safe and buy them. My dog hasn't had any problems on these treats, but the change in food might also explain it.  I'm sticking with the hypo-allergenic even though it's not eligible for free shipping.Having said that my dog likes these treats a lot, these are not his very favorite.  I give him a medium-sized biscuit \n",
      "==================================================\n",
      "I used to be a fan of Canidae, but after $2k in recent vet bills and a very sick dog, I found out there is a HUGE amount of Consumer Affairs complaints about this company.After blood work, ultrasound and many other tests trying to figure out why my dog wasn't eating, was throwing up on the rare occasion he did, had pockets of gas the size of base balls (he is a small dog) and had all the symptoms of kidney and liver failure, my vet determined it might be the food. I found that hard to believe, but we couldn't find anything else wrong. If you read the complaints you will see many people have lost their dogs. They started using one of the very companies for production whose imported food killed so many animals a year or so ago.As soon as I quit feeding him this poison, he started getting better. I was one of the lucky ones since my pet did not die, but as I write this, he still has not gained all his weight back.The company is acting as if nothing is wrong. Probably on the advice of their attorneys.You don't need to take my word for it, please read up... \n",
      "==================================================\n",
      "Green chili sauces tend to be milder than their red companions, and this \"Castillo Salsa Habanera - Green\" is no exception.  It has a nice, tiny little kick to it, but it is mild enough that I could just pour it straight into my mouth.So, unless you don't have much tolerance for heat, you are buying this for the flavor, not the spice. And this does have a nice flavor.  It is a good blend of habanera, garlic, and some other spices, without being too vinegary or overpowering.  We had some fajitas for breakfast this morning, and this Castillo Salsa was poured quite liberally over them.  Delicious.It isn't quite as good as my favorite green salsa,\n",
      "==================================================\n",
      "QUALITYIn my opinion, having used a dozen or so brands of olive oil, Colavita is simply the best reasonably priced olive oil which is widely available.  I've been using Colavita for several years now, and have never been dissappointed.  Colavita is excellent quality, dependable, and reasonably priced---the perfect combination for a daily general purpose olive oil.FLAVORAlthough not an \"olive oil gourmand\", I'd describe Colavita as \"rich and smooth\".  Connoisseurs probably have other silly terms for the flavor, such as \"nutty\" or \"fruity\" (but a \"civilian\" would never describe the flavor as nutty or fruity). It is not  spicy like Whole Foods 360, and NOT strongly \"olive-oily\" (i.e., \"herby\").  Colavita is an evoo (\"extra virgin olive oil\"---to us non-olive oil snobs), which means \"first pressing\".  Most olive-oil nuts consider the words \"extra virgin\" to be sacred.  Practically speaking though, the mere label \"extra virgin\" is not a guarantee of quality---most grocery store brands (evoo or not) are harsh and bitter, but some are good cooking oils.PREMIUM OILSBotique premium oils are are as variable year to year as wines, comparably expensive, and have to be bought the way you buy fine wine (that is, ideally at tastings, where you confirm the quality and flavor before purchase).  Some are genuinely (as in NOT-gourmet-speak) buttery and nutty---great for dipping.  Some taste like the fragrance of flowers---great for salads.  Never cook premium olive oil---use it for dipping or drizzling, or on delicate salads.  Colavita is a very good general purpose oil, perhaps the best common grocery store olive oil, but is not quite a premium oil.Although heresy (comparable to suggesting fruit wines to a wine connoisseur) there are inexpensive alternatives to premium botique olive oils, including pumpkinseed, almond, sesame, and walnut oil.  I particularly love pumpkinseed oil as a dipping oil (by itself, no vinegar, and with a little salt). The following are examples---I can't vouch for the specific brands as they are different from what I use.  , COOKING OILNon-extra virgin olive oils (second or later pressings) are usually darker and stronger flavored---which adds depth and complexity to soups, sauses, stews, chili, casseroles, bean dishes etc. I add 1/4 to 1/2 cup of olive oil to such dishes.  Unless you particularly want the dish to taste \"olive-oily\" (I never do), cook the oil WITH the dish.  However, olive oil can \"go bad\"---so unless you use alot, it doesn't sense to use a different cooking oil than you use on salads, for dipping etc.  Colavita is a very good general purpose oil, and therefore a good cooking oil.\"Cooking\" does NOT mean \"frying\" with ANY olive oil.  Because of the low smoke point (i.e., olive oil burns at a low temperature) olive oil is NOT suitable for frying.  That said, you can carefully fry an egg in olive oil at a low temperature (and honestly, good fried eggs swimming in good olive oil are wonderful).  But you can NOT fry meat nor deep-fry anything.  The best frying oil is peanut oil.  Canola is a good frying oil and is particularly healthy.  Like olive oil there is variation in the brands.  Peanut oil should be slightly nutty, but not peanutty.  Canola oil should be flavorless.DIPPING OILTraditionally (and in the best restaurants), Italian bread, oil and balsamic vinegar is served as an appetizer.  The diner usually mixes his own oil and vinegar at the table.  Albeit probably heresy, you can subsitute other premium types of vinegar (such as wine vinegar, rasberry vinegar, or even apple vinegar) or fresh lemon juice.  I usually add a few drops soy sause or Braggs for saltiness and richness to the mixture. SALAD OILThe requirements for an \"everyday\" salad oil are a little less stringent than that for a dipping oil, because the heavy flavor of the vinegar, and often pamessan, bacon bits, etc. usually dominate.  However, I rarely use oil and vinegar the traditional way.  For everyday salads (or as a dip for raw vegies) I prefer olive-oil based mayo with a little freshly ground pepper, and some citrus zest.  For special salads, I use a seed or nut oil or a fruity premium olive oil (and just a hint of lemon and/or orange juice and zest).  Colavita is a very good \"everyday\" salad oil.  If you are not familiar with fresh citrus zest (wonderful stuff), the tool to use is HEALTHY COOKINGI go to a great deal of effort to minimize animal fat in my diet, by very strict trimming, thorough cooking, and by chilling broth to remove the solidified fat.  However, the body needs fat and craves fat.  The ideal solution is to replace animal fat with healthy vegetable oils.  Olive oil is ideal for the purpose.  Canola is better, but is essentially flavorless.My Southern grandmother could not cook any vegetables without a thick slice of fatback (fatty bacon)---and indeed her vegetables were very tasty.  Speaking of which, what is the point of healthy vegetables if no-one will eat them?  The solution is to add several tablespoon fulls of olive oil, and just a teaspoon of chipped ham  are about half the price of the bottle per oz at this time, but is still expensive for the quality, particularly with the shipping charge.  The tins are small enough to use directly. But I prefer bottles, because controlling the flow of the oil is easier (since you can see the oil approaching the spout), and it is easier to gauge the amount of oil I'm using by eye (how far the level drops in the glass bottle). So, I refill bottles from the tins.  I've been told that olive oil stays fresher in tins (measured in months and years) That becomes relevant when you don't know how many months (or even years) a bottle may have sat on a grocery shelf.GENERAL RECCOMENDATIONThe price of many items, including Colavita vary wildly on Amazon, sometimes from day-to-day.  Sometimes it is available directly from Amazon with free shipping, sometimes not---which makes a big difference in the total coat.  After major grocery shopping expeditions, sit down at your computer with your reciept, and check if you can buy any of the non-perishables through Amazon. When you find items (even if more expensive than you just paid), put the item on your Amazon wish list, and add a note to the wish list of the price you just paid. Check your wish list frequently, and when you see an item you need at a bargain price, buy it.\n"
     ]
    }
   ],
   "source": [
    "# https://stackoverflow.com/questions/16206380/python-beautifulsoup-how-to-remove-all-tags-from-an-element\n",
    "from bs4 import BeautifulSoup\n",
    "\n",
    "\n",
    "\n",
    "soup = BeautifulSoup(sent_179, 'lxml')\n",
    "text = soup.get_text()\n",
    "print(text)\n",
    "print(\"=\"*50)\n",
    "\n",
    "soup = BeautifulSoup(sent_158, 'lxml')\n",
    "text = soup.get_text()\n",
    "print(text)\n",
    "print(\"=\"*50)\n",
    "\n",
    "soup = BeautifulSoup(sent_1264, 'lxml')\n",
    "text = soup.get_text()\n",
    "print(text)\n",
    "print(\"=\"*50)\n",
    "\n",
    "soup = BeautifulSoup(sent_1281, 'lxml')\n",
    "text = soup.get_text()\n",
    "print(text)"
   ]
  },
  {
   "cell_type": "code",
   "execution_count": 0,
   "metadata": {
    "colab": {},
    "colab_type": "code",
    "id": "KeLliARsvUW4"
   },
   "outputs": [],
   "source": [
    "# https://stackoverflow.com/a/47091490/4084039\n",
    "# Method will replace Contracted words to normal words.\n",
    "import re\n",
    "\n",
    "def decontracted(phrase):\n",
    "    # specific\n",
    "    phrase = re.sub(r\"won't\", \"will not\", phrase)\n",
    "    phrase = re.sub(r\"can\\'t\", \"can not\", phrase)\n",
    "\n",
    "    # general\n",
    "    phrase = re.sub(r\"n\\'t\", \" not\", phrase)\n",
    "    phrase = re.sub(r\"\\'re\", \" are\", phrase)\n",
    "    phrase = re.sub(r\"\\'s\", \" is\", phrase)\n",
    "    phrase = re.sub(r\"\\'d\", \" would\", phrase)\n",
    "    phrase = re.sub(r\"\\'ll\", \" will\", phrase)\n",
    "    phrase = re.sub(r\"\\'t\", \" not\", phrase)\n",
    "    phrase = re.sub(r\"\\'ve\", \" have\", phrase)\n",
    "    phrase = re.sub(r\"\\'m\", \" am\", phrase)\n",
    "    return phrase"
   ]
  },
  {
   "cell_type": "code",
   "execution_count": 28,
   "metadata": {
    "colab": {
     "base_uri": "https://localhost:8080/",
     "height": 173
    },
    "colab_type": "code",
    "id": "2TDsiGhVvUW7",
    "outputId": "a50d4906-c715-447c-8c8e-77b45d5370b8"
   },
   "outputs": [
    {
     "name": "stdout",
     "output_type": "stream",
     "text": [
      "These wholesome treats are only 1 or 2 calories per biscotti \"crouton.\" My 50 pound dog has a weight problem, and these are the only treats I can use to reward him for obedience multiple times a day.<br /><br />The biscotti do not crumble in my  pocket on a walk, and my dog even sniffs my pockets at home to ask for another one. Even though the treats are tiny, he does not swallow them whole. He chews them--maybe to savor them. I also put these in his <a href=\" Pet Seek-A-Treat Shuffle Bone Dog Puzzle</a> as a reward, and he solves his puzzle with enthusiasm. Even though my dog weighs 50 pounds, one 8 oz bag lasts about a month.<br /><br />My dog has no diagnosed allergies, but his gasto-esophgial system was sensitive and irregular starting from the time we rescued him. For his weight-loss, I switched his food to <a href=\" Buffalo Longevity Dry Food for Adult Dogs, 24-Pound Bag</a>, which has no soy, wheat, corn, by-products, or preservatives. His gastro-esophogeal system happened to improve a lot and became regular. The hypo-allergenic treats did not cost much more than the regular ones at the time I first bought them, so I figured I would be safe and buy them. My dog has not had any problems on these treats, but the change in food might also explain it.  I am sticking with the hypo-allergenic even though it is not eligible for free shipping.<br /><br />Having said that my dog likes these treats a lot, these are not his very favorite.  I give him a medium-sized biscuit <a href=\" Breath & Tartar Spearmint & Parsley Flavored Biscuits, 19.5 Ounce Bag</a>every few days, and he goes absolutely crazy for it. Alas, the biscuits have too many calories for me to treat him more often. I would say my dog would rate his biscuits 10 barks for taste, whereas he would give his biscotti a solid 7 barks.<br /><br />Because the biscotti treats are tasty, made with wholesome ingredients, and very low in calories, I rate them 5 stars.  I consider liver biscotti a good investment in my dog is health. Every dog should have liver biscotti as his or her go-to treats.\n",
      "==================================================\n",
      "I used to be a fan of Canidae, but after $2k in recent vet bills and a very sick dog, I found out there is a HUGE amount of Consumer Affairs complaints about this company.<br /><br />After blood work, ultrasound and many other tests trying to figure out why my dog was not eating, was throwing up on the rare occasion he did, had pockets of gas the size of base balls (he is a small dog) and had all the symptoms of kidney and liver failure, my vet determined it might be the food. I found that hard to believe, but we could not find anything else wrong. If you read the complaints you will see many people have lost their dogs. They started using one of the very companies for production whose imported food killed so many animals a year or so ago.<br /><br />As soon as I quit feeding him this poison, he started getting better. I was one of the lucky ones since my pet did not die, but as I write this, he still has not gained all his weight back.<br /><br />The company is acting as if nothing is wrong. Probably on the advice of their attorneys.<br /><br />You do not need to take my word for it, please read up... \n",
      "==================================================\n",
      "Green chili sauces tend to be milder than their red companions, and this \"Castillo Salsa Habanera - Green\" is no exception.  It has a nice, tiny little kick to it, but it is mild enough that I could just pour it straight into my mouth.<br /><br />So, unless you do not have much tolerance for heat, you are buying this for the flavor, not the spice. And this does have a nice flavor.  It is a good blend of habanera, garlic, and some other spices, without being too vinegary or overpowering.  We had some fajitas for breakfast this morning, and this Castillo Salsa was poured quite liberally over them.  Delicious.<br /><br />It is not quite as good as my favorite green salsa,<a href=\" Jalapeno Death Sauce with Tequila</a> , but a bottle of this Castillo sauce can usually be found in my kitchen.\n",
      "==================================================\n",
      "QUALITY<br />In my opinion, having used a dozen or so brands of olive oil, Colavita is simply the best reasonably priced olive oil which is widely available.  I have been using Colavita for several years now, and have never been dissappointed.  Colavita is excellent quality, dependable, and reasonably priced---the perfect combination for a daily general purpose olive oil.<br /><br />FLAVOR<br />Although not an \"olive oil gourmand\", I would describe Colavita as \"rich and smooth\".  Connoisseurs probably have other silly terms for the flavor, such as \"nutty\" or \"fruity\" (but a \"civilian\" would never describe the flavor as nutty or fruity). It is not  spicy like Whole Foods 360, and NOT strongly \"olive-oily\" (i.e., \"herby\").  Colavita is an evoo (\"extra virgin olive oil\"---to us non-olive oil snobs), which means \"first pressing\".  Most olive-oil nuts consider the words \"extra virgin\" to be sacred.  Practically speaking though, the mere label \"extra virgin\" is not a guarantee of quality---most grocery store brands (evoo or not) are harsh and bitter, but some are good cooking oils.<br /><br />PREMIUM OILS<br />Botique premium oils are are as variable year to year as wines, comparably expensive, and have to be bought the way you buy fine wine (that is, ideally at tastings, where you confirm the quality and flavor before purchase).  Some are genuinely (as in NOT-gourmet-speak) buttery and nutty---great for dipping.  Some taste like the fragrance of flowers---great for salads.  Never cook premium olive oil---use it for dipping or drizzling, or on delicate salads.  Colavita is a very good general purpose oil, perhaps the best common grocery store olive oil, but is not quite a premium oil.<br /><br />Although heresy (comparable to suggesting fruit wines to a wine connoisseur) there are inexpensive alternatives to premium botique olive oils, including pumpkinseed, almond, sesame, and walnut oil.  I particularly love pumpkinseed oil as a dipping oil (by itself, no vinegar, and with a little salt). The following are examples---I can not vouch for the specific brands as they are different from what I use.  <a href=\" Pumpkinseed Oil 8.45 oz</a>, <a href=\" Almond Oil 300ml</a>, <a href=\" - Pure Sesame Oil 5.5 Oz.</a>, <a href=\" Natural Walnut Oil, Cold Pressed 16 fl oz (474 ml) Liquid</a><br /><br />COOKING OIL<br />Non-extra virgin olive oils (second or later pressings) are usually darker and stronger flavored---which adds depth and complexity to soups, sauses, stews, chili, casseroles, bean dishes etc. I add 1/4 to 1/2 cup of olive oil to such dishes.  Unless you particularly want the dish to taste \"olive-oily\" (I never do), cook the oil WITH the dish.  However, olive oil can \"go bad\"---so unless you use alot, it does not sense to use a different cooking oil than you use on salads, for dipping etc.  Colavita is a very good general purpose oil, and therefore a good cooking oil.<br /><br />\"Cooking\" does NOT mean \"frying\" with ANY olive oil.  Because of the low smoke point (i.e., olive oil burns at a low temperature) olive oil is NOT suitable for frying.  That said, you can carefully fry an egg in olive oil at a low temperature (and honestly, good fried eggs swimming in good olive oil are wonderful).  But you can NOT fry meat nor deep-fry anything.  The best frying oil is peanut oil.  Canola is a good frying oil and is particularly healthy.  Like olive oil there is variation in the brands.  Peanut oil should be slightly nutty, but not peanutty.  Canola oil should be flavorless.<br /><br />DIPPING OIL<br />Traditionally (and in the best restaurants), Italian bread, oil and balsamic vinegar is served as an appetizer.  The diner usually mixes his own oil and vinegar at the table.  Albeit probably heresy, you can subsitute other premium types of vinegar (such as wine vinegar, rasberry vinegar, or even apple vinegar) or fresh lemon juice.  I usually add a few drops soy sause or Braggs for saltiness and richness to the mixture. <a href=\" Liquid Aminos, Natural Soy Sauce Alternative, 32-Ounce Bottle , (Pack of 3)</a> Colavita is a very good \"everyday\" dipping oil.<br /><br />SALAD OIL<br />The requirements for an \"everyday\" salad oil are a little less stringent than that for a dipping oil, because the heavy flavor of the vinegar, and often pamessan, bacon bits, etc. usually dominate.  However, I rarely use oil and vinegar the traditional way.  For everyday salads (or as a dip for raw vegies) I prefer olive-oil based mayo with a little freshly ground pepper, and some citrus zest.  For special salads, I use a seed or nut oil or a fruity premium olive oil (and just a hint of lemon and/or orange juice and zest).  Colavita is a very good \"everyday\" salad oil.  If you are not familiar with fresh citrus zest (wonderful stuff), the tool to use is <a href=\" 40020 Classic Zester/Grater</a><br /><br />DRIZZING OIL<br />A drizzling oil is an oil you pour over a dish immediately before serving, or which you serve in a carafe on the table.  If you REALLY like the flavor of \"ordinary good\" olive oil (I do not)---then you will find Colavita to be a good drizzling oil.  My hispanic wife frequently drizzles Colavita on the dishes I have cooked (with Colavita), because she likes the olive-oil flavor.  By the way, the same principle applies to the use of butter, pepper, garlic, cheese, even soy sause---if you want the flavor to dominate, add it just before serving; if you want the flavor to be subtle, cook the seasoning with the dish.  For most dishes I prefer a rich blend of subtle flavors.<br /><br />HEALTHY COOKING<br />I go to a great deal of effort to minimize animal fat in my diet, by very strict trimming, thorough cooking, and by chilling broth to remove the solidified fat.  However, the body needs fat and craves fat.  The ideal solution is to replace animal fat with healthy vegetable oils.  Olive oil is ideal for the purpose.  Canola is better, but is essentially flavorless.<br /><br />My Southern grandmother could not cook any vegetables without a thick slice of fatback (fatty bacon)---and indeed her vegetables were very tasty.  Speaking of which, what is the point of healthy vegetables if no-one will eat them?  The solution is to add several tablespoon fulls of olive oil, and just a teaspoon of chipped ham <a href=\" Premium Real Crumbled Bacon</a> to the vegies.  For the best flavor, cook the vegies with the olive oil (do NOT add oil to the cooked vegetables---unless you really like the flavor of the oil).  Season as necessary with pepper and fresh lemon juice.  Truly delicious vegetables are possible---I eat them daily.<br /><br />ECONOMY<br />It has been about a year since I have purchased Colavita because I can buy a better but obscure brand (Bella Famiglia) locally for $12 per 17oz bottle.  The 34 ounce tins of Colavita <a href=\" Extra Virgin Olive Oil, 34-Ounce Tins (Pack of 2)</a> are about half the price of the bottle per oz at this time, but is still expensive for the quality, particularly with the shipping charge.  The tins are small enough to use directly. But I prefer bottles, because controlling the flow of the oil is easier (since you can see the oil approaching the spout), and it is easier to gauge the amount of oil I am using by eye (how far the level drops in the glass bottle). So, I refill bottles from the tins.  I have been told that olive oil stays fresher in tins (measured in months and years) That becomes relevant when you do not know how many months (or even years) a bottle may have sat on a grocery shelf.<br /><br />GENERAL RECCOMENDATION<br />The price of many items, including Colavita vary wildly on Amazon, sometimes from day-to-day.  Sometimes it is available directly from Amazon with free shipping, sometimes not---which makes a big difference in the total coat.  After major grocery shopping expeditions, sit down at your computer with your reciept, and check if you can buy any of the non-perishables through Amazon. When you find items (even if more expensive than you just paid), put the item on your Amazon wish list, and add a note to the wish list of the price you just paid. Check your wish list frequently, and when you see an item you need at a bargain price, buy it.\n",
      "==================================================\n"
     ]
    }
   ],
   "source": [
    "sent_179 = decontracted(sent_179)\n",
    "sent_158 = decontracted(sent_158)\n",
    "sent_1264 = decontracted(sent_1264)\n",
    "sent_1281 = decontracted(sent_1281)\n",
    "print(sent_179)\n",
    "print(\"=\"*50)\n",
    "print(sent_158)\n",
    "print(\"=\"*50)\n",
    "print(sent_1264)\n",
    "print(\"=\"*50)\n",
    "print(sent_1281)\n",
    "print(\"=\"*50)"
   ]
  },
  {
   "cell_type": "code",
   "execution_count": 29,
   "metadata": {
    "colab": {
     "base_uri": "https://localhost:8080/",
     "height": 54
    },
    "colab_type": "code",
    "id": "4wLhiUYjvUXB",
    "outputId": "28e1ebbd-fdb2-4961-c834-4dd26c39b8e8"
   },
   "outputs": [
    {
     "name": "stdout",
     "output_type": "stream",
     "text": [
      "These wholesome treats are only  or  calories per biscotti \"crouton.\" My  pound dog has a weight problem, and these are the only treats I can use to reward him for obedience multiple times a day.<br /><br />The biscotti do not crumble in my  pocket on a walk, and my dog even sniffs my pockets at home to ask for another one. Even though the treats are tiny, he does not swallow them whole. He chews them--maybe to savor them. I also put these in his <a href=\" Pet Seek-A-Treat Shuffle Bone Dog Puzzle</a> as a reward, and he solves his puzzle with enthusiasm. Even though my dog weighs  pounds, one  oz bag lasts about a month.<br /><br />My dog has no diagnosed allergies, but his gasto-esophgial system was sensitive and irregular starting from the time we rescued him. For his weight-loss, I switched his food to <a href=\" Buffalo Longevity Dry Food for Adult Dogs,  Bag</a>, which has no soy, wheat, corn, by-products, or preservatives. His gastro-esophogeal system happened to improve a lot and became regular. The hypo-allergenic treats did not cost much more than the regular ones at the time I first bought them, so I figured I would be safe and buy them. My dog has not had any problems on these treats, but the change in food might also explain it.  I am sticking with the hypo-allergenic even though it is not eligible for free shipping.<br /><br />Having said that my dog likes these treats a lot, these are not his very favorite.  I give him a medium-sized biscuit <a href=\" Breath & Tartar Spearmint & Parsley Flavored Biscuits,  Ounce Bag</a>every few days, and he goes absolutely crazy for it. Alas, the biscuits have too many calories for me to treat him more often. I would say my dog would rate his biscuits  barks for taste, whereas he would give his biscotti a solid  barks.<br /><br />Because the biscotti treats are tasty, made with wholesome ingredients, and very low in calories, I rate them  stars.  I consider liver biscotti a good investment in my dog is health. Every dog should have liver biscotti as his or her go-to treats.\n"
     ]
    }
   ],
   "source": [
    "#remove words with numbers python: https://stackoverflow.com/a/18082370/4084039\n",
    "#The method will remove the number with blank.\n",
    "sent_179 = re.sub(\"\\S*\\d\\S*\", \"\", sent_179).strip()\n",
    "print(sent_179)"
   ]
  },
  {
   "cell_type": "code",
   "execution_count": 30,
   "metadata": {
    "colab": {
     "base_uri": "https://localhost:8080/",
     "height": 54
    },
    "colab_type": "code",
    "id": "YtgW1vA6vUXG",
    "outputId": "f5dfcfcc-2d11-4831-c621-45a262f77efc"
   },
   "outputs": [
    {
     "name": "stdout",
     "output_type": "stream",
     "text": [
      "These wholesome treats are only or calories per biscotti crouton My pound dog has a weight problem and these are the only treats I can use to reward him for obedience multiple times a day br br The biscotti do not crumble in my pocket on a walk and my dog even sniffs my pockets at home to ask for another one Even though the treats are tiny he does not swallow them whole He chews them maybe to savor them I also put these in his a href Pet Seek A Treat Shuffle Bone Dog Puzzle a as a reward and he solves his puzzle with enthusiasm Even though my dog weighs pounds one oz bag lasts about a month br br My dog has no diagnosed allergies but his gasto esophgial system was sensitive and irregular starting from the time we rescued him For his weight loss I switched his food to a href Buffalo Longevity Dry Food for Adult Dogs Bag a which has no soy wheat corn by products or preservatives His gastro esophogeal system happened to improve a lot and became regular The hypo allergenic treats did not cost much more than the regular ones at the time I first bought them so I figured I would be safe and buy them My dog has not had any problems on these treats but the change in food might also explain it I am sticking with the hypo allergenic even though it is not eligible for free shipping br br Having said that my dog likes these treats a lot these are not his very favorite I give him a medium sized biscuit a href Breath Tartar Spearmint Parsley Flavored Biscuits Ounce Bag a every few days and he goes absolutely crazy for it Alas the biscuits have too many calories for me to treat him more often I would say my dog would rate his biscuits barks for taste whereas he would give his biscotti a solid barks br br Because the biscotti treats are tasty made with wholesome ingredients and very low in calories I rate them stars I consider liver biscotti a good investment in my dog is health Every dog should have liver biscotti as his or her go to treats \n"
     ]
    }
   ],
   "source": [
    "#remove spacial character: https://stackoverflow.com/a/5843547/4084039\n",
    "#The method will remove any special character present in the text.\n",
    "sent_73 = re.sub('[^A-Za-z0-9]+', ' ', sent_179)\n",
    "print(sent_73)"
   ]
  },
  {
   "cell_type": "code",
   "execution_count": 0,
   "metadata": {
    "colab": {},
    "colab_type": "code",
    "id": "7F9WBn8HvUXO"
   },
   "outputs": [],
   "source": [
    "# https://gist.github.com/sebleier/554280\n",
    "# we are removing the words from the stop words list: 'no', 'nor', 'not'\n",
    "# <br /><br /> ==> after the above steps, we are getting \"br br\"\n",
    "# we are including them into stop words list\n",
    "# instead of <br /> if we have <br/> these tags would have revmoved in the 1st step\n",
    "\n",
    "stopwords= set(['br', 'the', 'i', 'me', 'my', 'myself', 'we', 'our', 'ours', 'ourselves', 'you', \"you're\", \"you've\",\\\n",
    "            \"you'll\", \"you'd\", 'your', 'yours', 'yourself', 'yourselves', 'he', 'him', 'his', 'himself', \\\n",
    "            'she', \"she's\", 'her', 'hers', 'herself', 'it', \"it's\", 'its', 'itself', 'they', 'them', 'their',\\\n",
    "            'theirs', 'themselves', 'what', 'which', 'who', 'whom', 'this', 'that', \"that'll\", 'these', 'those', \\\n",
    "            'am', 'is', 'are', 'was', 'were', 'be', 'been', 'being', 'have', 'has', 'had', 'having', 'do', 'does', \\\n",
    "            'did', 'doing', 'a', 'an', 'the', 'and', 'but', 'if', 'or', 'because', 'as', 'until', 'while', 'of', \\\n",
    "            'at', 'by', 'for', 'with', 'about', 'against', 'between', 'into', 'through', 'during', 'before', 'after',\\\n",
    "            'above', 'below', 'to', 'from', 'up', 'down', 'in', 'out', 'on', 'off', 'over', 'under', 'again', 'further',\\\n",
    "            'then', 'once', 'here', 'there', 'when', 'where', 'why', 'how', 'all', 'any', 'both', 'each', 'few', 'more',\\\n",
    "            'most', 'other', 'some', 'such', 'only', 'own', 'same', 'so', 'than', 'too', 'very', \\\n",
    "            's', 't', 'can', 'will', 'just', 'don', \"don't\", 'should', \"should've\", 'now', 'd', 'll', 'm', 'o', 're', \\\n",
    "            've', 'y', 'ain', 'aren', \"aren't\", 'couldn', \"couldn't\", 'didn', \"didn't\", 'doesn', \"doesn't\", 'hadn',\\\n",
    "            \"hadn't\", 'hasn', \"hasn't\", 'haven', \"haven't\", 'isn', \"isn't\", 'ma', 'mightn', \"mightn't\", 'mustn',\\\n",
    "            \"mustn't\", 'needn', \"needn't\", 'shan', \"shan't\", 'shouldn', \"shouldn't\", 'wasn', \"wasn't\", 'weren', \"weren't\", \\\n",
    "            'won', \"won't\", 'wouldn', \"wouldn't\"])"
   ]
  },
  {
   "cell_type": "code",
   "execution_count": 32,
   "metadata": {
    "colab": {
     "base_uri": "https://localhost:8080/",
     "height": 34
    },
    "colab_type": "code",
    "id": "O7LdL7fvvUXS",
    "outputId": "e579b46a-dccc-4586-e506-3a542ab5ba8e"
   },
   "outputs": [
    {
     "name": "stderr",
     "output_type": "stream",
     "text": [
      "100%|██████████| 62862/62862 [00:27<00:00, 2276.77it/s]\n"
     ]
    }
   ],
   "source": [
    "# Combining all the above stundents \n",
    "from tqdm import tqdm\n",
    "preprocessed_reviews = []\n",
    "# tqdm is for printing the status bar\n",
    "for sentance in tqdm(final['Text'].values):\n",
    "    sentance = re.sub(r\"http\\S+\", \"\", sentance)\n",
    "    sentance = BeautifulSoup(sentance, 'lxml').get_text()\n",
    "    sentance = decontracted(sentance)\n",
    "    sentance = re.sub(\"\\S*\\d\\S*\", \"\", sentance).strip()\n",
    "    sentance = re.sub('[^A-Za-z]+', ' ', sentance)\n",
    "    # https://gist.github.com/sebleier/554280\n",
    "    sentance = ' '.join(e.lower() for e in sentance.split() if e.lower() not in stopwords)\n",
    "    preprocessed_reviews.append(sentance.strip())"
   ]
  },
  {
   "cell_type": "code",
   "execution_count": 33,
   "metadata": {
    "colab": {
     "base_uri": "https://localhost:8080/",
     "height": 54
    },
    "colab_type": "code",
    "id": "I52C9rjVvUXc",
    "outputId": "d90dc996-ff12-48e4-9010-6648fd93a5c5"
   },
   "outputs": [
    {
     "data": {
      "text/plain": [
       "'wholesome treats calories per biscotti crouton pound dog weight problem treats use reward obedience multiple times day biscotti not crumble pocket walk dog even sniffs pockets home ask another one even though treats tiny not swallow whole chews maybe savor also put no soy wheat corn products preservatives gastro esophogeal system happened improve lot became regular hypo allergenic treats not cost much regular ones time first bought figured would safe buy dog not problems treats change food might also explain sticking hypo allergenic even though not eligible free shipping said dog likes treats lot not favorite give medium sized biscuit'"
      ]
     },
     "execution_count": 33,
     "metadata": {
      "tags": []
     },
     "output_type": "execute_result"
    }
   ],
   "source": [
    "preprocessed_reviews[179]"
   ]
  },
  {
   "cell_type": "markdown",
   "metadata": {
    "colab_type": "text",
    "id": "72v3kG5xvUXk"
   },
   "source": [
    "<h2><font color='red'>[3.2] Preprocessing Review Summary</font></h2>"
   ]
  },
  {
   "cell_type": "code",
   "execution_count": 34,
   "metadata": {
    "colab": {
     "base_uri": "https://localhost:8080/",
     "height": 34
    },
    "colab_type": "code",
    "id": "UYd2DgKnvUXm",
    "outputId": "bda5a607-af9a-43ea-a9b7-59c57e9d9887"
   },
   "outputs": [
    {
     "name": "stdout",
     "output_type": "stream",
     "text": [
      "{60279: ['http://www.amazon.com']}\n"
     ]
    }
   ],
   "source": [
    "#Finding the reviews which contains URLs in it.\n",
    "lst = final['Summary'].values.tolist()\n",
    "print(Find_Url_In_Review(lst))\n",
    "#print(lst)\n",
    "\n",
    "\n"
   ]
  },
  {
   "cell_type": "code",
   "execution_count": 35,
   "metadata": {
    "colab": {
     "base_uri": "https://localhost:8080/",
     "height": 34
    },
    "colab_type": "code",
    "id": "Run57bVMvUXu",
    "outputId": "db468a76-4f7e-4a28-e4b8-d79f968113cf"
   },
   "outputs": [
    {
     "name": "stdout",
     "output_type": "stream",
     "text": [
      "http://www.amazon.com/gp/product/B007I7YYGY/ref=cm_cr_rev_prod_title\n"
     ]
    }
   ],
   "source": [
    "summ_180279 = final['Summary'].values[60279]\n",
    "\n",
    "\n",
    "print(summ_180279)\n"
   ]
  },
  {
   "cell_type": "code",
   "execution_count": 36,
   "metadata": {
    "colab": {
     "base_uri": "https://localhost:8080/",
     "height": 34
    },
    "colab_type": "code",
    "id": "pXy5rMuVvUXz",
    "outputId": "516f4496-444f-4062-c1a1-6d2be29e753a"
   },
   "outputs": [
    {
     "name": "stderr",
     "output_type": "stream",
     "text": [
      "100%|██████████| 62862/62862 [00:19<00:00, 3196.39it/s]\n"
     ]
    }
   ],
   "source": [
    "#Sincw URL is very less in the summary so I am directly applying all the stundants at a time.\n",
    "\n",
    "from tqdm import tqdm\n",
    "preprocessed_Summary = []\n",
    "# tqdm is for printing the status bar\n",
    "for Summary in tqdm(final['Summary'].values):\n",
    "    Summary = re.sub(r\"http\\S+\", \"\", Summary)\n",
    "    Summary = BeautifulSoup(Summary, 'lxml').get_text()\n",
    "    #Summary = remove_tags(Summary)\n",
    "    Summary = decontracted(Summary)\n",
    "    Summary = re.sub(\"\\S*\\d\\S*\", \"\", Summary).strip()\n",
    "    Summary = re.sub('[^A-Za-z]+', ' ', Summary)\n",
    "    # https://gist.github.com/sebleier/554280\n",
    "    Summary = ' '.join(e.lower() for e in Summary.split() if e.lower() not in stopwords)\n",
    "    preprocessed_Summary.append(Summary.strip())"
   ]
  },
  {
   "cell_type": "code",
   "execution_count": 37,
   "metadata": {
    "colab": {
     "base_uri": "https://localhost:8080/",
     "height": 34
    },
    "colab_type": "code",
    "id": "iOxPju_rvUX5",
    "outputId": "f51c1f33-7a80-49d5-d58c-7f316f70fd55"
   },
   "outputs": [
    {
     "data": {
      "text/plain": [
       "'good til last treat'"
      ]
     },
     "execution_count": 37,
     "metadata": {
      "tags": []
     },
     "output_type": "execute_result"
    }
   ],
   "source": [
    "#Printing one random Summary\n",
    "preprocessed_Summary[3435]"
   ]
  },
  {
   "cell_type": "code",
   "execution_count": 39,
   "metadata": {
    "colab": {
     "base_uri": "https://localhost:8080/",
     "height": 323
    },
    "colab_type": "code",
    "id": "XnjnnZRYfWWB",
    "outputId": "6fb72c4e-02cb-41b7-e5c0-942f647f4d27"
   },
   "outputs": [
    {
     "data": {
      "text/html": [
       "<div>\n",
       "<style scoped>\n",
       "    .dataframe tbody tr th:only-of-type {\n",
       "        vertical-align: middle;\n",
       "    }\n",
       "\n",
       "    .dataframe tbody tr th {\n",
       "        vertical-align: top;\n",
       "    }\n",
       "\n",
       "    .dataframe thead th {\n",
       "        text-align: right;\n",
       "    }\n",
       "</style>\n",
       "<table border=\"1\" class=\"dataframe\">\n",
       "  <thead>\n",
       "    <tr style=\"text-align: right;\">\n",
       "      <th></th>\n",
       "      <th>Id</th>\n",
       "      <th>ProductId</th>\n",
       "      <th>UserId</th>\n",
       "      <th>ProfileName</th>\n",
       "      <th>HelpfulnessNumerator</th>\n",
       "      <th>HelpfulnessDenominator</th>\n",
       "      <th>Score</th>\n",
       "      <th>Time</th>\n",
       "      <th>Summary</th>\n",
       "      <th>Text</th>\n",
       "    </tr>\n",
       "  </thead>\n",
       "  <tbody>\n",
       "    <tr>\n",
       "      <th>22621</th>\n",
       "      <td>24751</td>\n",
       "      <td>2734888454</td>\n",
       "      <td>A1C298ITT645B6</td>\n",
       "      <td>Hugh G. Pritchard</td>\n",
       "      <td>0</td>\n",
       "      <td>0</td>\n",
       "      <td>1</td>\n",
       "      <td>1195948800</td>\n",
       "      <td>Dog Lover Delites</td>\n",
       "      <td>Our dogs just love them.  I saw them in a pet ...</td>\n",
       "    </tr>\n",
       "    <tr>\n",
       "      <th>22620</th>\n",
       "      <td>24750</td>\n",
       "      <td>2734888454</td>\n",
       "      <td>A13ISQV0U9GZIC</td>\n",
       "      <td>Sandikaye</td>\n",
       "      <td>1</td>\n",
       "      <td>1</td>\n",
       "      <td>0</td>\n",
       "      <td>1192060800</td>\n",
       "      <td>made in china</td>\n",
       "      <td>My dogs loves this chicken but its a product f...</td>\n",
       "    </tr>\n",
       "    <tr>\n",
       "      <th>2547</th>\n",
       "      <td>2775</td>\n",
       "      <td>B00002NCJC</td>\n",
       "      <td>A13RRPGE79XFFH</td>\n",
       "      <td>reader48</td>\n",
       "      <td>0</td>\n",
       "      <td>0</td>\n",
       "      <td>1</td>\n",
       "      <td>1281052800</td>\n",
       "      <td>Flies Begone</td>\n",
       "      <td>We have used the Victor fly bait for 3 seasons...</td>\n",
       "    </tr>\n",
       "    <tr>\n",
       "      <th>2546</th>\n",
       "      <td>2774</td>\n",
       "      <td>B00002NCJC</td>\n",
       "      <td>A196AJHU9EASJN</td>\n",
       "      <td>Alex Chaffee</td>\n",
       "      <td>0</td>\n",
       "      <td>0</td>\n",
       "      <td>1</td>\n",
       "      <td>1282953600</td>\n",
       "      <td>thirty bucks?</td>\n",
       "      <td>Why is this $[...] when the same product is av...</td>\n",
       "    </tr>\n",
       "    <tr>\n",
       "      <th>1145</th>\n",
       "      <td>1244</td>\n",
       "      <td>B00002Z754</td>\n",
       "      <td>A3B8RCEI0FXFI6</td>\n",
       "      <td>B G Chase</td>\n",
       "      <td>10</td>\n",
       "      <td>10</td>\n",
       "      <td>1</td>\n",
       "      <td>962236800</td>\n",
       "      <td>WOW Make your own 'slickers' !</td>\n",
       "      <td>I just received my shipment and could hardly w...</td>\n",
       "    </tr>\n",
       "  </tbody>\n",
       "</table>\n",
       "</div>"
      ],
      "text/plain": [
       "          Id   ProductId          UserId        ProfileName  \\\n",
       "22621  24751  2734888454  A1C298ITT645B6  Hugh G. Pritchard   \n",
       "22620  24750  2734888454  A13ISQV0U9GZIC          Sandikaye   \n",
       "2547    2775  B00002NCJC  A13RRPGE79XFFH           reader48   \n",
       "2546    2774  B00002NCJC  A196AJHU9EASJN       Alex Chaffee   \n",
       "1145    1244  B00002Z754  A3B8RCEI0FXFI6          B G Chase   \n",
       "\n",
       "       HelpfulnessNumerator  HelpfulnessDenominator  Score        Time  \\\n",
       "22621                     0                       0      1  1195948800   \n",
       "22620                     1                       1      0  1192060800   \n",
       "2547                      0                       0      1  1281052800   \n",
       "2546                      0                       0      1  1282953600   \n",
       "1145                     10                      10      1   962236800   \n",
       "\n",
       "                              Summary  \\\n",
       "22621               Dog Lover Delites   \n",
       "22620                   made in china   \n",
       "2547                     Flies Begone   \n",
       "2546                    thirty bucks?   \n",
       "1145   WOW Make your own 'slickers' !   \n",
       "\n",
       "                                                    Text  \n",
       "22621  Our dogs just love them.  I saw them in a pet ...  \n",
       "22620  My dogs loves this chicken but its a product f...  \n",
       "2547   We have used the Victor fly bait for 3 seasons...  \n",
       "2546   Why is this $[...] when the same product is av...  \n",
       "1145   I just received my shipment and could hardly w...  "
      ]
     },
     "execution_count": 39,
     "metadata": {
      "tags": []
     },
     "output_type": "execute_result"
    }
   ],
   "source": [
    "final.head()"
   ]
  },
  {
   "cell_type": "markdown",
   "metadata": {
    "colab_type": "text",
    "id": "Rc1YsE13_o05"
   },
   "source": [
    "<h2><font color='red'>Spliting into Train, Test and CV</font></h2>"
   ]
  },
  {
   "cell_type": "code",
   "execution_count": 0,
   "metadata": {
    "colab": {},
    "colab_type": "code",
    "id": "lv9H7HmJfFyo"
   },
   "outputs": [],
   "source": [
    "final[\"Clean_Text\"] =preprocessed_reviews\n",
    "final[\"Clean_Summary\"] =preprocessed_Summary\n",
    "# Combining them together in Final_Text Field.\n",
    "final[\"Final_Text\"] =final['Clean_Text'].values+\" \"+final['Clean_Summary'].values"
   ]
  },
  {
   "cell_type": "code",
   "execution_count": 41,
   "metadata": {
    "colab": {
     "base_uri": "https://localhost:8080/",
     "height": 615
    },
    "colab_type": "code",
    "id": "IPXJ7JzNf04G",
    "outputId": "0025ab44-6bc6-45f4-f663-5fb234f0ca67"
   },
   "outputs": [
    {
     "data": {
      "text/html": [
       "<div>\n",
       "<style scoped>\n",
       "    .dataframe tbody tr th:only-of-type {\n",
       "        vertical-align: middle;\n",
       "    }\n",
       "\n",
       "    .dataframe tbody tr th {\n",
       "        vertical-align: top;\n",
       "    }\n",
       "\n",
       "    .dataframe thead th {\n",
       "        text-align: right;\n",
       "    }\n",
       "</style>\n",
       "<table border=\"1\" class=\"dataframe\">\n",
       "  <thead>\n",
       "    <tr style=\"text-align: right;\">\n",
       "      <th></th>\n",
       "      <th>Id</th>\n",
       "      <th>ProductId</th>\n",
       "      <th>UserId</th>\n",
       "      <th>ProfileName</th>\n",
       "      <th>HelpfulnessNumerator</th>\n",
       "      <th>HelpfulnessDenominator</th>\n",
       "      <th>Score</th>\n",
       "      <th>Time</th>\n",
       "      <th>Summary</th>\n",
       "      <th>Text</th>\n",
       "      <th>Clean_Text</th>\n",
       "      <th>Clean_Summary</th>\n",
       "      <th>Final_Text</th>\n",
       "    </tr>\n",
       "  </thead>\n",
       "  <tbody>\n",
       "    <tr>\n",
       "      <th>22621</th>\n",
       "      <td>24751</td>\n",
       "      <td>2734888454</td>\n",
       "      <td>A1C298ITT645B6</td>\n",
       "      <td>Hugh G. Pritchard</td>\n",
       "      <td>0</td>\n",
       "      <td>0</td>\n",
       "      <td>1</td>\n",
       "      <td>1195948800</td>\n",
       "      <td>Dog Lover Delites</td>\n",
       "      <td>Our dogs just love them.  I saw them in a pet ...</td>\n",
       "      <td>dogs love saw pet store tag attached regarding...</td>\n",
       "      <td>dog lover delites</td>\n",
       "      <td>dogs love saw pet store tag attached regarding...</td>\n",
       "    </tr>\n",
       "    <tr>\n",
       "      <th>22620</th>\n",
       "      <td>24750</td>\n",
       "      <td>2734888454</td>\n",
       "      <td>A13ISQV0U9GZIC</td>\n",
       "      <td>Sandikaye</td>\n",
       "      <td>1</td>\n",
       "      <td>1</td>\n",
       "      <td>0</td>\n",
       "      <td>1192060800</td>\n",
       "      <td>made in china</td>\n",
       "      <td>My dogs loves this chicken but its a product f...</td>\n",
       "      <td>dogs loves chicken product china wont buying a...</td>\n",
       "      <td>made china</td>\n",
       "      <td>dogs loves chicken product china wont buying a...</td>\n",
       "    </tr>\n",
       "    <tr>\n",
       "      <th>2547</th>\n",
       "      <td>2775</td>\n",
       "      <td>B00002NCJC</td>\n",
       "      <td>A13RRPGE79XFFH</td>\n",
       "      <td>reader48</td>\n",
       "      <td>0</td>\n",
       "      <td>0</td>\n",
       "      <td>1</td>\n",
       "      <td>1281052800</td>\n",
       "      <td>Flies Begone</td>\n",
       "      <td>We have used the Victor fly bait for 3 seasons...</td>\n",
       "      <td>used victor fly bait seasons ca not beat great...</td>\n",
       "      <td>flies begone</td>\n",
       "      <td>used victor fly bait seasons ca not beat great...</td>\n",
       "    </tr>\n",
       "    <tr>\n",
       "      <th>2546</th>\n",
       "      <td>2774</td>\n",
       "      <td>B00002NCJC</td>\n",
       "      <td>A196AJHU9EASJN</td>\n",
       "      <td>Alex Chaffee</td>\n",
       "      <td>0</td>\n",
       "      <td>0</td>\n",
       "      <td>1</td>\n",
       "      <td>1282953600</td>\n",
       "      <td>thirty bucks?</td>\n",
       "      <td>Why is this $[...] when the same product is av...</td>\n",
       "      <td>product available victor traps unreal course t...</td>\n",
       "      <td>thirty bucks</td>\n",
       "      <td>product available victor traps unreal course t...</td>\n",
       "    </tr>\n",
       "    <tr>\n",
       "      <th>1145</th>\n",
       "      <td>1244</td>\n",
       "      <td>B00002Z754</td>\n",
       "      <td>A3B8RCEI0FXFI6</td>\n",
       "      <td>B G Chase</td>\n",
       "      <td>10</td>\n",
       "      <td>10</td>\n",
       "      <td>1</td>\n",
       "      <td>962236800</td>\n",
       "      <td>WOW Make your own 'slickers' !</td>\n",
       "      <td>I just received my shipment and could hardly w...</td>\n",
       "      <td>received shipment could hardly wait try produc...</td>\n",
       "      <td>wow make islickers</td>\n",
       "      <td>received shipment could hardly wait try produc...</td>\n",
       "    </tr>\n",
       "  </tbody>\n",
       "</table>\n",
       "</div>"
      ],
      "text/plain": [
       "          Id   ProductId          UserId        ProfileName  \\\n",
       "22621  24751  2734888454  A1C298ITT645B6  Hugh G. Pritchard   \n",
       "22620  24750  2734888454  A13ISQV0U9GZIC          Sandikaye   \n",
       "2547    2775  B00002NCJC  A13RRPGE79XFFH           reader48   \n",
       "2546    2774  B00002NCJC  A196AJHU9EASJN       Alex Chaffee   \n",
       "1145    1244  B00002Z754  A3B8RCEI0FXFI6          B G Chase   \n",
       "\n",
       "       HelpfulnessNumerator  HelpfulnessDenominator  Score        Time  \\\n",
       "22621                     0                       0      1  1195948800   \n",
       "22620                     1                       1      0  1192060800   \n",
       "2547                      0                       0      1  1281052800   \n",
       "2546                      0                       0      1  1282953600   \n",
       "1145                     10                      10      1   962236800   \n",
       "\n",
       "                              Summary  \\\n",
       "22621               Dog Lover Delites   \n",
       "22620                   made in china   \n",
       "2547                     Flies Begone   \n",
       "2546                    thirty bucks?   \n",
       "1145   WOW Make your own 'slickers' !   \n",
       "\n",
       "                                                    Text  \\\n",
       "22621  Our dogs just love them.  I saw them in a pet ...   \n",
       "22620  My dogs loves this chicken but its a product f...   \n",
       "2547   We have used the Victor fly bait for 3 seasons...   \n",
       "2546   Why is this $[...] when the same product is av...   \n",
       "1145   I just received my shipment and could hardly w...   \n",
       "\n",
       "                                              Clean_Text       Clean_Summary  \\\n",
       "22621  dogs love saw pet store tag attached regarding...   dog lover delites   \n",
       "22620  dogs loves chicken product china wont buying a...          made china   \n",
       "2547   used victor fly bait seasons ca not beat great...        flies begone   \n",
       "2546   product available victor traps unreal course t...        thirty bucks   \n",
       "1145   received shipment could hardly wait try produc...  wow make islickers   \n",
       "\n",
       "                                              Final_Text  \n",
       "22621  dogs love saw pet store tag attached regarding...  \n",
       "22620  dogs loves chicken product china wont buying a...  \n",
       "2547   used victor fly bait seasons ca not beat great...  \n",
       "2546   product available victor traps unreal course t...  \n",
       "1145   received shipment could hardly wait try produc...  "
      ]
     },
     "execution_count": 41,
     "metadata": {
      "tags": []
     },
     "output_type": "execute_result"
    }
   ],
   "source": [
    "#Displaying the Final Dataframe\n",
    "final.head()"
   ]
  },
  {
   "cell_type": "code",
   "execution_count": 42,
   "metadata": {
    "colab": {
     "base_uri": "https://localhost:8080/",
     "height": 68
    },
    "colab_type": "code",
    "id": "iFVynlvpAGpS",
    "outputId": "b8bc6757-d407-4c93-f238-9453fdff452c"
   },
   "outputs": [
    {
     "name": "stdout",
     "output_type": "stream",
     "text": [
      "Requirement already up-to-date: scikit-learn in /usr/local/lib/python3.6/dist-packages (0.20.3)\n",
      "Requirement already satisfied, skipping upgrade: scipy>=0.13.3 in /usr/local/lib/python3.6/dist-packages (from scikit-learn) (1.1.0)\n",
      "Requirement already satisfied, skipping upgrade: numpy>=1.8.2 in /usr/local/lib/python3.6/dist-packages (from scikit-learn) (1.14.6)\n"
     ]
    }
   ],
   "source": [
    "!pip install -U scikit-learn\n",
    "from sklearn.model_selection import train_test_split\n",
    "from sklearn.neighbors import KNeighborsClassifier\n",
    "from sklearn.metrics import accuracy_score\n",
    "from sklearn.model_selection import cross_val_score\n",
    "from collections import Counter\n",
    "from sklearn.metrics import accuracy_score\n",
    "from sklearn import model_selection"
   ]
  },
  {
   "cell_type": "code",
   "execution_count": 0,
   "metadata": {
    "colab": {},
    "colab_type": "code",
    "id": "Df8D4JLbkax7"
   },
   "outputs": [],
   "source": [
    "# Sorting data based on time\n",
    "final[\"Time\"] = pd.to_datetime(final[\"Time\"], unit = \"s\")\n",
    "final = final.sort_values(by = \"Time\")"
   ]
  },
  {
   "cell_type": "code",
   "execution_count": 47,
   "metadata": {
    "colab": {
     "base_uri": "https://localhost:8080/",
     "height": 666
    },
    "colab_type": "code",
    "id": "6RP4BLxgk4pU",
    "outputId": "d125313c-ce79-4ee9-c171-ef98913bf72c"
   },
   "outputs": [
    {
     "data": {
      "text/html": [
       "<div>\n",
       "<style scoped>\n",
       "    .dataframe tbody tr th:only-of-type {\n",
       "        vertical-align: middle;\n",
       "    }\n",
       "\n",
       "    .dataframe tbody tr th {\n",
       "        vertical-align: top;\n",
       "    }\n",
       "\n",
       "    .dataframe thead th {\n",
       "        text-align: right;\n",
       "    }\n",
       "</style>\n",
       "<table border=\"1\" class=\"dataframe\">\n",
       "  <thead>\n",
       "    <tr style=\"text-align: right;\">\n",
       "      <th></th>\n",
       "      <th>Id</th>\n",
       "      <th>ProductId</th>\n",
       "      <th>UserId</th>\n",
       "      <th>ProfileName</th>\n",
       "      <th>HelpfulnessNumerator</th>\n",
       "      <th>HelpfulnessDenominator</th>\n",
       "      <th>Score</th>\n",
       "      <th>Time</th>\n",
       "      <th>Summary</th>\n",
       "      <th>Text</th>\n",
       "      <th>Clean_Text</th>\n",
       "      <th>Clean_Summary</th>\n",
       "      <th>Final_Text</th>\n",
       "    </tr>\n",
       "  </thead>\n",
       "  <tbody>\n",
       "    <tr>\n",
       "      <th>43703</th>\n",
       "      <td>47562</td>\n",
       "      <td>B004M0Y8T8</td>\n",
       "      <td>A2QJS6MHTIFSRI</td>\n",
       "      <td>Georgie</td>\n",
       "      <td>0</td>\n",
       "      <td>0</td>\n",
       "      <td>1</td>\n",
       "      <td>2012-10-26</td>\n",
       "      <td>Sleeping a lot better</td>\n",
       "      <td>Hubby and I (both 63) have been drinking about...</td>\n",
       "      <td>hubby drinking oz night months found falling d...</td>\n",
       "      <td>sleeping lot better</td>\n",
       "      <td>hubby drinking oz night months found falling d...</td>\n",
       "    </tr>\n",
       "    <tr>\n",
       "      <th>19181</th>\n",
       "      <td>20930</td>\n",
       "      <td>B001L1MKLY</td>\n",
       "      <td>A38XYFHXEUNUW6</td>\n",
       "      <td>bleaufire</td>\n",
       "      <td>0</td>\n",
       "      <td>0</td>\n",
       "      <td>1</td>\n",
       "      <td>2012-10-26</td>\n",
       "      <td>Yummy &amp; Subtle</td>\n",
       "      <td>Just made my first pot of this wonderful coffe...</td>\n",
       "      <td>made first pot wonderful coffee simply delish ...</td>\n",
       "      <td>yummy subtle</td>\n",
       "      <td>made first pot wonderful coffee simply delish ...</td>\n",
       "    </tr>\n",
       "    <tr>\n",
       "      <th>30235</th>\n",
       "      <td>32932</td>\n",
       "      <td>B001P05K8Q</td>\n",
       "      <td>A3L0B5NBTQ7ZHO</td>\n",
       "      <td>Julie</td>\n",
       "      <td>0</td>\n",
       "      <td>0</td>\n",
       "      <td>1</td>\n",
       "      <td>2012-10-26</td>\n",
       "      <td>Great results but they stink</td>\n",
       "      <td>We originally purchased these chews from our v...</td>\n",
       "      <td>originally purchased chews veterinarian decide...</td>\n",
       "      <td>great results stink</td>\n",
       "      <td>originally purchased chews veterinarian decide...</td>\n",
       "    </tr>\n",
       "    <tr>\n",
       "      <th>6548</th>\n",
       "      <td>7178</td>\n",
       "      <td>B004OQLIHK</td>\n",
       "      <td>AKHQMSUORSA91</td>\n",
       "      <td>Pen Name</td>\n",
       "      <td>0</td>\n",
       "      <td>0</td>\n",
       "      <td>1</td>\n",
       "      <td>2012-10-26</td>\n",
       "      <td>Delicious!</td>\n",
       "      <td>I have ordered these raisins multiple times.  ...</td>\n",
       "      <td>ordered raisins multiple times always great ar...</td>\n",
       "      <td>delicious</td>\n",
       "      <td>ordered raisins multiple times always great ar...</td>\n",
       "    </tr>\n",
       "    <tr>\n",
       "      <th>5259</th>\n",
       "      <td>5703</td>\n",
       "      <td>B009WSNWC4</td>\n",
       "      <td>AMP7K1O84DH1T</td>\n",
       "      <td>ESTY</td>\n",
       "      <td>0</td>\n",
       "      <td>0</td>\n",
       "      <td>1</td>\n",
       "      <td>2012-10-26</td>\n",
       "      <td>DELICIOUS</td>\n",
       "      <td>Purchased this product at a local store in NY ...</td>\n",
       "      <td>purchased product local store ny kids love qui...</td>\n",
       "      <td>delicious</td>\n",
       "      <td>purchased product local store ny kids love qui...</td>\n",
       "    </tr>\n",
       "  </tbody>\n",
       "</table>\n",
       "</div>"
      ],
      "text/plain": [
       "          Id   ProductId          UserId ProfileName  HelpfulnessNumerator  \\\n",
       "43703  47562  B004M0Y8T8  A2QJS6MHTIFSRI     Georgie                     0   \n",
       "19181  20930  B001L1MKLY  A38XYFHXEUNUW6   bleaufire                     0   \n",
       "30235  32932  B001P05K8Q  A3L0B5NBTQ7ZHO       Julie                     0   \n",
       "6548    7178  B004OQLIHK   AKHQMSUORSA91    Pen Name                     0   \n",
       "5259    5703  B009WSNWC4   AMP7K1O84DH1T        ESTY                     0   \n",
       "\n",
       "       HelpfulnessDenominator  Score       Time                       Summary  \\\n",
       "43703                       0      1 2012-10-26         Sleeping a lot better   \n",
       "19181                       0      1 2012-10-26                Yummy & Subtle   \n",
       "30235                       0      1 2012-10-26  Great results but they stink   \n",
       "6548                        0      1 2012-10-26                    Delicious!   \n",
       "5259                        0      1 2012-10-26                     DELICIOUS   \n",
       "\n",
       "                                                    Text  \\\n",
       "43703  Hubby and I (both 63) have been drinking about...   \n",
       "19181  Just made my first pot of this wonderful coffe...   \n",
       "30235  We originally purchased these chews from our v...   \n",
       "6548   I have ordered these raisins multiple times.  ...   \n",
       "5259   Purchased this product at a local store in NY ...   \n",
       "\n",
       "                                              Clean_Text        Clean_Summary  \\\n",
       "43703  hubby drinking oz night months found falling d...  sleeping lot better   \n",
       "19181  made first pot wonderful coffee simply delish ...         yummy subtle   \n",
       "30235  originally purchased chews veterinarian decide...  great results stink   \n",
       "6548   ordered raisins multiple times always great ar...            delicious   \n",
       "5259   purchased product local store ny kids love qui...            delicious   \n",
       "\n",
       "                                              Final_Text  \n",
       "43703  hubby drinking oz night months found falling d...  \n",
       "19181  made first pot wonderful coffee simply delish ...  \n",
       "30235  originally purchased chews veterinarian decide...  \n",
       "6548   ordered raisins multiple times always great ar...  \n",
       "5259   purchased product local store ny kids love qui...  "
      ]
     },
     "execution_count": 47,
     "metadata": {
      "tags": []
     },
     "output_type": "execute_result"
    }
   ],
   "source": [
    "final.tail(5)"
   ]
  },
  {
   "cell_type": "code",
   "execution_count": 49,
   "metadata": {
    "colab": {
     "base_uri": "https://localhost:8080/",
     "height": 255
    },
    "colab_type": "code",
    "id": "itxLrSPqleOJ",
    "outputId": "17d609aa-2d97-41be-9a77-89c50a47898f"
   },
   "outputs": [
    {
     "data": {
      "text/plain": [
       "Id                        62862\n",
       "ProductId                 62862\n",
       "UserId                    62862\n",
       "ProfileName               62862\n",
       "HelpfulnessNumerator      62862\n",
       "HelpfulnessDenominator    62862\n",
       "Score                     62862\n",
       "Time                      62862\n",
       "Summary                   62862\n",
       "Text                      62862\n",
       "Clean_Text                62862\n",
       "Clean_Summary             62862\n",
       "Final_Text                62862\n",
       "dtype: int64"
      ]
     },
     "execution_count": 49,
     "metadata": {
      "tags": []
     },
     "output_type": "execute_result"
    }
   ],
   "source": [
    "final.count()"
   ]
  },
  {
   "cell_type": "code",
   "execution_count": 0,
   "metadata": {
    "colab": {},
    "colab_type": "code",
    "id": "LD2JxqyZ_0cn"
   },
   "outputs": [],
   "source": [
    "# split the data set into train and test\n",
    "X_Temp, X_Test, Y_Temp, Y_Test = train_test_split(final['Final_Text'], final['Score'], test_size=0.3, random_state=42)\n",
    "\n",
    "# split the train data set into cross validation train and cross validation test\n",
    "X_Train, X_CV, Y_Train, Y_CV = train_test_split(X_Temp, Y_Temp, test_size=0.25,random_state=42)"
   ]
  },
  {
   "cell_type": "code",
   "execution_count": 54,
   "metadata": {
    "colab": {
     "base_uri": "https://localhost:8080/",
     "height": 153
    },
    "colab_type": "code",
    "id": "2fYpWIX-A_s3",
    "outputId": "1322567d-9f59-42ac-c03e-908cc68a6bfc"
   },
   "outputs": [
    {
     "name": "stdout",
     "output_type": "stream",
     "text": [
      "Size of X_Test : 18859\n",
      "Size of Y_Test : 18859\n",
      "==================================================\n",
      "Size of X-Train : 33002\n",
      "Size of Y_Train : 33002\n",
      "==================================================\n",
      "Size of X_CV : 11001\n",
      "Size of Y_CV : 11001\n"
     ]
    }
   ],
   "source": [
    "print(\"Size of X_Test :\",len(X_Test))\n",
    "print(\"Size of Y_Test :\",len(Y_Test))\n",
    "print('='*50)\n",
    "print(\"Size of X-Train :\",len(X_Train))\n",
    "print(\"Size of Y_Train :\",len(Y_Train))\n",
    "print('='*50)\n",
    "print(\"Size of X_CV :\",len(X_CV))\n",
    "print(\"Size of Y_CV :\",len(Y_CV))"
   ]
  },
  {
   "cell_type": "markdown",
   "metadata": {
    "colab_type": "text",
    "id": "zuOh1f6QvUX-"
   },
   "source": [
    "# [4] Featurization"
   ]
  },
  {
   "cell_type": "markdown",
   "metadata": {
    "colab_type": "text",
    "id": "AEMZd0pOvUX_"
   },
   "source": [
    "## [4.1] BAG OF WORDS"
   ]
  },
  {
   "cell_type": "code",
   "execution_count": 57,
   "metadata": {
    "colab": {
     "base_uri": "https://localhost:8080/",
     "height": 68
    },
    "colab_type": "code",
    "id": "gu_dOOYzvUYA",
    "outputId": "5e5af583-4ce5-4e2d-f18b-5f346643468d"
   },
   "outputs": [
    {
     "name": "stdout",
     "output_type": "stream",
     "text": [
      "the shape of out Train BOW vectorizer  (33002, 35442)\n",
      "the shape of out CV BOW vectorizer  (11001, 35442)\n",
      "the shape of out Train BOW vectorizer  (18859, 35442)\n"
     ]
    }
   ],
   "source": [
    "#BoW For Train\n",
    "count_vect = CountVectorizer()\n",
    "\n",
    "X_Train_BOW = count_vect.fit_transform(X_Train)\n",
    "\n",
    "#BoW For Cross Validation\n",
    "X_CV_BOW = count_vect.transform(X_CV)\n",
    "\n",
    "#BoW For Test\n",
    "X_Test_BOW = count_vect.transform(X_Test)\n",
    "\n",
    "print(\"the shape of out Train BOW vectorizer \",X_Train_BOW.get_shape())\n",
    "print(\"the shape of out CV BOW vectorizer \",X_CV_BOW.get_shape())\n",
    "print(\"the shape of out Train BOW vectorizer \",X_Test_BOW.get_shape())"
   ]
  },
  {
   "cell_type": "markdown",
   "metadata": {
    "colab_type": "text",
    "id": "o636LQYavUYK"
   },
   "source": [
    "## [4.2] TF-IDF"
   ]
  },
  {
   "cell_type": "code",
   "execution_count": 58,
   "metadata": {
    "colab": {
     "base_uri": "https://localhost:8080/",
     "height": 68
    },
    "colab_type": "code",
    "id": "cdEWsXANvUYN",
    "outputId": "8953f58f-4e49-4009-d0a9-446d959d643c"
   },
   "outputs": [
    {
     "name": "stdout",
     "output_type": "stream",
     "text": [
      "the shape of out Train TFIDF vectorizer  (33002, 35442)\n",
      "the shape of out Test TFIDF vectorizer  (18859, 35442)\n",
      "the shape of out CV TFIDF vectorizer  (11001, 35442)\n"
     ]
    }
   ],
   "source": [
    "#TF_IDF For Train\n",
    "tf_idf_vect = TfidfVectorizer()\n",
    "\n",
    "X_Train_TFIDF = tf_idf_vect.fit_transform(X_Train)\n",
    "#TF_IDF For CV\n",
    "X_CV_TFIDF = tf_idf_vect.transform(X_CV)\n",
    "#TF_IDF For Test\n",
    "X_Test_TFIDF = tf_idf_vect.transform(X_Test)\n",
    "\n",
    "\n",
    "print(\"the shape of out Train TFIDF vectorizer \",X_Train_TFIDF.get_shape())\n",
    "print(\"the shape of out Test TFIDF vectorizer \",X_Test_TFIDF.get_shape())\n",
    "print(\"the shape of out CV TFIDF vectorizer \",X_CV_TFIDF.get_shape())\n"
   ]
  },
  {
   "cell_type": "markdown",
   "metadata": {
    "colab_type": "text",
    "id": "qKRy1lDOvUYS"
   },
   "source": [
    "## [4.4] Word2Vec"
   ]
  },
  {
   "cell_type": "code",
   "execution_count": 0,
   "metadata": {
    "colab": {},
    "colab_type": "code",
    "id": "vpcXp3UkvUYT"
   },
   "outputs": [],
   "source": [
    "#List of words in Train\n",
    "i=0\n",
    "list_of_sentance_Train=[]\n",
    "for sentance in X_Train:\n",
    "    list_of_sentance_Train.append(sentance.split())"
   ]
  },
  {
   "cell_type": "code",
   "execution_count": 0,
   "metadata": {
    "colab": {},
    "colab_type": "code",
    "id": "LQLvSyRcuHx8"
   },
   "outputs": [],
   "source": [
    "#List of words in Test\n",
    "i=0\n",
    "list_of_sentance_Test=[]\n",
    "for sentance in X_Test:\n",
    "    list_of_sentance_Test.append(sentance.split())"
   ]
  },
  {
   "cell_type": "code",
   "execution_count": 0,
   "metadata": {
    "colab": {},
    "colab_type": "code",
    "id": "sizn-w2kuICW"
   },
   "outputs": [],
   "source": [
    "#List of word in CV\n",
    "i=0\n",
    "list_of_sentance_CV=[]\n",
    "for sentance in X_CV:\n",
    "    list_of_sentance_CV.append(sentance.split())"
   ]
  },
  {
   "cell_type": "code",
   "execution_count": 76,
   "metadata": {
    "colab": {
     "base_uri": "https://localhost:8080/",
     "height": 88
    },
    "colab_type": "code",
    "id": "badqMarQvUYX",
    "outputId": "e07f437f-778c-45bc-ac16-d6a4780e5117",
    "scrolled": true
   },
   "outputs": [
    {
     "name": "stdout",
     "output_type": "stream",
     "text": [
      "[('awesome', 0.8403745889663696), ('fantastic', 0.8204253315925598), ('terrific', 0.7862483859062195), ('excellent', 0.7753687500953674), ('good', 0.7698863744735718), ('wonderful', 0.7529803514480591), ('amazing', 0.7493711709976196), ('perfect', 0.7159906029701233), ('nice', 0.6633667945861816), ('outstanding', 0.663290798664093)]\n",
      "==================================================\n",
      "[('nastiest', 0.7660232782363892), ('greatest', 0.741354763507843), ('best', 0.697220504283905), ('experienced', 0.6648867726325989), ('smoothest', 0.6601447463035583), ('disgusting', 0.6365408897399902), ('horrible', 0.6320235133171082), ('met', 0.617220401763916), ('weakest', 0.6156582832336426), ('tastiest', 0.6131817698478699)]\n"
     ]
    }
   ],
   "source": [
    "# Using Google News Word2Vectors\n",
    "\n",
    "# in this project we are using a pretrained model by google\n",
    "# its 3.3G file, once you load this into your memory \n",
    "# it occupies ~9Gb, so please do this step only if you have >12G of ram\n",
    "# we will provide a pickle file wich contains a dict , \n",
    "# and it contains all our courpus words as keys and  model[word] as values\n",
    "# To use this code-snippet, download \"GoogleNews-vectors-negative300.bin\" \n",
    "# from https://drive.google.com/file/d/0B7XkCwpI5KDYNlNUTTlSS21pQmM/edit\n",
    "# it's 1.9GB in size.\n",
    "\n",
    "\n",
    "# http://kavita-ganesan.com/gensim-word2vec-tutorial-starter-code/#.W17SRFAzZPY\n",
    "# you can comment this whole cell\n",
    "# or change these varible according to your need\n",
    "\n",
    "is_your_ram_gt_16g=False\n",
    "want_to_use_google_w2v = False\n",
    "want_to_train_w2v = True\n",
    "\n",
    "if want_to_train_w2v:\n",
    "    # min_count = 5 considers only words that occured atleast 5 times\n",
    "    w2v_model=Word2Vec(list_of_sentance_Train,min_count=5,size=50, workers=4)\n",
    "    print(w2v_model.wv.most_similar('great'))\n",
    "    print('='*50)\n",
    "    print(w2v_model.wv.most_similar('worst'))\n",
    "    \n",
    "elif want_to_use_google_w2v and is_your_ram_gt_16g:\n",
    "    if os.path.isfile('https://drive.google.com/file/d/0B7XkCwpI5KDYNlNUTTlSS21pQmM/edit'):\n",
    "        w2v_model=KeyedVectors.load_word2vec_format('https://drive.google.com/file/d/0B7XkCwpI5KDYNlNUTTlSS21pQmM/edit', binary=True)\n",
    "        print(w2v_model.wv.most_similar('great'))\n",
    "        print(w2v_model.wv.most_similar('worst'))\n",
    "    else:\n",
    "        print(\"you don't have gogole's word2vec file, keep want_to_train_w2v = True, to train your own w2v \")"
   ]
  },
  {
   "cell_type": "code",
   "execution_count": 77,
   "metadata": {
    "colab": {
     "base_uri": "https://localhost:8080/",
     "height": 71
    },
    "colab_type": "code",
    "id": "VC_cZqTGvUYb",
    "outputId": "dfa2ec90-1ff3-4756-b1b1-38f05bb9dfc4"
   },
   "outputs": [
    {
     "name": "stdout",
     "output_type": "stream",
     "text": [
      "number of words that occured minimum 5 times  11460\n",
      "sample words  ['whole', 'family', 'loved', 'cereal', 'even', 'old', 'asked', 'seconds', 'could', 'taste', 'nuts', 'no', 'nut', 'pieces', 'completely', 'blended', 'would', 'buy', 'one', 'best', 'looking', 'green', 'signature', 'drink', 'wedding', 'came', 'across', 'finish', 'recipe', 'called', 'kiwi', 'syrup', 'not', 'find', 'locally', 'store', 'amazon', 'rescue', 'monin', 'made', 'yummy', 'perfect', 'cocktail', 'smoke', 'flavor', 'light', 'texture', 'allowing', 'fat', 'fish']\n"
     ]
    }
   ],
   "source": [
    "w2v_words = list(w2v_model.wv.vocab)\n",
    "print(\"number of words that occured minimum 5 times \",len(w2v_words))\n",
    "print(\"sample words \", w2v_words[0:50])"
   ]
  },
  {
   "cell_type": "markdown",
   "metadata": {
    "colab_type": "text",
    "id": "-it34kjtvUYf"
   },
   "source": [
    "## [4.4.1] Converting text into vectors using Avg W2V, TFIDF-W2V"
   ]
  },
  {
   "cell_type": "markdown",
   "metadata": {
    "colab_type": "text",
    "id": "EhMHsGcKvUYh"
   },
   "source": [
    "#### [4.4.1.1] Avg W2v"
   ]
  },
  {
   "cell_type": "code",
   "execution_count": 78,
   "metadata": {
    "colab": {
     "base_uri": "https://localhost:8080/",
     "height": 68
    },
    "colab_type": "code",
    "id": "a66BkcFEvUYi",
    "outputId": "0c81725a-d341-48bd-cdfd-89305d658c3f"
   },
   "outputs": [
    {
     "name": "stderr",
     "output_type": "stream",
     "text": [
      "100%|██████████| 33002/33002 [00:59<00:00, 567.72it/s]"
     ]
    },
    {
     "name": "stdout",
     "output_type": "stream",
     "text": [
      "33002\n",
      "50\n"
     ]
    },
    {
     "name": "stderr",
     "output_type": "stream",
     "text": [
      "\n"
     ]
    }
   ],
   "source": [
    "# average Word2Vec for train\n",
    "# compute average word2vec for each review.\n",
    "train_vectors = []; # the avg-w2v for each sentence/review is stored in this list\n",
    "for sent in tqdm(list_of_sentance_Train): # for each review/sentence\n",
    "    sent_vec = np.zeros(50) # as word vectors are of zero length 50, you might need to change this to 300 if you use google's w2v\n",
    "    cnt_words =0; # num of words with a valid vector in the sentence/review\n",
    "    for word in sent: # for each word in a review/sentence\n",
    "        if word in w2v_words:\n",
    "            vec = w2v_model.wv[word]\n",
    "            sent_vec += vec\n",
    "            cnt_words += 1\n",
    "    if cnt_words != 0:\n",
    "        sent_vec /= cnt_words\n",
    "    train_vectors.append(sent_vec)\n",
    "print(len(train_vectors))\n",
    "print(len(train_vectors[0]))"
   ]
  },
  {
   "cell_type": "code",
   "execution_count": 79,
   "metadata": {
    "colab": {
     "base_uri": "https://localhost:8080/",
     "height": 68
    },
    "colab_type": "code",
    "id": "ZmKNsk2Rv0eR",
    "outputId": "fa7a6ecd-6e57-46c1-8457-e6eb69b41321"
   },
   "outputs": [
    {
     "name": "stderr",
     "output_type": "stream",
     "text": [
      "100%|██████████| 18859/18859 [00:34<00:00, 540.53it/s]\n"
     ]
    },
    {
     "name": "stdout",
     "output_type": "stream",
     "text": [
      "18859\n",
      "50\n"
     ]
    }
   ],
   "source": [
    "# average Word2Vec for Test\n",
    "# compute average word2vec for each review.\n",
    "test_vectors = []; # the avg-w2v for each sentence/review is stored in this list\n",
    "for sent in tqdm(list_of_sentance_Test): # for each review/sentence\n",
    "    sent_vec = np.zeros(50) # as word vectors are of zero length 50, you might need to change this to 300 if you use google's w2v\n",
    "    cnt_words =0; # num of words with a valid vector in the sentence/review\n",
    "    for word in sent: # for each word in a review/sentence\n",
    "        if word in w2v_words:\n",
    "            vec = w2v_model.wv[word]\n",
    "            sent_vec += vec\n",
    "            cnt_words += 1\n",
    "    if cnt_words != 0:\n",
    "        sent_vec /= cnt_words\n",
    "    test_vectors.append(sent_vec)\n",
    "print(len(test_vectors))\n",
    "print(len(test_vectors[0]))"
   ]
  },
  {
   "cell_type": "code",
   "execution_count": 80,
   "metadata": {
    "colab": {
     "base_uri": "https://localhost:8080/",
     "height": 68
    },
    "colab_type": "code",
    "id": "pGc01REgv40d",
    "outputId": "cb5c7033-7f69-406b-ccde-370d5938b8e5"
   },
   "outputs": [
    {
     "name": "stderr",
     "output_type": "stream",
     "text": [
      "100%|██████████| 11001/11001 [00:20<00:00, 531.50it/s]"
     ]
    },
    {
     "name": "stdout",
     "output_type": "stream",
     "text": [
      "11001\n",
      "50\n"
     ]
    },
    {
     "name": "stderr",
     "output_type": "stream",
     "text": [
      "\n"
     ]
    }
   ],
   "source": [
    "# average Word2Vec for CV\n",
    "# compute average word2vec for each review.\n",
    "cv_vectors = []; # the avg-w2v for each sentence/review is stored in this list\n",
    "for sent in tqdm(list_of_sentance_CV): # for each review/sentence\n",
    "    sent_vec = np.zeros(50) # as word vectors are of zero length 50, you might need to change this to 300 if you use google's w2v\n",
    "    cnt_words =0; # num of words with a valid vector in the sentence/review\n",
    "    for word in sent: # for each word in a review/sentence\n",
    "        if word in w2v_words:\n",
    "            vec = w2v_model.wv[word]\n",
    "            sent_vec += vec\n",
    "            cnt_words += 1\n",
    "    if cnt_words != 0:\n",
    "        sent_vec /= cnt_words\n",
    "    cv_vectors.append(sent_vec)\n",
    "print(len(cv_vectors))\n",
    "print(len(cv_vectors[0]))"
   ]
  },
  {
   "cell_type": "markdown",
   "metadata": {
    "colab_type": "text",
    "id": "_HT5dUZBvUYs"
   },
   "source": [
    "#### [4.4.1.2] TFIDF weighted W2v"
   ]
  },
  {
   "cell_type": "code",
   "execution_count": 0,
   "metadata": {
    "colab": {},
    "colab_type": "code",
    "id": "9X-rEFtivUYt"
   },
   "outputs": [],
   "source": [
    "# S = [\"abc def pqr\", \"def def def abc\", \"pqr pqr def\"]\n",
    "model = TfidfVectorizer()\n",
    "tf_idf_matrix = model.fit_transform(X_Train)\n",
    "# we are converting a dictionary with word as a key, and the idf as a value\n",
    "dictionary = dict(zip(model.get_feature_names(), list(model.idf_)))"
   ]
  },
  {
   "cell_type": "code",
   "execution_count": 87,
   "metadata": {
    "colab": {
     "base_uri": "https://localhost:8080/",
     "height": 34
    },
    "colab_type": "code",
    "id": "zbm8YIglvUYx",
    "outputId": "8242d455-c520-4d39-a5ee-23f549241190",
    "scrolled": true
   },
   "outputs": [
    {
     "name": "stderr",
     "output_type": "stream",
     "text": [
      "100%|██████████| 33002/33002 [10:50<00:00, 50.77it/s]\n"
     ]
    }
   ],
   "source": [
    "# TF-IDF weighted Word2Vec for train\n",
    "tfidf_feat = model.get_feature_names() # tfidf words/col-names\n",
    "# final_tf_idf is the sparse matrix with row= sentence, col=word and cell_val = tfidf\n",
    "\n",
    "tfidf_w2v_Train = []; # the tfidf-w2v for each sentence/review is stored in this list\n",
    "row=0;\n",
    "for sent in tqdm(list_of_sentance_Train): # for each review/sentence \n",
    "    sent_vec = np.zeros(50) # as word vectors are of zero length\n",
    "    weight_sum =0; # num of words with a valid vector in the sentence/review\n",
    "    for word in sent: # for each word in a review/sentence\n",
    "        if word in w2v_words and word in tfidf_feat:\n",
    "            vec = w2v_model.wv[word]\n",
    "#             tf_idf = tf_idf_matrix[row, tfidf_feat.index(word)]\n",
    "            # to reduce the computation we are \n",
    "            # dictionary[word] = idf value of word in whole courpus\n",
    "            # sent.count(word) = tf valeus of word in this review\n",
    "            tf_idf = dictionary[word]*(sent.count(word)/len(sent))\n",
    "            sent_vec += (vec * tf_idf)\n",
    "            weight_sum += tf_idf\n",
    "    if weight_sum != 0:\n",
    "        sent_vec /= weight_sum\n",
    "    tfidf_w2v_Train.append(sent_vec)\n",
    "    row += 1"
   ]
  },
  {
   "cell_type": "code",
   "execution_count": 88,
   "metadata": {
    "colab": {
     "base_uri": "https://localhost:8080/",
     "height": 34
    },
    "colab_type": "code",
    "id": "oCdhU42n21Hx",
    "outputId": "f84c9d55-f111-42a7-fb6e-d43061e38a28"
   },
   "outputs": [
    {
     "name": "stderr",
     "output_type": "stream",
     "text": [
      "100%|██████████| 18859/18859 [06:13<00:00, 50.53it/s]\n"
     ]
    }
   ],
   "source": [
    "# TF-IDF weighted Word2Vec for test\n",
    "tfidf_feat = model.get_feature_names() # tfidf words/col-names\n",
    "# final_tf_idf is the sparse matrix with row= sentence, col=word and cell_val = tfidf\n",
    "\n",
    "tfidf_w2v_Test = []; # the tfidf-w2v for each sentence/review is stored in this list\n",
    "row=0;\n",
    "for sent in tqdm(list_of_sentance_Test): # for each review/sentence \n",
    "    sent_vec = np.zeros(50) # as word vectors are of zero length\n",
    "    weight_sum =0; # num of words with a valid vector in the sentence/review\n",
    "    for word in sent: # for each word in a review/sentence\n",
    "        if word in w2v_words and word in tfidf_feat:\n",
    "            vec = w2v_model.wv[word]\n",
    "#             tf_idf = tf_idf_matrix[row, tfidf_feat.index(word)]\n",
    "            # to reduce the computation we are \n",
    "            # dictionary[word] = idf value of word in whole courpus\n",
    "            # sent.count(word) = tf valeus of word in this review\n",
    "            tf_idf = dictionary[word]*(sent.count(word)/len(sent))\n",
    "            sent_vec += (vec * tf_idf)\n",
    "            weight_sum += tf_idf\n",
    "    if weight_sum != 0:\n",
    "        sent_vec /= weight_sum\n",
    "    tfidf_w2v_Test.append(sent_vec)\n",
    "    row += 1"
   ]
  },
  {
   "cell_type": "code",
   "execution_count": 89,
   "metadata": {
    "colab": {
     "base_uri": "https://localhost:8080/",
     "height": 34
    },
    "colab_type": "code",
    "id": "hxgl4grh4v-B",
    "outputId": "3cd1bc84-d695-4147-92c8-77ce4396cb13"
   },
   "outputs": [
    {
     "name": "stderr",
     "output_type": "stream",
     "text": [
      "100%|██████████| 11001/11001 [03:41<00:00, 49.74it/s]\n"
     ]
    }
   ],
   "source": [
    "# TF-IDF weighted Word2Vec for CV\n",
    "tfidf_feat = model.get_feature_names() # tfidf words/col-names\n",
    "# final_tf_idf is the sparse matrix with row= sentence, col=word and cell_val = tfidf\n",
    "\n",
    "tfidf_w2v_CV = []; # the tfidf-w2v for each sentence/review is stored in this list\n",
    "row=0;\n",
    "for sent in tqdm(list_of_sentance_CV): # for each review/sentence \n",
    "    sent_vec = np.zeros(50) # as word vectors are of zero length\n",
    "    weight_sum =0; # num of words with a valid vector in the sentence/review\n",
    "    for word in sent: # for each word in a review/sentence\n",
    "        if word in w2v_words and word in tfidf_feat:\n",
    "            vec = w2v_model.wv[word]\n",
    "#             tf_idf = tf_idf_matrix[row, tfidf_feat.index(word)]\n",
    "            # to reduce the computation we are \n",
    "            # dictionary[word] = idf value of word in whole courpus\n",
    "            # sent.count(word) = tf valeus of word in this review\n",
    "            tf_idf = dictionary[word]*(sent.count(word)/len(sent))\n",
    "            sent_vec += (vec * tf_idf)\n",
    "            weight_sum += tf_idf\n",
    "    if weight_sum != 0:\n",
    "        sent_vec /= weight_sum\n",
    "    tfidf_w2v_CV.append(sent_vec)\n",
    "    row += 1"
   ]
  },
  {
   "cell_type": "markdown",
   "metadata": {
    "colab_type": "text",
    "id": "ds6G4Na9vUY2"
   },
   "source": [
    "# [5] Assignment 3: KNN"
   ]
  },
  {
   "cell_type": "markdown",
   "metadata": {
    "colab_type": "text",
    "id": "t73hRgWLvUY3"
   },
   "source": [
    "<ol>\n",
    "    <li><strong>Apply Knn(brute force version) on these feature sets</strong>\n",
    "        <ul>\n",
    "            <li><font color='red'>SET 1:</font>Review text, preprocessed one converted into vectors using (BOW)</li>\n",
    "            <li><font color='red'>SET 2:</font>Review text, preprocessed one converted into vectors using (TFIDF)</li>\n",
    "            <li><font color='red'>SET 3:</font>Review text, preprocessed one converted into vectors using (AVG W2v)</li>\n",
    "            <li><font color='red'>SET 4:</font>Review text, preprocessed one converted into vectors using (TFIDF W2v)</li>\n",
    "        </ul>\n",
    "    </li>\n",
    "    <br>\n",
    "    <li><strong>Apply Knn(kd tree version) on these feature sets</strong>\n",
    "        <br><font color='red'>NOTE: </font>sklearn implementation of kd-tree accepts only dense matrices, you need to convert the sparse matrices of CountVectorizer/TfidfVectorizer into dense matices. You can convert sparse matrices to dense using .toarray() attribute. For more information please visit this <a href='https://docs.scipy.org/doc/scipy-0.18.1/reference/generated/scipy.sparse.csr_matrix.toarray.html'>link</a>\n",
    "        <ul>\n",
    "            <li><font color='red'>SET 5:</font>Review text, preprocessed one converted into vectors using (BOW) but with restriction on maximum features generated.\n",
    "            <pre>\n",
    "            count_vect = CountVectorizer(min_df=10, max_features=500) \n",
    "            count_vect.fit(preprocessed_reviews)\n",
    "            </pre>\n",
    "            </li>\n",
    "            <li><font color='red'>SET 6:</font>Review text, preprocessed one converted into vectors using (TFIDF) but with restriction on maximum features generated.\n",
    "            <pre>\n",
    "                tf_idf_vect = TfidfVectorizer(min_df=10, max_features=500)\n",
    "                tf_idf_vect.fit(preprocessed_reviews)\n",
    "            </pre>\n",
    "            </li>\n",
    "            <li><font color='red'>SET 3:</font>Review text, preprocessed one converted into vectors using (AVG W2v)</li>\n",
    "            <li><font color='red'>SET 4:</font>Review text, preprocessed one converted into vectors using (TFIDF W2v)</li>\n",
    "        </ul>\n",
    "    </li>\n",
    "    <br>\n",
    "    <li><strong>The hyper paramter tuning(find best K)</strong>\n",
    "        <ul>\n",
    "    <li>Find the best hyper parameter which will give the maximum <a href='https://www.appliedaicourse.com/course/applied-ai-course-online/lessons/receiver-operating-characteristic-curve-roc-curve-and-auc-1/'>AUC</a> value</li>\n",
    "    <li>Find the best hyper paramter using k-fold cross validation or simple cross validation data</li>\n",
    "    <li>Use gridsearch cv or randomsearch cv or you can also write your own for loops to do this task of hyperparameter tuning</li>\n",
    "        </ul>\n",
    "    </li>\n",
    "    <br>\n",
    "    <li>\n",
    "    <strong>Representation of results</strong>\n",
    "        <ul>\n",
    "    <li>You need to plot the performance of model both on train data and cross validation data for each hyper parameter, like shown in the figure\n",
    "    <img src='train_cv_auc.JPG' width=300px></li>\n",
    "    <li>Once after you found the best hyper parameter, you need to train your model with it, and find the AUC on test data and plot the ROC curve on both train and test.\n",
    "    <img src='train_test_auc.JPG' width=300px></li>\n",
    "    <li>Along with plotting ROC curve, you need to print the <a href='https://www.appliedaicourse.com/course/applied-ai-course-online/lessons/confusion-matrix-tpr-fpr-fnr-tnr-1/'>confusion matrix</a> with predicted and original labels of test data points\n",
    "    <img src='confusion_matrix.png' width=300px></li>\n",
    "        </ul>\n",
    "    </li>\n",
    "    <br>\n",
    "    <li><strong>Conclusion</strong>\n",
    "        <ul>\n",
    "    <li>You need to summarize the results at the end of the notebook, summarize it in the table format. To print out a table please refer to this prettytable library<a href='http://zetcode.com/python/prettytable/'> link</a> \n",
    "        <img src='summary.JPG' width=400px>\n",
    "    </li>\n",
    "        </ul>\n",
    "</ol>"
   ]
  },
  {
   "cell_type": "markdown",
   "metadata": {
    "colab_type": "text",
    "id": "jfqFHE1ivUY4"
   },
   "source": [
    "<h4><font color='red'>Note: Data Leakage</font></h4>\n",
    "\n",
    "1. There will be an issue of data-leakage if you vectorize the entire data and then split it into train/cv/test.\n",
    "2. To avoid the issue of data-leakag, make sure to split your data first and then vectorize it. \n",
    "3. While vectorizing your data, apply the method fit_transform() on you train data, and apply the method transform() on cv/test data.\n",
    "4. For more details please go through this <a href='https://soundcloud.com/applied-ai-course/leakage-bow-and-tfidf'>link.</a>"
   ]
  },
  {
   "cell_type": "markdown",
   "metadata": {
    "colab_type": "text",
    "id": "bnuAbyJZvUY6"
   },
   "source": [
    "## [5.1] Applying KNN brute force"
   ]
  },
  {
   "cell_type": "markdown",
   "metadata": {
    "colab_type": "text",
    "id": "B_qGLchFvUY7"
   },
   "source": [
    "### [5.1.1] Applying KNN brute force on BOW,<font color='red'> SET 1</font>"
   ]
  },
  {
   "cell_type": "code",
   "execution_count": 59,
   "metadata": {
    "colab": {
     "base_uri": "https://localhost:8080/",
     "height": 311
    },
    "colab_type": "code",
    "id": "lsjWZDIkvUY8",
    "outputId": "ec2bb12d-8002-47a7-bd34-4a95caf59e8e"
   },
   "outputs": [
    {
     "name": "stderr",
     "output_type": "stream",
     "text": [
      "100%|██████████| 8/8 [09:39<00:00, 72.88s/it]\n"
     ]
    },
    {
     "data": {
      "image/png": "[encoded data removed]",
      "text/plain": [
       "<Figure size 432x288 with 1 Axes>"
      ]
     },
     "metadata": {
      "tags": []
     },
     "output_type": "display_data"
    }
   ],
   "source": [
    "# Please write all the code with proper documentation\n",
    "from sklearn.metrics import roc_auc_score\n",
    "train_auc= []\n",
    "cv_auc= []\n",
    "K = [1, 5, 10, 15, 21, 31, 41, 51]\n",
    "for i in tqdm(K):\n",
    "  neigh=KNeighborsClassifier(n_neighbors=i,algorithm=\"brute\")\n",
    "  neigh.fit(X_Train_BOW, Y_Train)\n",
    "  y_train_pred=neigh.predict_proba(X_Train_BOW)[:,1]\n",
    "  y_cv_pred=neigh.predict_proba(X_CV_BOW)[:,1]\n",
    "  train_auc.append(roc_auc_score(Y_Train,y_train_pred))\n",
    "  cv_auc.append(roc_auc_score(Y_CV, y_cv_pred))\n",
    "  \n",
    "plt.plot(K, train_auc, label='Train AUC Curve')\n",
    "plt.plot(K, cv_auc, label='CV AUC Curve')\n",
    "plt.legend()\n",
    "plt.xlabel(\"K: hyperparameter\")\n",
    "plt.ylabel(\"AUC\")\n",
    "plt.title(\"ERROR PLOTS\")\n",
    "plt.show()\n"
   ]
  },
  {
   "cell_type": "code",
   "execution_count": 60,
   "metadata": {
    "colab": {
     "base_uri": "https://localhost:8080/",
     "height": 294
    },
    "colab_type": "code",
    "id": "rEOMv_hETAoA",
    "outputId": "2c7d27ef-3e15-4c2e-caca-dec7490097a4"
   },
   "outputs": [
    {
     "data": {
      "image/png": "[encoded data removed]",
      "text/plain": [
       "<Figure size 432x288 with 1 Axes>"
      ]
     },
     "metadata": {
      "tags": []
     },
     "output_type": "display_data"
    }
   ],
   "source": [
    "# Distribution of K values\n",
    "plt.scatter(K,cv_auc,label='Train AUC Curve')\n",
    "plt.scatter(K,train_auc,label='CV AUC Curve')\n",
    "plt.legend()\n",
    "plt.xlabel(\"K: hyperparameter\")\n",
    "plt.ylabel(\"AUC\")\n",
    "plt.title(\"ERROR PLOTS\")\n",
    "plt.show()\n",
    "\n"
   ]
  },
  {
   "cell_type": "markdown",
   "metadata": {
    "colab_type": "text",
    "id": "QqSuD9p_Tz3y"
   },
   "source": [
    "Observation : Taking best K as 13.\n"
   ]
  },
  {
   "cell_type": "code",
   "execution_count": 61,
   "metadata": {
    "colab": {
     "base_uri": "https://localhost:8080/",
     "height": 294
    },
    "colab_type": "code",
    "id": "5l7Q7XagT874",
    "outputId": "73436569-5a80-47bc-d62f-71b6974581d1"
   },
   "outputs": [
    {
     "data": {
      "image/png": "[encoded data removed]",
      "text/plain": [
       "<Figure size 432x288 with 1 Axes>"
      ]
     },
     "metadata": {
      "tags": []
     },
     "output_type": "display_data"
    }
   ],
   "source": [
    "from sklearn.metrics import roc_curve, auc\n",
    "\n",
    "optimal_k_bow_BruteForce = 13\n",
    "neigh_bow=KNeighborsClassifier(n_neighbors=optimal_k_bow_BruteForce,algorithm=\"brute\")\n",
    "neigh_bow.fit(X_Train_BOW, Y_Train)\n",
    "\n",
    "train_fpr,train_tpr,thresholds = roc_curve(Y_Train, neigh_bow.predict_proba(X_Train_BOW)[:,1])\n",
    "test_fpr, test_tpr, thresholds = roc_curve(Y_Test,  neigh_bow.predict_proba(X_Test_BOW )[:,1])\n",
    "train_bow_acc =auc(train_fpr, train_tpr)\n",
    "test_bow_acc = auc(test_fpr, test_tpr)\n",
    "                                           \n",
    "plt.plot(train_fpr, train_tpr, label=\"Train AUC =\"+str(train_bow_acc))\n",
    "plt.plot(test_fpr, test_tpr, label=\"Test AUC =\"+str(test_bow_acc))\n",
    "plt.legend()\n",
    "plt.xlabel(\"False Positive Rate\")\n",
    "plt.ylabel(\"True Positive Rate\")\n",
    "plt.title(\"ROC Curve\")\n",
    "plt.show()\n"
   ]
  },
  {
   "cell_type": "code",
   "execution_count": 66,
   "metadata": {
    "colab": {
     "base_uri": "https://localhost:8080/",
     "height": 459
    },
    "colab_type": "code",
    "id": "glF7h_3yaFlh",
    "outputId": "1d54c5d5-a69d-4b1a-bcf0-b3d74dcf825c"
   },
   "outputs": [
    {
     "name": "stdout",
     "output_type": "stream",
     "text": [
      "Test confusion matrix\n"
     ]
    },
    {
     "data": {
      "image/png": "[encoded data removed]",
      "text/plain": [
       "<Figure size 720x504 with 2 Axes>"
      ]
     },
     "metadata": {
      "tags": []
     },
     "output_type": "display_data"
    }
   ],
   "source": [
    "class_names= ['negative','positive']\n",
    "print(\"Test confusion matrix\")\n",
    "array = confusion_matrix(Y_Test, neigh.predict(X_Test_BOW))\n",
    "\n",
    "df_cm = pd.DataFrame(array, index = [i for i in class_names],columns = [i for i in class_names])\n",
    "plt.figure(figsize = (10,7))\n",
    "sns.heatmap(df_cm, annot=True,fmt=\"d\")\n",
    "plt.xlabel(\"Actual Label\")\n",
    "plt.ylabel(\"Predicted Label\")\n",
    "plt.show()"
   ]
  },
  {
   "cell_type": "code",
   "execution_count": 67,
   "metadata": {
    "colab": {
     "base_uri": "https://localhost:8080/",
     "height": 459
    },
    "colab_type": "code",
    "id": "Grh0Ti6id6fo",
    "outputId": "d081a948-22a8-4dab-d761-357155a669d3"
   },
   "outputs": [
    {
     "name": "stdout",
     "output_type": "stream",
     "text": [
      "Train confusion matrix\n"
     ]
    },
    {
     "data": {
      "image/png": "[encoded data removed]",
      "text/plain": [
       "<Figure size 720x504 with 2 Axes>"
      ]
     },
     "metadata": {
      "tags": []
     },
     "output_type": "display_data"
    }
   ],
   "source": [
    "#https://stackoverflow.com/questions/35572000/how-can-i-plot-a-confusion-matrix\n",
    "class_names= ['negative','positive']\n",
    "print(\"Train confusion matrix\")\n",
    "array = confusion_matrix(Y_Train, neigh.predict(X_Train_BOW))\n",
    "\n",
    "df_cm = pd.DataFrame(array, index = [i for i in class_names],columns = [i for i in class_names])\n",
    "plt.figure(figsize = (10,7))\n",
    "sns.heatmap(df_cm, annot=True,fmt=\"d\")\n",
    "plt.xlabel(\"Actual Label\")\n",
    "plt.ylabel(\"Predicted Label\")\n",
    "plt.show()"
   ]
  },
  {
   "cell_type": "markdown",
   "metadata": {
    "colab_type": "text",
    "id": "NkwPkwJvvUZA"
   },
   "source": [
    "### [5.1.2] Applying KNN brute force on TFIDF,<font color='red'> SET 2</font>"
   ]
  },
  {
   "cell_type": "code",
   "execution_count": 64,
   "metadata": {
    "colab": {
     "base_uri": "https://localhost:8080/",
     "height": 311
    },
    "colab_type": "code",
    "id": "LAwX7PNovUZB",
    "outputId": "1e965967-3342-4b02-8493-2280a2ae667c"
   },
   "outputs": [
    {
     "name": "stderr",
     "output_type": "stream",
     "text": [
      "100%|██████████| 8/8 [09:30<00:00, 72.02s/it]\n"
     ]
    },
    {
     "data": {
      "image/png": "[encoded data removed]",
      "text/plain": [
       "<Figure size 432x288 with 1 Axes>"
      ]
     },
     "metadata": {
      "tags": []
     },
     "output_type": "display_data"
    }
   ],
   "source": [
    "# Please write all the code with proper documentation\n",
    "from sklearn.metrics import roc_auc_score\n",
    "train_auc= []\n",
    "cv_auc= []\n",
    "K = [1, 5, 10, 15, 21, 31, 41, 51]\n",
    "for i in tqdm(K):\n",
    "  neigh=KNeighborsClassifier(n_neighbors=i,algorithm=\"brute\")\n",
    "  neigh.fit(X_Train_TFIDF, Y_Train)\n",
    "  y_train_pred=neigh.predict_proba(X_Train_TFIDF)[:,1]\n",
    "  y_cv_pred=neigh.predict_proba(X_CV_TFIDF)[:,1]\n",
    "  train_auc.append(roc_auc_score(Y_Train,y_train_pred))\n",
    "  cv_auc.append(roc_auc_score(Y_CV, y_cv_pred))\n",
    "  \n",
    "plt.plot(K, train_auc, label='Train AUC Curve')\n",
    "plt.plot(K, cv_auc, label='CV AUC Curve')\n",
    "plt.legend()\n",
    "plt.xlabel(\"K: hyperparameter\")\n",
    "plt.ylabel(\"AUC\")\n",
    "plt.title(\"ERROR PLOTS\")\n",
    "plt.show()"
   ]
  },
  {
   "cell_type": "code",
   "execution_count": 68,
   "metadata": {
    "colab": {
     "base_uri": "https://localhost:8080/",
     "height": 294
    },
    "colab_type": "code",
    "id": "iwWQpr3JgLk6",
    "outputId": "7873103e-2fd7-4ebe-acc2-d017d8f529cc"
   },
   "outputs": [
    {
     "data": {
      "image/png": "[encoded data removed]",
      "text/plain": [
       "<Figure size 432x288 with 1 Axes>"
      ]
     },
     "metadata": {
      "tags": []
     },
     "output_type": "display_data"
    }
   ],
   "source": [
    "# Distribution of K values\n",
    "plt.scatter(K,cv_auc,label='Train AUC Curve')\n",
    "plt.scatter(K,train_auc,label='CV AUC Curve')\n",
    "plt.legend()\n",
    "plt.xlabel(\"K: hyperparameter\")\n",
    "plt.ylabel(\"AUC\")\n",
    "plt.title(\"ERROR PLOTS\")\n",
    "plt.show()"
   ]
  },
  {
   "cell_type": "markdown",
   "metadata": {
    "colab_type": "text",
    "id": "dB5arkHox-h4"
   },
   "source": [
    "Taking best K as  13"
   ]
  },
  {
   "cell_type": "code",
   "execution_count": 69,
   "metadata": {
    "colab": {
     "base_uri": "https://localhost:8080/",
     "height": 294
    },
    "colab_type": "code",
    "id": "3FdtWYgCgfJq",
    "outputId": "fe4f3cb1-cebd-4006-b228-f3698dc999cb"
   },
   "outputs": [
    {
     "data": {
      "image/png": "[encoded data removed]",
      "text/plain": [
       "<Figure size 432x288 with 1 Axes>"
      ]
     },
     "metadata": {
      "tags": []
     },
     "output_type": "display_data"
    }
   ],
   "source": [
    "optimal_k_tfidf_BruteForce = 13\n",
    "neigh_bow=KNeighborsClassifier(n_neighbors=optimal_k_tfidf_BruteForce,algorithm=\"brute\")\n",
    "neigh_bow.fit(X_Train_TFIDF, Y_Train)\n",
    "\n",
    "train_fpr,train_tpr,thresholds = roc_curve(Y_Train, neigh_bow.predict_proba(X_Train_TFIDF)[:,1])\n",
    "test_fpr, test_tpr, thresholds = roc_curve(Y_Test,  neigh_bow.predict_proba(X_Test_TFIDF )[:,1])\n",
    "train_tfidf_acc =auc(train_fpr, train_tpr)\n",
    "test_tfidf_acc = auc(test_fpr, test_tpr)\n",
    "                                           \n",
    "plt.plot(train_fpr, train_tpr, label=\"Train AUC =\"+str(train_tfidf_acc))\n",
    "plt.plot(test_fpr, test_tpr, label=\"Test AUC =\"+str(test_tfidf_acc))\n",
    "plt.legend()\n",
    "plt.xlabel(\"False Positive Rate\")\n",
    "plt.ylabel(\"True Positive Rate\")\n",
    "plt.title(\"ROC Curve\")\n",
    "plt.show()"
   ]
  },
  {
   "cell_type": "code",
   "execution_count": 70,
   "metadata": {
    "colab": {
     "base_uri": "https://localhost:8080/",
     "height": 459
    },
    "colab_type": "code",
    "id": "lCwsm1sChlh6",
    "outputId": "56046069-8121-4f79-b3f2-b9df049bf8e2"
   },
   "outputs": [
    {
     "name": "stdout",
     "output_type": "stream",
     "text": [
      "Test confusion matrix\n"
     ]
    },
    {
     "data": {
      "image/png": "[encoded data removed]",
      "text/plain": [
       "<Figure size 720x504 with 2 Axes>"
      ]
     },
     "metadata": {
      "tags": []
     },
     "output_type": "display_data"
    }
   ],
   "source": [
    "class_names= ['negative','positive']\n",
    "print(\"Test confusion matrix\")\n",
    "array = confusion_matrix(Y_Test, neigh.predict(X_Test_TFIDF))\n",
    "\n",
    "df_cm = pd.DataFrame(array, index = [i for i in class_names],columns = [i for i in class_names])\n",
    "plt.figure(figsize = (10,7))\n",
    "sns.heatmap(df_cm, annot=True,fmt=\"d\")\n",
    "plt.xlabel(\"Actual Label\")\n",
    "plt.ylabel(\"Predicted Label\")\n",
    "plt.show()"
   ]
  },
  {
   "cell_type": "code",
   "execution_count": 71,
   "metadata": {
    "colab": {
     "base_uri": "https://localhost:8080/",
     "height": 445
    },
    "colab_type": "code",
    "id": "5TZ1AeWThxmm",
    "outputId": "3bee6cb2-d1aa-4ea1-a2a8-2ac908f0c68a"
   },
   "outputs": [
    {
     "name": "stdout",
     "output_type": "stream",
     "text": [
      "Train confusion matrix\n"
     ]
    },
    {
     "data": {
      "image/png": "[encoded data removed]",
      "text/plain": [
       "<Figure size 720x504 with 2 Axes>"
      ]
     },
     "metadata": {
      "tags": []
     },
     "output_type": "display_data"
    }
   ],
   "source": [
    "class_names= ['negative','positive']\n",
    "print(\"Train confusion matrix\")\n",
    "array = confusion_matrix(Y_Train, neigh.predict(X_Train_TFIDF))\n",
    "\n",
    "df_cm = pd.DataFrame(array, index = [i for i in class_names],columns = [i for i in class_names])\n",
    "plt.figure(figsize = (10,7))\n",
    "plt.xlabel(\"Actual Label\")\n",
    "plt.ylabel(\"Predicted Label\")\n",
    "sns.heatmap(df_cm, annot=True,fmt=\"d\")\n",
    "plt.show()"
   ]
  },
  {
   "cell_type": "markdown",
   "metadata": {
    "colab_type": "text",
    "id": "d74x5yhtvUZF"
   },
   "source": [
    "### [5.1.3] Applying KNN brute force on AVG W2V,<font color='red'> SET 3</font>"
   ]
  },
  {
   "cell_type": "code",
   "execution_count": 81,
   "metadata": {
    "colab": {
     "base_uri": "https://localhost:8080/",
     "height": 311
    },
    "colab_type": "code",
    "id": "hHxu8JJAvUZG",
    "outputId": "44155856-b87a-44be-999a-e88840d1c9c3"
   },
   "outputs": [
    {
     "name": "stderr",
     "output_type": "stream",
     "text": [
      "100%|██████████| 8/8 [04:37<00:00, 35.29s/it]\n"
     ]
    },
    {
     "data": {
      "image/png": "[encoded data removed]",
      "text/plain": [
       "<Figure size 432x288 with 1 Axes>"
      ]
     },
     "metadata": {
      "tags": []
     },
     "output_type": "display_data"
    }
   ],
   "source": [
    "# Please write all the code with proper documentation\n",
    "from sklearn.metrics import roc_auc_score\n",
    "train_auc= []\n",
    "cv_auc= []\n",
    "K = [1, 5, 10, 15, 21, 31, 41, 51]\n",
    "for i in tqdm(K):\n",
    "  neigh=KNeighborsClassifier(n_neighbors=i,algorithm=\"brute\")\n",
    "  neigh.fit(train_vectors, Y_Train)\n",
    "  # roc_auc_score(y_true, y_score) the 2nd parameter should be probability estimates of t# not the predicted outputs\n",
    "  y_train_pred=neigh.predict_proba(train_vectors)[:,1]\n",
    "  y_cv_pred=neigh.predict_proba(cv_vectors)[:,1]\n",
    "  train_auc.append(roc_auc_score(Y_Train,y_train_pred))\n",
    "  cv_auc.append(roc_auc_score(Y_CV, y_cv_pred))\n",
    "  \n",
    "plt.plot(K, train_auc, label='Train AUC Curve')\n",
    "plt.plot(K, cv_auc, label='CV AUC Curve')\n",
    "plt.legend()\n",
    "plt.xlabel(\"K: hyperparameter\")\n",
    "plt.ylabel(\"AUC\")\n",
    "plt.title(\"ERROR PLOTS\")\n",
    "plt.show()\n"
   ]
  },
  {
   "cell_type": "code",
   "execution_count": 82,
   "metadata": {
    "colab": {
     "base_uri": "https://localhost:8080/",
     "height": 294
    },
    "colab_type": "code",
    "id": "vhZEUkCNzqEt",
    "outputId": "1d23fe32-b00b-4271-dccb-844cea764bdc"
   },
   "outputs": [
    {
     "data": {
      "image/png": "[encoded data removed]",
      "text/plain": [
       "<Figure size 432x288 with 1 Axes>"
      ]
     },
     "metadata": {
      "tags": []
     },
     "output_type": "display_data"
    }
   ],
   "source": [
    "# Distribution of K values\n",
    "plt.scatter(K,cv_auc,label='Train AUC Curve')\n",
    "plt.scatter(K,train_auc,label='CV AUC Curve')\n",
    "plt.legend()\n",
    "plt.xlabel(\"K: hyperparameter\")\n",
    "plt.ylabel(\"AUC\")\n",
    "plt.title(\"ERROR PLOTS\")\n",
    "plt.show()"
   ]
  },
  {
   "cell_type": "markdown",
   "metadata": {
    "colab_type": "text",
    "id": "vszro5fI96yK"
   },
   "source": [
    "Taking best K as 19"
   ]
  },
  {
   "cell_type": "code",
   "execution_count": 83,
   "metadata": {
    "colab": {
     "base_uri": "https://localhost:8080/",
     "height": 294
    },
    "colab_type": "code",
    "id": "j0JDei2Uz4v6",
    "outputId": "e839bb17-cb77-4e14-b3ca-3171cb218162"
   },
   "outputs": [
    {
     "data": {
      "image/png": "[encoded data removed]",
      "text/plain": [
       "<Figure size 432x288 with 1 Axes>"
      ]
     },
     "metadata": {
      "tags": []
     },
     "output_type": "display_data"
    }
   ],
   "source": [
    "optimal_k_avgw2vec_BruteForce = 19\n",
    "neigh_bow=KNeighborsClassifier(n_neighbors=optimal_k_avgw2vec_BruteForce,algorithm=\"brute\")\n",
    "neigh_bow.fit(train_vectors, Y_Train)\n",
    "\n",
    "train_fpr,train_tpr,thresholds = roc_curve(Y_Train, neigh_bow.predict_proba(train_vectors)[:,1])\n",
    "test_fpr, test_tpr, thresholds = roc_curve(Y_Test,  neigh_bow.predict_proba(test_vectors )[:,1])\n",
    "train_avgw2vec_acc =auc(train_fpr, train_tpr)\n",
    "test_avgw2vec_acc = auc(test_fpr, test_tpr)\n",
    "                                           \n",
    "plt.plot(train_fpr, train_tpr, label=\"Train AUC =\"+str(train_avgw2vec_acc))\n",
    "plt.plot(test_fpr, test_tpr, label=\"Test AUC =\"+str(test_avgw2vec_acc))\n",
    "plt.legend()\n",
    "plt.xlabel(\"False Positive Rate\")\n",
    "plt.ylabel(\"True Positive Rate\")\n",
    "plt.title(\"ROC Curve\")\n",
    "plt.show()"
   ]
  },
  {
   "cell_type": "code",
   "execution_count": 84,
   "metadata": {
    "colab": {
     "base_uri": "https://localhost:8080/",
     "height": 445
    },
    "colab_type": "code",
    "id": "NDyQitRf06w9",
    "outputId": "6a9f2d77-dbce-4adc-c996-b0d4cc82093d"
   },
   "outputs": [
    {
     "name": "stdout",
     "output_type": "stream",
     "text": [
      "Test confusion matrix\n"
     ]
    },
    {
     "data": {
      "image/png": "[encoded data removed]",
      "text/plain": [
       "<Figure size 720x504 with 2 Axes>"
      ]
     },
     "metadata": {
      "tags": []
     },
     "output_type": "display_data"
    }
   ],
   "source": [
    "class_names= ['negative','positive']\n",
    "print(\"Test confusion matrix\")\n",
    "array = confusion_matrix(Y_Test, neigh.predict(test_vectors))\n",
    "\n",
    "df_cm = pd.DataFrame(array, index = [i for i in class_names],columns = [i for i in class_names])\n",
    "plt.figure(figsize = (10,7))\n",
    "plt.xlabel(\"Actual Label\")\n",
    "plt.ylabel(\"Predicted Label\")\n",
    "sns.heatmap(df_cm, annot=True,fmt=\"d\")\n",
    "plt.show()"
   ]
  },
  {
   "cell_type": "code",
   "execution_count": 85,
   "metadata": {
    "colab": {
     "base_uri": "https://localhost:8080/",
     "height": 445
    },
    "colab_type": "code",
    "id": "gSslI5-R08DJ",
    "outputId": "07719b22-18aa-4ac8-972a-68f9a504bdb4"
   },
   "outputs": [
    {
     "name": "stdout",
     "output_type": "stream",
     "text": [
      "Train confusion matrix\n"
     ]
    },
    {
     "data": {
      "image/png": "[encoded data removed]",
      "text/plain": [
       "<Figure size 720x504 with 2 Axes>"
      ]
     },
     "metadata": {
      "tags": []
     },
     "output_type": "display_data"
    }
   ],
   "source": [
    "class_names= ['negative','positive']\n",
    "print(\"Train confusion matrix\")\n",
    "array = confusion_matrix(Y_Train, neigh.predict(train_vectors))\n",
    "\n",
    "df_cm = pd.DataFrame(array, index = [i for i in class_names],columns = [i for i in class_names])\n",
    "plt.figure(figsize = (10,7))\n",
    "plt.xlabel(\"Actual Label\")\n",
    "plt.ylabel(\"Predicted Label\")\n",
    "sns.heatmap(df_cm, annot=True,fmt=\"d\")\n",
    "plt.show()"
   ]
  },
  {
   "cell_type": "markdown",
   "metadata": {
    "colab_type": "text",
    "id": "ODmQML5zvUZK"
   },
   "source": [
    "### [5.1.4] Applying KNN brute force on TFIDF W2V,<font color='red'> SET 4</font>"
   ]
  },
  {
   "cell_type": "code",
   "execution_count": 90,
   "metadata": {
    "colab": {
     "base_uri": "https://localhost:8080/",
     "height": 311
    },
    "colab_type": "code",
    "id": "e59ovP0EvUZM",
    "outputId": "b83083ad-840f-4002-9191-e43354b54835"
   },
   "outputs": [
    {
     "name": "stderr",
     "output_type": "stream",
     "text": [
      "100%|██████████| 8/8 [04:29<00:00, 34.27s/it]\n"
     ]
    },
    {
     "data": {
      "image/png": "[encoded data removed]",
      "text/plain": [
       "<Figure size 432x288 with 1 Axes>"
      ]
     },
     "metadata": {
      "tags": []
     },
     "output_type": "display_data"
    }
   ],
   "source": [
    "# Please write all the code with proper documentation\n",
    "from sklearn.metrics import roc_auc_score\n",
    "train_auc= []\n",
    "cv_auc= []\n",
    "K = [1, 5, 10, 15, 21, 31, 41, 51]\n",
    "for i in tqdm(K):\n",
    "  neigh=KNeighborsClassifier(n_neighbors=i,algorithm=\"brute\")\n",
    "  neigh.fit(tfidf_w2v_Train, Y_Train)\n",
    "  \n",
    "  y_train_pred=neigh.predict_proba(tfidf_w2v_Train)[:,1]\n",
    "  y_cv_pred=neigh.predict_proba(tfidf_w2v_CV)[:,1]\n",
    "  \n",
    "  train_auc.append(roc_auc_score(Y_Train,y_train_pred))\n",
    "  cv_auc.append(roc_auc_score(Y_CV, y_cv_pred))\n",
    "  \n",
    "plt.plot(K, train_auc, label='Train AUC Curve')\n",
    "plt.plot(K, cv_auc, label='CV AUC Curve')\n",
    "plt.legend()\n",
    "plt.xlabel(\"K: hyperparameter\")\n",
    "plt.ylabel(\"AUC\")\n",
    "plt.title(\"ERROR PLOTS\")\n",
    "plt.show()\n"
   ]
  },
  {
   "cell_type": "code",
   "execution_count": 91,
   "metadata": {
    "colab": {
     "base_uri": "https://localhost:8080/",
     "height": 294
    },
    "colab_type": "code",
    "id": "PekSibQD9Phr",
    "outputId": "f579f44a-fbae-46b3-cdcd-a72d87993c34"
   },
   "outputs": [
    {
     "data": {
      "image/png": "[encoded data removed]",
      "text/plain": [
       "<Figure size 432x288 with 1 Axes>"
      ]
     },
     "metadata": {
      "tags": []
     },
     "output_type": "display_data"
    }
   ],
   "source": [
    "# Distribution of K values\n",
    "plt.scatter(K,cv_auc,label='Train AUC Curve')\n",
    "plt.scatter(K,train_auc,label='CV AUC Curve')\n",
    "plt.legend()\n",
    "plt.xlabel(\"K: hyperparameter\")\n",
    "plt.ylabel(\"AUC\")\n",
    "plt.title(\"ERROR PLOTS\")\n",
    "plt.show()"
   ]
  },
  {
   "cell_type": "markdown",
   "metadata": {
    "colab_type": "text",
    "id": "DYQfg8y9--xe"
   },
   "source": [
    "Best K as 19"
   ]
  },
  {
   "cell_type": "code",
   "execution_count": 92,
   "metadata": {
    "colab": {
     "base_uri": "https://localhost:8080/",
     "height": 294
    },
    "colab_type": "code",
    "id": "tufjVZak9fiW",
    "outputId": "9f922684-6d1e-4b32-8da6-93b5859c51f3"
   },
   "outputs": [
    {
     "data": {
      "image/png": "[encoded data removed]",
      "text/plain": [
       "<Figure size 432x288 with 1 Axes>"
      ]
     },
     "metadata": {
      "tags": []
     },
     "output_type": "display_data"
    }
   ],
   "source": [
    "optimal_k_tfidfw2v_BruteForce = 19\n",
    "neigh_bow=KNeighborsClassifier(n_neighbors=optimal_k_tfidfw2v_BruteForce,algorithm=\"brute\")\n",
    "neigh_bow.fit(tfidf_w2v_Train, Y_Train)\n",
    "\n",
    "train_fpr,train_tpr,thresholds = roc_curve(Y_Train, neigh_bow.predict_proba(tfidf_w2v_Train)[:,1])\n",
    "test_fpr, test_tpr, thresholds = roc_curve(Y_Test,  neigh_bow.predict_proba(tfidf_w2v_Test )[:,1])\n",
    "train_tfidfw2v_acc =auc(train_fpr, train_tpr)\n",
    "test_tfidfw2v_acc = auc(test_fpr, test_tpr)\n",
    "                                           \n",
    "plt.plot(train_fpr, train_tpr, label=\"Train AUC =\"+str(train_tfidfw2v_acc))\n",
    "plt.plot(test_fpr, test_tpr, label=\"Test AUC =\"+str(test_tfidfw2v_acc))\n",
    "plt.legend()\n",
    "plt.xlabel(\"False Positive Rate\")\n",
    "plt.ylabel(\"True Positive Rate\")\n",
    "plt.title(\"ROC Curve\")\n",
    "plt.show()"
   ]
  },
  {
   "cell_type": "code",
   "execution_count": 93,
   "metadata": {
    "colab": {
     "base_uri": "https://localhost:8080/",
     "height": 445
    },
    "colab_type": "code",
    "id": "y93CWZWS-WB9",
    "outputId": "7b6cbf22-c058-4332-8b3d-5a529159aff9"
   },
   "outputs": [
    {
     "name": "stdout",
     "output_type": "stream",
     "text": [
      "Test confusion matrix\n"
     ]
    },
    {
     "data": {
      "image/png": "[encoded data removed]",
      "text/plain": [
       "<Figure size 720x504 with 2 Axes>"
      ]
     },
     "metadata": {
      "tags": []
     },
     "output_type": "display_data"
    }
   ],
   "source": [
    "class_names= ['negative','positive']\n",
    "print(\"Test confusion matrix\")\n",
    "array = confusion_matrix(Y_Test, neigh.predict(tfidf_w2v_Test))\n",
    "\n",
    "df_cm = pd.DataFrame(array, index = [i for i in class_names],columns = [i for i in class_names])\n",
    "plt.figure(figsize = (10,7))\n",
    "plt.xlabel(\"Actual Label\")\n",
    "plt.ylabel(\"Predicted Label\")\n",
    "sns.heatmap(df_cm, annot=True,fmt=\"d\")\n",
    "plt.show()"
   ]
  },
  {
   "cell_type": "code",
   "execution_count": 95,
   "metadata": {
    "colab": {
     "base_uri": "https://localhost:8080/",
     "height": 445
    },
    "colab_type": "code",
    "id": "7niQ_WX4-gdQ",
    "outputId": "0967c880-1887-4f34-c698-96000c87c58a"
   },
   "outputs": [
    {
     "name": "stdout",
     "output_type": "stream",
     "text": [
      "Train confusion matrix\n"
     ]
    },
    {
     "data": {
      "image/png": "[encoded data removed]",
      "text/plain": [
       "<Figure size 720x504 with 2 Axes>"
      ]
     },
     "metadata": {
      "tags": []
     },
     "output_type": "display_data"
    }
   ],
   "source": [
    "class_names= ['negative','positive']\n",
    "print(\"Train confusion matrix\")\n",
    "array = confusion_matrix(Y_Train, neigh.predict(tfidf_w2v_Train))\n",
    "\n",
    "df_cm = pd.DataFrame(array, index = [i for i in class_names],columns = [i for i in class_names])\n",
    "plt.figure(figsize = (10,7))\n",
    "plt.xlabel(\"Actual Label\")\n",
    "plt.ylabel(\"Predicted Label\")\n",
    "sns.heatmap(df_cm, annot=True,fmt=\"d\")\n",
    "plt.show()"
   ]
  },
  {
   "cell_type": "markdown",
   "metadata": {
    "colab_type": "text",
    "id": "TJEHtVzFvUZS"
   },
   "source": [
    "## [5.2] Applying KNN kd-tree"
   ]
  },
  {
   "cell_type": "markdown",
   "metadata": {
    "colab_type": "text",
    "id": "7x3XmwFQvUZT"
   },
   "source": [
    "### [5.2.1] Applying KNN kd-tree on BOW,<font color='red'> SET 5</font>"
   ]
  },
  {
   "cell_type": "code",
   "execution_count": 0,
   "metadata": {
    "colab": {},
    "colab_type": "code",
    "id": "N19k85USvUZU"
   },
   "outputs": [],
   "source": [
    "# Please write all the code with proper documentation\n",
    "from sklearn.decomposition import TruncatedSVD\n",
    "count_vect=CountVectorizer(min_df=10, max_features=500)\n",
    "\n",
    "X_Train_BOW = count_vect.fit_transform(X_Train)\n",
    "X_Test_BOW = count_vect.transform(X_Test)\n",
    "X_CV_BOW = count_vect.transform(X_CV)\n",
    "\n",
    "svd=TruncatedSVD(n_components=100)\n",
    "#Convertin into Dense Vector\n",
    "x_train_dense_BOW = svd.fit_transform(X_Train_BOW)\n",
    "x_test_dense_BOW = svd.transform(X_Test_BOW)\n",
    "x_cv_dense_BOW = svd.transform(X_CV_BOW)\n"
   ]
  },
  {
   "cell_type": "code",
   "execution_count": 97,
   "metadata": {
    "colab": {
     "base_uri": "https://localhost:8080/",
     "height": 311
    },
    "colab_type": "code",
    "id": "zdDtlmjpBbVA",
    "outputId": "8aa9bb9b-9495-4959-f768-d0d32d8929cb"
   },
   "outputs": [
    {
     "name": "stderr",
     "output_type": "stream",
     "text": [
      "100%|██████████| 8/8 [37:28<00:00, 296.30s/it]\n"
     ]
    },
    {
     "data": {
      "image/png": "[encoded data removed]",
      "text/plain": [
       "<Figure size 432x288 with 1 Axes>"
      ]
     },
     "metadata": {
      "tags": []
     },
     "output_type": "display_data"
    }
   ],
   "source": [
    "# Applying KNN using KD-Tree\n",
    "from sklearn.metrics import roc_auc_score\n",
    "train_auc= []\n",
    "cv_auc= []\n",
    "K = [1, 5, 10, 15, 21, 31, 41, 51]\n",
    "for i in tqdm(K):\n",
    "  neigh=KNeighborsClassifier(n_neighbors=i,algorithm=\"kd_tree\")\n",
    "  neigh.fit(x_train_dense_BOW, Y_Train)\n",
    "  # roc_auc_score(y_true, y_score) the 2nd parameter should be probability estimates of t# not the predicted outputs\n",
    "  y_train_pred=neigh.predict_proba(x_train_dense_BOW)[:,1]\n",
    "  y_cv_pred=neigh.predict_proba(x_cv_dense_BOW)[:,1]\n",
    "  train_auc.append(roc_auc_score(Y_Train,y_train_pred))\n",
    "  cv_auc.append(roc_auc_score(Y_CV, y_cv_pred))\n",
    "  \n",
    "plt.plot(K, train_auc, label='Train AUC Curve')\n",
    "plt.plot(K, cv_auc, label='CV AUC Curve')\n",
    "plt.legend()\n",
    "plt.xlabel(\"K: hyperparameter\")\n",
    "plt.ylabel(\"AUC\")\n",
    "plt.title(\"ERROR PLOT\")\n",
    "plt.show()"
   ]
  },
  {
   "cell_type": "code",
   "execution_count": 98,
   "metadata": {
    "colab": {
     "base_uri": "https://localhost:8080/",
     "height": 294
    },
    "colab_type": "code",
    "id": "3Jng2gXCEQYb",
    "outputId": "847e2f51-a715-483b-d51a-adb55ec7a217"
   },
   "outputs": [
    {
     "data": {
      "image/png": "[encoded data removed]",
      "text/plain": [
       "<Figure size 432x288 with 1 Axes>"
      ]
     },
     "metadata": {
      "tags": []
     },
     "output_type": "display_data"
    }
   ],
   "source": [
    "# Distribution of K values\n",
    "plt.scatter(K,cv_auc,label='Train AUC Curve')\n",
    "plt.scatter(K,train_auc,label='CV AUC Curve')\n",
    "plt.legend()\n",
    "plt.xlabel(\"K: hyperparameter\")\n",
    "plt.ylabel(\"AUC\")\n",
    "plt.title(\"ERROR PLOTS\")\n",
    "plt.show()"
   ]
  },
  {
   "cell_type": "markdown",
   "metadata": {
    "colab_type": "text",
    "id": "iIAQ6cM3I04U"
   },
   "source": [
    "Taking best K as 17"
   ]
  },
  {
   "cell_type": "code",
   "execution_count": 99,
   "metadata": {
    "colab": {
     "base_uri": "https://localhost:8080/",
     "height": 294
    },
    "colab_type": "code",
    "id": "6uS7uyBBEduo",
    "outputId": "88adc508-fe10-4cff-b8c4-33146fabf436"
   },
   "outputs": [
    {
     "data": {
      "image/png": "[encoded data removed]",
      "text/plain": [
       "<Figure size 432x288 with 1 Axes>"
      ]
     },
     "metadata": {
      "tags": []
     },
     "output_type": "display_data"
    }
   ],
   "source": [
    "optimal_k_bow_KdTree = 17\n",
    "neigh_bow=KNeighborsClassifier(n_neighbors=optimal_k_bow_KdTree,algorithm=\"kd_tree\")\n",
    "neigh_bow.fit(x_train_dense_BOW, Y_Train)\n",
    "\n",
    "train_fpr,train_tpr,thresholds = roc_curve(Y_Train, neigh_bow.predict_proba(x_train_dense_BOW)[:,1])\n",
    "test_fpr, test_tpr, thresholds = roc_curve(Y_Test,  neigh_bow.predict_proba(x_test_dense_BOW )[:,1])\n",
    "train_bow_kd_acc =auc(train_fpr, train_tpr)\n",
    "test_bow_kd_acc = auc(test_fpr, test_tpr)\n",
    "                                           \n",
    "plt.plot(train_fpr, train_tpr, label=\"Train AUC =\"+str(train_bow_kd_acc))\n",
    "plt.plot(test_fpr, test_tpr, label=\"Test AUC =\"+str(test_bow_kd_acc))\n",
    "plt.legend()\n",
    "plt.xlabel(\"False Positive Rate\")\n",
    "plt.ylabel(\"True Positive Rate\")\n",
    "plt.title(\"ROC Curve\")\n",
    "plt.show()"
   ]
  },
  {
   "cell_type": "code",
   "execution_count": 100,
   "metadata": {
    "colab": {
     "base_uri": "https://localhost:8080/",
     "height": 447
    },
    "colab_type": "code",
    "id": "qudBBWvBZuXQ",
    "outputId": "aedba706-da3c-4984-e2e2-47f97969013d"
   },
   "outputs": [
    {
     "name": "stdout",
     "output_type": "stream",
     "text": [
      "Test confusion matrix\n"
     ]
    },
    {
     "data": {
      "image/png": "[encoded data removed]",
      "text/plain": [
       "<Figure size 720x504 with 2 Axes>"
      ]
     },
     "metadata": {
      "tags": []
     },
     "output_type": "display_data"
    }
   ],
   "source": [
    "class_names= ['negative','positive']\n",
    "print(\"Test confusion matrix\")\n",
    "array = confusion_matrix(Y_Test, neigh.predict(x_test_dense_BOW))\n",
    "\n",
    "df_cm = pd.DataFrame(array, index = [i for i in class_names],columns = [i for i in class_names])\n",
    "plt.figure(figsize = (10,7))\n",
    "plt.xlabel(\"Actual Label\")\n",
    "plt.ylabel(\"Predicted Label\")\n",
    "sns.heatmap(df_cm, annot=True,fmt=\"d\")\n",
    "plt.show()"
   ]
  },
  {
   "cell_type": "code",
   "execution_count": 101,
   "metadata": {
    "colab": {
     "base_uri": "https://localhost:8080/",
     "height": 445
    },
    "colab_type": "code",
    "id": "xU4LYfmyZ1GF",
    "outputId": "c734c0bb-0fcb-4734-8428-0cbffeb834c1"
   },
   "outputs": [
    {
     "name": "stdout",
     "output_type": "stream",
     "text": [
      "Train confusion matrix\n"
     ]
    },
    {
     "data": {
      "image/png": "[encoded data removed]",
      "text/plain": [
       "<Figure size 720x504 with 2 Axes>"
      ]
     },
     "metadata": {
      "tags": []
     },
     "output_type": "display_data"
    }
   ],
   "source": [
    "class_names= ['negative','positive']\n",
    "print(\"Train confusion matrix\")\n",
    "array = confusion_matrix(Y_Train, neigh.predict(x_train_dense_BOW))\n",
    "\n",
    "df_cm = pd.DataFrame(array, index = [i for i in class_names],columns = [i for i in class_names])\n",
    "plt.figure(figsize = (10,7))\n",
    "plt.xlabel(\"Actual Label\")\n",
    "plt.ylabel(\"Predicted Label\")\n",
    "sns.heatmap(df_cm, annot=True,fmt=\"d\")\n",
    "plt.show()"
   ]
  },
  {
   "cell_type": "markdown",
   "metadata": {
    "colab_type": "text",
    "id": "0SXXg8gSvUZX"
   },
   "source": [
    "### [5.2.2] Applying KNN kd-tree on TFIDF,<font color='red'> SET 6</font>"
   ]
  },
  {
   "cell_type": "code",
   "execution_count": 0,
   "metadata": {
    "colab": {},
    "colab_type": "code",
    "id": "mIrdZvupvUZZ"
   },
   "outputs": [],
   "source": [
    "# Please write all the code with proper documentation\n",
    "from sklearn.decomposition import TruncatedSVD\n",
    "count_vect=CountVectorizer(min_df=10, max_features=500)\n",
    "\n",
    "X_Train_TFIDF = count_vect.fit_transform(X_Train)\n",
    "X_Test_TFIDF = count_vect.transform(X_Test)\n",
    "X_CV_TFIDF = count_vect.transform(X_CV)\n",
    "\n",
    "svd=TruncatedSVD(n_components=100)\n",
    "#Convertin into Dense Vector\n",
    "x_train_dense_TFIDF = svd.fit_transform(X_Train_TFIDF)\n",
    "x_test_dense_TFIDF = svd.transform(X_Test_TFIDF)\n",
    "x_cv_dense_TFIDF = svd.transform(X_CV_TFIDF)"
   ]
  },
  {
   "cell_type": "code",
   "execution_count": 103,
   "metadata": {
    "colab": {
     "base_uri": "https://localhost:8080/",
     "height": 311
    },
    "colab_type": "code",
    "id": "tz--ZsqbeI_A",
    "outputId": "b00241a0-5431-4212-f775-13950be90aae"
   },
   "outputs": [
    {
     "name": "stderr",
     "output_type": "stream",
     "text": [
      "100%|██████████| 6/6 [26:36<00:00, 268.96s/it]\n"
     ]
    },
    {
     "data": {
      "image/png": "[encoded data removed]",
      "text/plain": [
       "<Figure size 432x288 with 1 Axes>"
      ]
     },
     "metadata": {
      "tags": []
     },
     "output_type": "display_data"
    }
   ],
   "source": [
    "# Applying KNN using KD-Tree\n",
    "from sklearn.metrics import roc_auc_score\n",
    "train_auc= []\n",
    "cv_auc= []\n",
    "K = [1, 5, 10, 15, 21, 31]\n",
    "for i in tqdm(K):\n",
    "  neigh=KNeighborsClassifier(n_neighbors=i,algorithm=\"kd_tree\")\n",
    "  neigh.fit(x_train_dense_TFIDF, Y_Train)\n",
    "\n",
    "  y_train_pred=neigh.predict_proba(x_train_dense_TFIDF)[:,1]\n",
    "  y_cv_pred=neigh.predict_proba(x_cv_dense_TFIDF)[:,1]\n",
    "  train_auc.append(roc_auc_score(Y_Train,y_train_pred))\n",
    "  cv_auc.append(roc_auc_score(Y_CV, y_cv_pred))\n",
    "  \n",
    "plt.plot(K, train_auc, label='Train AUC Curve')\n",
    "plt.plot(K, cv_auc, label='CV AUC Curve')\n",
    "plt.legend()\n",
    "plt.xlabel(\"K: hyperparameter\")\n",
    "plt.ylabel(\"AUC\")\n",
    "plt.title(\"ERROR PLOT\")\n",
    "plt.show()"
   ]
  },
  {
   "cell_type": "code",
   "execution_count": 104,
   "metadata": {
    "colab": {
     "base_uri": "https://localhost:8080/",
     "height": 294
    },
    "colab_type": "code",
    "id": "YtUs0q55iGnI",
    "outputId": "d09ce7bf-8dcd-4985-e9c4-fa26a36ce591"
   },
   "outputs": [
    {
     "data": {
      "image/png": "[encoded data removed]",
      "text/plain": [
       "<Figure size 432x288 with 1 Axes>"
      ]
     },
     "metadata": {
      "tags": []
     },
     "output_type": "display_data"
    }
   ],
   "source": [
    "# Distribution of K values\n",
    "plt.scatter(K,cv_auc,label='Train AUC Curve')\n",
    "plt.scatter(K,train_auc,label='CV AUC Curve')\n",
    "plt.legend()\n",
    "plt.xlabel(\"K: hyperparameter\")\n",
    "plt.ylabel(\"AUC\")\n",
    "plt.title(\"ERROR PLOTS\")\n",
    "plt.show()"
   ]
  },
  {
   "cell_type": "code",
   "execution_count": 107,
   "metadata": {
    "colab": {
     "base_uri": "https://localhost:8080/",
     "height": 294
    },
    "colab_type": "code",
    "id": "o1EKksHwiTEs",
    "outputId": "94bad988-8398-4cfa-9e01-9824525ffce1"
   },
   "outputs": [
    {
     "data": {
      "image/png": "[encoded data removed]",
      "text/plain": [
       "<Figure size 432x288 with 1 Axes>"
      ]
     },
     "metadata": {
      "tags": []
     },
     "output_type": "display_data"
    }
   ],
   "source": [
    "optimal_k_tfidf_KdTree = 13\n",
    "neigh_bow=KNeighborsClassifier(n_neighbors=optimal_k_tfidf_KdTree,algorithm=\"kd_tree\")\n",
    "neigh_bow.fit(x_train_dense_TFIDF, Y_Train)\n",
    "\n",
    "train_fpr,train_tpr,thresholds = roc_curve(Y_Train, neigh_bow.predict_proba(x_train_dense_TFIDF)[:,1])\n",
    "test_fpr, test_tpr, thresholds = roc_curve(Y_Test,  neigh_bow.predict_proba(x_test_dense_TFIDF )[:,1])\n",
    "train_tfidf_kd_acc =auc(train_fpr, train_tpr)\n",
    "test_tfidf_kd_acc = auc(test_fpr, test_tpr)\n",
    "                                           \n",
    "plt.plot(train_fpr, train_tpr, label=\"Train AUC =\"+str(train_tfidf_kd_acc))\n",
    "plt.plot(test_fpr, test_tpr, label=\"Test AUC =\"+str(test_tfidf_kd_acc))\n",
    "plt.legend()\n",
    "plt.xlabel(\"False Positive Rate\")\n",
    "plt.ylabel(\"True Positive Rate\")\n",
    "plt.title(\"ROC Curve\")\n",
    "plt.show()"
   ]
  },
  {
   "cell_type": "code",
   "execution_count": 108,
   "metadata": {
    "colab": {
     "base_uri": "https://localhost:8080/",
     "height": 450
    },
    "colab_type": "code",
    "id": "RPx3z1QRiomt",
    "outputId": "9c16cc90-10a3-4723-a272-d65fde864e50"
   },
   "outputs": [
    {
     "name": "stdout",
     "output_type": "stream",
     "text": [
      "Test confusion matrix\n"
     ]
    },
    {
     "data": {
      "image/png": "[encoded data removed]",
      "text/plain": [
       "<Figure size 720x504 with 2 Axes>"
      ]
     },
     "metadata": {
      "tags": []
     },
     "output_type": "display_data"
    }
   ],
   "source": [
    "class_names= ['negative','positive']\n",
    "print(\"Test confusion matrix\")\n",
    "array = confusion_matrix(Y_Test, neigh.predict(x_test_dense_TFIDF))\n",
    "\n",
    "df_cm = pd.DataFrame(array, index = [i for i in class_names],columns = [i for i in class_names])\n",
    "plt.figure(figsize = (10,7))\n",
    "plt.xlabel(\"Actual Label\")\n",
    "plt.ylabel(\"Predicted Label\")\n",
    "sns.heatmap(df_cm, annot=True,fmt=\"d\")\n",
    "plt.show()"
   ]
  },
  {
   "cell_type": "code",
   "execution_count": 109,
   "metadata": {
    "colab": {
     "base_uri": "https://localhost:8080/",
     "height": 445
    },
    "colab_type": "code",
    "id": "eXHsRpRVio3Z",
    "outputId": "980bfa44-84e4-4839-d02a-9f602a72fc6f"
   },
   "outputs": [
    {
     "name": "stdout",
     "output_type": "stream",
     "text": [
      "Train confusion matrix\n"
     ]
    },
    {
     "data": {
      "image/png": "[encoded data removed]",
      "text/plain": [
       "<Figure size 720x504 with 2 Axes>"
      ]
     },
     "metadata": {
      "tags": []
     },
     "output_type": "display_data"
    }
   ],
   "source": [
    "class_names= ['negative','positive']\n",
    "print(\"Train confusion matrix\")\n",
    "array = confusion_matrix(Y_Train, neigh.predict(x_train_dense_TFIDF))\n",
    "\n",
    "df_cm = pd.DataFrame(array, index = [i for i in class_names],columns = [i for i in class_names])\n",
    "plt.figure(figsize = (10,7))\n",
    "plt.xlabel(\"Actual Label\")\n",
    "plt.ylabel(\"Predicted Label\")\n",
    "sns.heatmap(df_cm, annot=True,fmt=\"d\")\n",
    "plt.show()"
   ]
  },
  {
   "cell_type": "markdown",
   "metadata": {
    "colab_type": "text",
    "id": "J54dkwiwvUZf"
   },
   "source": [
    "### [5.2.3] Applying KNN kd-tree on AVG W2V,<font color='red'> SET 3</font>"
   ]
  },
  {
   "cell_type": "code",
   "execution_count": 110,
   "metadata": {
    "colab": {
     "base_uri": "https://localhost:8080/",
     "height": 311
    },
    "colab_type": "code",
    "id": "QxJw38FSvUZg",
    "outputId": "61353f2f-328f-4212-bda0-677ebc39cc3b"
   },
   "outputs": [
    {
     "name": "stderr",
     "output_type": "stream",
     "text": [
      "100%|██████████| 6/6 [14:13<00:00, 144.82s/it]\n"
     ]
    },
    {
     "data": {
      "image/png": "[encoded data removed]",
      "text/plain": [
       "<Figure size 432x288 with 1 Axes>"
      ]
     },
     "metadata": {
      "tags": []
     },
     "output_type": "display_data"
    }
   ],
   "source": [
    "# Please write all the code with proper documentation\n",
    "from sklearn.metrics import roc_auc_score\n",
    "train_auc= []\n",
    "cv_auc= []\n",
    "K = [1, 5, 10, 15, 21, 31]\n",
    "for i in tqdm(K):\n",
    "  neigh=KNeighborsClassifier(n_neighbors=i,algorithm=\"kd_tree\")\n",
    "  neigh.fit(train_vectors, Y_Train)\n",
    "  y_train_pred=neigh.predict_proba(train_vectors)[:,1]\n",
    "  y_cv_pred=neigh.predict_proba(cv_vectors)[:,1]\n",
    "  train_auc.append(roc_auc_score(Y_Train,y_train_pred))\n",
    "  cv_auc.append(roc_auc_score(Y_CV, y_cv_pred))\n",
    "  \n",
    "plt.plot(K, train_auc, label='Train AUC Curve')\n",
    "plt.plot(K, cv_auc, label='CV AUC Curve')\n",
    "plt.legend()\n",
    "plt.xlabel(\"K: hyperparameter\")\n",
    "plt.ylabel(\"AUC\")\n",
    "plt.title(\"ERROR PLOTS\")\n",
    "plt.show()"
   ]
  },
  {
   "cell_type": "code",
   "execution_count": 111,
   "metadata": {
    "colab": {
     "base_uri": "https://localhost:8080/",
     "height": 294
    },
    "colab_type": "code",
    "id": "bIqfidaklGsf",
    "outputId": "c9343ea7-9fdb-495e-d2df-c5c53dfe2d5a"
   },
   "outputs": [
    {
     "data": {
      "image/png": "[encoded data removed]",
      "text/plain": [
       "<Figure size 432x288 with 1 Axes>"
      ]
     },
     "metadata": {
      "tags": []
     },
     "output_type": "display_data"
    }
   ],
   "source": [
    "# Distribution of K values\n",
    "plt.scatter(K,cv_auc,label='Train AUC Curve')\n",
    "plt.scatter(K,train_auc,label='CV AUC Curve')\n",
    "plt.legend()\n",
    "plt.xlabel(\"K: hyperparameter\")\n",
    "plt.ylabel(\"AUC\")\n",
    "plt.title(\"ERROR PLOTS\")\n",
    "plt.show()"
   ]
  },
  {
   "cell_type": "code",
   "execution_count": 112,
   "metadata": {
    "colab": {
     "base_uri": "https://localhost:8080/",
     "height": 294
    },
    "colab_type": "code",
    "id": "Q8cdnUOXlHVz",
    "outputId": "f1f5dcac-4ab4-4ff3-c9aa-823c92d7ed8d"
   },
   "outputs": [
    {
     "data": {
      "image/png": "[encoded data removed]",
      "text/plain": [
       "<Figure size 432x288 with 1 Axes>"
      ]
     },
     "metadata": {
      "tags": []
     },
     "output_type": "display_data"
    }
   ],
   "source": [
    "optimal_k_avgw2v_KdTree = 13\n",
    "neigh_bow=KNeighborsClassifier(n_neighbors=optimal_k_avgw2v_KdTree,algorithm=\"kd_tree\")\n",
    "neigh_bow.fit(train_vectors, Y_Train)\n",
    "\n",
    "train_fpr,train_tpr,thresholds = roc_curve(Y_Train, neigh_bow.predict_proba(train_vectors)[:,1])\n",
    "test_fpr, test_tpr, thresholds = roc_curve(Y_Test,  neigh_bow.predict_proba(test_vectors )[:,1])\n",
    "train_avgw2v_kd_acc =auc(train_fpr, train_tpr)\n",
    "test_avgw2v_kd_acc = auc(test_fpr, test_tpr)\n",
    "                                           \n",
    "plt.plot(train_fpr, train_tpr, label=\"Train AUC =\"+str(train_avgw2v_kd_acc))\n",
    "plt.plot(test_fpr, test_tpr, label=\"Test AUC =\"+str(test_avgw2v_kd_acc))\n",
    "plt.legend()\n",
    "plt.xlabel(\"False Positive Rate\")\n",
    "plt.ylabel(\"True Positive Rate\")\n",
    "plt.title(\"ROC Curve\")\n",
    "plt.show()"
   ]
  },
  {
   "cell_type": "code",
   "execution_count": 113,
   "metadata": {
    "colab": {
     "base_uri": "https://localhost:8080/",
     "height": 445
    },
    "colab_type": "code",
    "id": "iAU1PfqPloX1",
    "outputId": "ce6702d0-0101-4706-d31f-67d6c9fde66f"
   },
   "outputs": [
    {
     "name": "stdout",
     "output_type": "stream",
     "text": [
      "Test confusion matrix\n"
     ]
    },
    {
     "data": {
      "image/png": "[encoded data removed]",
      "text/plain": [
       "<Figure size 720x504 with 2 Axes>"
      ]
     },
     "metadata": {
      "tags": []
     },
     "output_type": "display_data"
    }
   ],
   "source": [
    "class_names= ['negative','positive']\n",
    "print(\"Test confusion matrix\")\n",
    "array = confusion_matrix(Y_Test, neigh.predict(test_vectors))\n",
    "\n",
    "df_cm = pd.DataFrame(array, index = [i for i in class_names],columns = [i for i in class_names])\n",
    "plt.figure(figsize = (10,7))\n",
    "plt.xlabel(\"Actual Label\")\n",
    "plt.ylabel(\"Predicted Label\")\n",
    "sns.heatmap(df_cm, annot=True,fmt=\"d\")\n",
    "plt.show()"
   ]
  },
  {
   "cell_type": "code",
   "execution_count": 115,
   "metadata": {
    "colab": {
     "base_uri": "https://localhost:8080/",
     "height": 445
    },
    "colab_type": "code",
    "id": "t1oYnj_eluzx",
    "outputId": "76d42771-1aa9-4efd-ec15-0816f422ea6e"
   },
   "outputs": [
    {
     "name": "stdout",
     "output_type": "stream",
     "text": [
      "Train confusion matrix\n"
     ]
    },
    {
     "data": {
      "image/png": "[encoded data removed]",
      "text/plain": [
       "<Figure size 720x504 with 2 Axes>"
      ]
     },
     "metadata": {
      "tags": []
     },
     "output_type": "display_data"
    }
   ],
   "source": [
    "class_names= ['negative','positive']\n",
    "print(\"Train confusion matrix\")\n",
    "array = confusion_matrix(Y_Train, neigh.predict(train_vectors))\n",
    "\n",
    "df_cm = pd.DataFrame(array, index = [i for i in class_names],columns = [i for i in class_names])\n",
    "plt.figure(figsize = (10,7))\n",
    "plt.xlabel(\"Actual Label\")\n",
    "plt.ylabel(\"Predicted Label\")\n",
    "sns.heatmap(df_cm, annot=True,fmt=\"d\")\n",
    "plt.show()"
   ]
  },
  {
   "cell_type": "markdown",
   "metadata": {
    "colab_type": "text",
    "id": "JvtkRzKgvUZk"
   },
   "source": [
    "### [5.2.4] Applying KNN kd-tree on TFIDF W2V,<font color='red'> SET 4</font>"
   ]
  },
  {
   "cell_type": "code",
   "execution_count": 116,
   "metadata": {
    "colab": {
     "base_uri": "https://localhost:8080/",
     "height": 311
    },
    "colab_type": "code",
    "id": "pmvPmk4XvUZk",
    "outputId": "f233d4e1-7e5b-4bd3-91c9-0dd4f89e04c0"
   },
   "outputs": [
    {
     "name": "stderr",
     "output_type": "stream",
     "text": [
      "100%|██████████| 6/6 [11:36<00:00, 119.12s/it]\n"
     ]
    },
    {
     "data": {
      "image/png": "[encoded data removed]",
      "text/plain": [
       "<Figure size 432x288 with 1 Axes>"
      ]
     },
     "metadata": {
      "tags": []
     },
     "output_type": "display_data"
    }
   ],
   "source": [
    "# Please write all the code with proper documentation\n",
    "from sklearn.metrics import roc_auc_score\n",
    "train_auc= []\n",
    "cv_auc= []\n",
    "K = [1, 5, 10, 15, 21, 31]\n",
    "for i in tqdm(K):\n",
    "  neigh=KNeighborsClassifier(n_neighbors=i,algorithm=\"kd_tree\")\n",
    "  neigh.fit(tfidf_w2v_Train, Y_Train)\n",
    "  \n",
    "  y_train_pred=neigh.predict_proba(tfidf_w2v_Train)[:,1]\n",
    "  y_cv_pred=neigh.predict_proba(tfidf_w2v_CV)[:,1]\n",
    "  \n",
    "  train_auc.append(roc_auc_score(Y_Train,y_train_pred))\n",
    "  cv_auc.append(roc_auc_score(Y_CV, y_cv_pred))\n",
    "  \n",
    "plt.plot(K, train_auc, label='Train AUC Curve')\n",
    "plt.plot(K, cv_auc, label='CV AUC Curve')\n",
    "plt.legend()\n",
    "plt.xlabel(\"K: hyperparameter\")\n",
    "plt.ylabel(\"AUC\")\n",
    "plt.title(\"ERROR PLOTS\")\n",
    "plt.show()\n",
    "\n"
   ]
  },
  {
   "cell_type": "code",
   "execution_count": 117,
   "metadata": {
    "colab": {
     "base_uri": "https://localhost:8080/",
     "height": 294
    },
    "colab_type": "code",
    "id": "7Ijk1DW3xBbp",
    "outputId": "605a9a0e-1f75-4813-ebde-97fdfcd978d7"
   },
   "outputs": [
    {
     "data": {
      "image/png": "[encoded data removed]",
      "text/plain": [
       "<Figure size 432x288 with 1 Axes>"
      ]
     },
     "metadata": {
      "tags": []
     },
     "output_type": "display_data"
    }
   ],
   "source": [
    "# Distribution of K values\n",
    "plt.scatter(K,cv_auc,label='Train AUC Curve')\n",
    "plt.scatter(K,train_auc,label='CV AUC Curve')\n",
    "plt.legend()\n",
    "plt.xlabel(\"K: hyperparameter\")\n",
    "plt.ylabel(\"AUC\")\n",
    "plt.title(\"ERROR PLOTS\")\n",
    "plt.show()"
   ]
  },
  {
   "cell_type": "code",
   "execution_count": 118,
   "metadata": {
    "colab": {
     "base_uri": "https://localhost:8080/",
     "height": 294
    },
    "colab_type": "code",
    "id": "iAkY6_CYxNAo",
    "outputId": "8b68b5a1-5e46-483c-d6ea-5c4fbb03a916"
   },
   "outputs": [
    {
     "data": {
      "image/png": "[encoded data removed]",
      "text/plain": [
       "<Figure size 432x288 with 1 Axes>"
      ]
     },
     "metadata": {
      "tags": []
     },
     "output_type": "display_data"
    }
   ],
   "source": [
    "optimal_k_tfidf_avgw2v_KdTree = 13\n",
    "neigh_bow=KNeighborsClassifier(n_neighbors=optimal_k_tfidf_avgw2v_KdTree,algorithm=\"kd_tree\")\n",
    "neigh_bow.fit(tfidf_w2v_Train, Y_Train)\n",
    "\n",
    "train_fpr,train_tpr,thresholds = roc_curve(Y_Train, neigh_bow.predict_proba(tfidf_w2v_Train)[:,1])\n",
    "test_fpr, test_tpr, thresholds = roc_curve(Y_Test,  neigh_bow.predict_proba(tfidf_w2v_Test )[:,1])\n",
    "train_tfidfw2v_kd_acc =auc(train_fpr, train_tpr)\n",
    "test_tfidfw2v_kd_acc = auc(test_fpr, test_tpr)\n",
    "                                           \n",
    "plt.plot(train_fpr, train_tpr, label=\"Train AUC =\"+str(train_tfidfw2v_kd_acc))\n",
    "plt.plot(test_fpr, test_tpr, label=\"Test AUC =\"+str(test_tfidfw2v_kd_acc))\n",
    "plt.legend()\n",
    "plt.xlabel(\"False Positive Rate\")\n",
    "plt.ylabel(\"True Positive Rate\")\n",
    "plt.title(\"ROC Curve\")\n",
    "plt.show()"
   ]
  },
  {
   "cell_type": "code",
   "execution_count": 119,
   "metadata": {
    "colab": {
     "base_uri": "https://localhost:8080/",
     "height": 445
    },
    "colab_type": "code",
    "id": "ljZUwv4jxixf",
    "outputId": "10ff3e15-0cb0-43d7-f6ec-837fd6fbe1a3"
   },
   "outputs": [
    {
     "name": "stdout",
     "output_type": "stream",
     "text": [
      "Test confusion matrix\n"
     ]
    },
    {
     "data": {
      "image/png": "[encoded data removed]",
      "text/plain": [
       "<Figure size 720x504 with 2 Axes>"
      ]
     },
     "metadata": {
      "tags": []
     },
     "output_type": "display_data"
    }
   ],
   "source": [
    "class_names= ['negative','positive']\n",
    "print(\"Test confusion matrix\")\n",
    "array = confusion_matrix(Y_Test, neigh.predict(tfidf_w2v_Test))\n",
    "\n",
    "df_cm = pd.DataFrame(array, index = [i for i in class_names],columns = [i for i in class_names])\n",
    "plt.figure(figsize = (10,7))\n",
    "plt.xlabel(\"Actual Label\")\n",
    "plt.ylabel(\"Predicted Label\")\n",
    "sns.heatmap(df_cm, annot=True,fmt=\"d\")\n",
    "plt.show()"
   ]
  },
  {
   "cell_type": "code",
   "execution_count": 120,
   "metadata": {
    "colab": {
     "base_uri": "https://localhost:8080/",
     "height": 445
    },
    "colab_type": "code",
    "id": "GXoRHbUgxllO",
    "outputId": "6674dbac-1fb0-46a5-a2ba-7f023ba6bac9"
   },
   "outputs": [
    {
     "name": "stdout",
     "output_type": "stream",
     "text": [
      "Train confusion matrix\n"
     ]
    },
    {
     "data": {
      "image/png": "[encoded data removed]",
      "text/plain": [
       "<Figure size 720x504 with 2 Axes>"
      ]
     },
     "metadata": {
      "tags": []
     },
     "output_type": "display_data"
    }
   ],
   "source": [
    "class_names= ['negative','positive']\n",
    "print(\"Train confusion matrix\")\n",
    "array = confusion_matrix(Y_Train, neigh.predict(tfidf_w2v_Train))\n",
    "\n",
    "df_cm = pd.DataFrame(array, index = [i for i in class_names],columns = [i for i in class_names])\n",
    "plt.figure(figsize = (10,7))\n",
    "plt.xlabel(\"Actual Label\")\n",
    "plt.ylabel(\"Predicted Label\")\n",
    "sns.heatmap(df_cm, annot=True,fmt=\"d\")\n",
    "plt.show()"
   ]
  },
  {
   "cell_type": "markdown",
   "metadata": {
    "colab_type": "text",
    "id": "WCqon3yVvUZv"
   },
   "source": [
    "# [6] Conclusions"
   ]
  },
  {
   "cell_type": "code",
   "execution_count": 121,
   "metadata": {
    "colab": {
     "base_uri": "https://localhost:8080/",
     "height": 221
    },
    "colab_type": "code",
    "id": "cCdF9szxvUZw",
    "outputId": "240fcbc5-f1cb-445e-ba03-d447e0122846"
   },
   "outputs": [
    {
     "name": "stdout",
     "output_type": "stream",
     "text": [
      "+-------+---------------------------------------+--------+--------------------+--------------------+\n",
      "| S.NO. |                 MODEL                 | Best K | Training Accuracy  |   Test Accuracy    |\n",
      "+-------+---------------------------------------+--------+--------------------+--------------------+\n",
      "|   1   |       KNN using 'brute' for BoW       |   13   | 0.8661762331930533 | 0.7639291415598611 |\n",
      "|   2   |      KNN using 'brute' for TFIDF      |   13   | 0.906895826364345  | 0.8051969083862436 |\n",
      "|   3   |   KNN using 'brute' for Avg-Word2Vec  |   19   | 0.9353174665965203 | 0.8991522598249937 |\n",
      "|   4   |  KNN using 'brute' for TFIDF-Word2Vec |   19   | 0.9126202789750149 | 0.8614007285295872 |\n",
      "|   5   |       KNN using 'kdTree' for BoW      |   17   | 0.876543649349467  | 0.8232900472955992 |\n",
      "|   6   |      KNN using 'kdTree' for TFIDF     |   13   | 0.8824177476378865 | 0.8172511458099907 |\n",
      "|   7   |  KNN using 'kdTree' for Avg-Word2Vec  |   13   | 0.939860557162905  | 0.8910631557095082 |\n",
      "|   8   | KNN using 'kdTree' for TFIDF-Word2Vec |   13   | 0.9202544950004514 | 0.8544264682816187 |\n",
      "+-------+---------------------------------------+--------+--------------------+--------------------+\n"
     ]
    }
   ],
   "source": [
    "# Please compare all your models using Prettytable library\n",
    "from prettytable import PrettyTable\n",
    "\n",
    "names= [\n",
    "        \"KNN using 'brute' for BoW\",\n",
    "\t\t    \"KNN using 'brute' for TFIDF\",\n",
    "\t\t    \"KNN using 'brute' for Avg-Word2Vec\",\n",
    "\t\t    \"KNN using 'brute' for TFIDF-Word2Vec\",\n",
    "\t\t    \"KNN using 'kdTree' for BoW\",\n",
    "\t\t    \"KNN using 'kdTree' for TFIDF\",\n",
    "\t\t    \"KNN using 'kdTree' for Avg-Word2Vec\",\n",
    "\t\t    \"KNN using 'kdTree' for TFIDF-Word2Vec\"\n",
    "\t\t]\n",
    "\n",
    "  \n",
    "optimal_K= [\n",
    "\t\t\toptimal_k_bow_BruteForce,\n",
    "\t\t\toptimal_k_tfidf_BruteForce,\n",
    "\t\t\toptimal_k_avgw2vec_BruteForce,\n",
    "\t\t\toptimal_k_tfidfw2v_BruteForce,\n",
    "\t\t\toptimal_k_bow_KdTree,\n",
    "\t\t\toptimal_k_tfidf_KdTree,\n",
    "\t\t\toptimal_k_avgw2v_KdTree,\n",
    "\t\t\toptimal_k_tfidf_avgw2v_KdTree\n",
    "\t\t\t]\n",
    "\n",
    "train_acc= [\n",
    "\t\t\ttrain_bow_acc,\n",
    "\t\t\ttrain_tfidf_acc,\n",
    "\t\t\ttrain_avgw2vec_acc,\n",
    "\t\t\ttrain_tfidfw2v_acc,\n",
    "\t\t\ttrain_bow_kd_acc,\n",
    "\t\t\ttrain_tfidf_kd_acc,\n",
    "\t\t\ttrain_avgw2v_kd_acc,\n",
    "\t\t\ttrain_tfidfw2v_kd_acc\n",
    "\t\t\t]\n",
    "\n",
    "test_acc = [\n",
    "\t\t\ttest_bow_acc,\n",
    "\t\t\ttest_tfidf_acc,\n",
    "\t\t\ttest_avgw2vec_acc,\n",
    "\t\t\ttest_tfidfw2v_acc,\n",
    "\t\t\ttest_bow_kd_acc,\n",
    "\t\t\ttest_tfidf_kd_acc,\n",
    "\t\t\ttest_avgw2v_kd_acc,\n",
    "\t\t\ttest_tfidfw2v_kd_acc\n",
    " ]\n",
    "numbering= [1,2,3,4,5,6,7,8]\n",
    " \n",
    " \n",
    "# Initializing prettytable\n",
    " \n",
    "ptable=PrettyTable()\n",
    " \n",
    " # Adding columns\n",
    "ptable.add_column(\"S.NO.\",numbering)\n",
    "ptable.add_column(\"MODEL\",names)\n",
    "ptable.add_column(\"Best K\",optimal_K)\n",
    "ptable.add_column(\"Training Accuracy\",train_acc)\n",
    "ptable.add_column(\"Test Accuracy\",test_acc)\n",
    " \n",
    "# Printing the Table\n",
    "print(ptable)\n"
   ]
  },
  {
   "cell_type": "markdown",
   "metadata": {
    "colab_type": "text",
    "id": "nBOJOAky7r7w"
   },
   "source": [
    "**Conclusion** :\n",
    "\n",
    "1. I have taken  70000 data from SQL database.\n",
    "2. After that I have cleaned the summary and text of the reviews.\n",
    "3. Merge the Summary and text into new text column.\n",
    "3. Sort the dataset based on time.\n",
    "4. Split the dataset into Train, CV and Test.\n",
    "5. Applied BOW, TFIDF, AVGW2V and TFIDF weighted W2V on review text.\n",
    "5. Applied KNN using brute force on BOW,TFIDF, AVGW2V and TFIDF weighted W2V.\n",
    "8. Implemented confusion matrix and AOC to find out accuracy.\n",
    "8. Applied KNN using KD-Tree on BOW,TFIDF, AVGW2V and TFIDF weighted W2V\n",
    "9. Implemented confusion matrix and AOC to find out accuracy.\n",
    "10.  Represent the  best K, Training Accuracy and Test Accuracy in a taburar form.\n"
   ]
  }
 ],
 "metadata": {
  "accelerator": "GPU",
  "colab": {
   "collapsed_sections": [],
   "name": "Amazon Fine Food Reviews Analysis_KNN-checkpoint.ipynb",
   "provenance": [],
   "version": "0.3.2"
  },
  "kernelspec": {
   "display_name": "Python 3",
   "language": "python",
   "name": "python3"
  },
  "language_info": {
   "codemirror_mode": {
    "name": "ipython",
    "version": 3
   },
   "file_extension": ".py",
   "mimetype": "text/x-python",
   "name": "python",
   "nbconvert_exporter": "python",
   "pygments_lexer": "ipython3",
   "version": "3.6.5"
  }
 },
 "nbformat": 4,
 "nbformat_minor": 1
}
